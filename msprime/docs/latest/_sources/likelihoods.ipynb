{
 "cells": [
  {
   "cell_type": "markdown",
   "id": "worthy-flavor",
   "metadata": {},
   "source": [
    "(sec_likelihood)=\n",
    "\n",
    "# Computing likelihoods\n",
    "\n",
    "{func}`.log_arg_likelihood`                \n",
    ": Likelihood of an ARG topology            \n",
    "\n",
    "{func}`.log_mutation_likelihood`           \n",
    ": Likelihood of a set of mutations         \n",
    "\n",
    "\n",
    "`msprime` provides the capability to evaluate two sampling probabilities:\n",
    "that of a stored tree sequence for a given diploid effective population size\n",
    "{math}`N_e` and per-link, per-generation recombination probability {math}`r`\n",
    "under the standard ancestral recombination graph; and that of a pattern of\n",
    "mutations given a tree sequence and per-site, per-generation mutation\n",
    "probability {math}`\\mu` under the infinite sites model. In both cases,\n",
    "the tree sequence must conform to the `record_full_arg` option of\n",
    "the {func}`.simulate` function.\n",
    "\n",
    "The following sections illustrate the evaluation of these log likelihoods.\n",
    "\n",
    "(sec_likelihood_topology)=\n",
    "\n",
    "## Topology\n",
    "\n",
    "The following example simulates a tree sequence with 5 diploid samples\n",
    "and evaluates the likelihood of the realisation for various parameter\n",
    "combinations."
   ]
  },
  {
   "cell_type": "code",
   "execution_count": 1,
   "id": "legitimate-sugar",
   "metadata": {},
   "outputs": [
    {
     "name": "stdout",
     "output_type": "stream",
     "text": [
      "-1.7976931348623157e+308\n",
      "-50.65406911332121\n",
      "-34.34633889417085\n",
      "-109.91004433263002\n"
     ]
    }
   ],
   "source": [
    "    import msprime\n",
    "\n",
    "    ts = msprime.sim_ancestry(\n",
    "        5, recombination_rate=1, record_full_arg=True,\n",
    "        sequence_length=1, discrete_genome=False, random_seed=42)\n",
    "    print(msprime.log_arg_likelihood(ts, recombination_rate=0, Ne=1))\n",
    "    print(msprime.log_arg_likelihood(ts, recombination_rate=0.1, Ne=1))\n",
    "    print(msprime.log_arg_likelihood(ts, recombination_rate=1, Ne=1))\n",
    "    print(msprime.log_arg_likelihood(ts, recombination_rate=10, Ne=10))"
   ]
  },
  {
   "cell_type": "markdown",
   "id": "domestic-midwest",
   "metadata": {},
   "source": [
    "## Mutations\n",
    "\n",
    "The following example adds random mutations to the tree sequence\n",
    "generated in {ref}`sec_likelihood_topology` and evaluates the\n",
    "unnormalised log likelihood of the mutations given the tree sequence."
   ]
  },
  {
   "cell_type": "code",
   "execution_count": 2,
   "id": "fabulous-stuff",
   "metadata": {},
   "outputs": [
    {
     "name": "stdout",
     "output_type": "stream",
     "text": [
      "-inf\n",
      "-21.388260791541896\n",
      "-9.646968662129233\n",
      "-58.02017406357392\n"
     ]
    }
   ],
   "source": [
    "    ts = msprime.mutate(ts, rate=1, random_seed=42)\n",
    "    print(msprime.log_mutation_likelihood(ts, mutation_rate=0))\n",
    "    print(msprime.log_mutation_likelihood(ts, mutation_rate=0.1))\n",
    "    print(msprime.log_mutation_likelihood(ts, mutation_rate=1))\n",
    "    print(msprime.log_mutation_likelihood(ts, mutation_rate=10))"
   ]
  }
 ],
 "metadata": {
  "jupytext": {
   "text_representation": {
    "extension": ".md",
    "format_name": "myst",
    "format_version": 0.12,
    "jupytext_version": "1.9.1"
   }
  },
  "kernelspec": {
   "display_name": "Python 3",
   "language": "python",
   "name": "python3"
  },
  "language_info": {
   "codemirror_mode": {
    "name": "ipython",
    "version": 3
   },
   "file_extension": ".py",
   "mimetype": "text/x-python",
   "name": "python",
   "nbconvert_exporter": "python",
   "pygments_lexer": "ipython3",
   "version": "3.8.7"
  },
  "source_map": [
   12,
   45,
   55,
   63
  ]
 },
 "nbformat": 4,
 "nbformat_minor": 5
}