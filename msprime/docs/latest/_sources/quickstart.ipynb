{
 "cells": [
  {
   "cell_type": "markdown",
   "id": "extensive-reduction",
   "metadata": {},
   "source": [
    "(sec_quickstart)=\n",
    "\n",
    "# Quickstart\n",
    "\n",
    "This page gives some simple examples of how to use the major features\n",
    "of {program}`msprime`, with links to more detailed documentation\n",
    "and tutorial content.\n",
    "\n",
    "See the {ref}`sec_installation` page for instructions on installing \n",
    "{program}`msprime` (short version: ``pip install msprime`` or \n",
    "``conda install -c conda-forge msprime`` will work for most users).\n",
    "\n",
    "(sec_quickstart_ancestry)=\n",
    "\n",
    "## Ancestry\n",
    "\n",
    "Msprime simulates ancestral histories for a set of sample genomes \n",
    "using backwards-in-time population genetic models.\n",
    "Here we run a simple simulation of a short recombining sequence under\n",
    "human-like parameters:"
   ]
  },
  {
   "cell_type": "code",
   "execution_count": 1,
   "id": "surprising-buying",
   "metadata": {},
   "outputs": [
    {
     "data": {
      "image/svg+xml": [
       "<svg xmlns=\"http://www.w3.org/2000/svg\" xmlns:ev=\"http://www.w3.org/2001/xml-events\" xmlns:xlink=\"http://www.w3.org/1999/xlink\" baseProfile=\"full\" height=\"200\" version=\"1.1\" width=\"800\"><defs><style type=\"text/css\"><![CDATA[.axis {font-weight: bold}.tree, .axis {font-size: 14px; text-anchor:middle}.edge {stroke: black; fill: none}.node > .sym {fill: black; stroke: none}.tree text {dominant-baseline: middle}.tree .lab.lft {text-anchor: end}.tree .lab.rgt {text-anchor: start}.mut {fill: red; font-style: italic}]]></style></defs><g class=\"tree-sequence\"><g class=\"background\"><polygon fill=\"#F1F1F1\" points=\"20,185 20,180 20,160 20,0 210.0,0 210.0,160 41.432,180 41.432,185\"/><polygon fill=\"#F1F1F1\" points=\"138.864,185 138.864,180 400.0,160 400.0,0 590.0,0 590.0,160 628.152,180 628.152,185\"/></g><g class=\"trees\"><g class=\"treebox t0\" transform=\"translate(20 30)\"><g class=\"tree t0\"><g class=\"node n13 p0 root\" transform=\"translate(123.839 30.0)\"><g class=\"a13 i1 leaf node n3 p0 sample\" transform=\"translate(31.875 80.0)\"><path class=\"edge\" d=\"M 0 0 V -80.0 H -31.875\"/><circle class=\"sym\" cx=\"0\" cy=\"0\" r=\"3\"/><text class=\"lab\" transform=\"translate(0 12)\">3</text></g><g class=\"a13 node n10 p0\" transform=\"translate(-31.875 66.8389)\"><g class=\"a10 node n8 p0\" transform=\"translate(27.3214 10.2137)\"><g class=\"a8 i0 leaf node n1 p0 sample\" transform=\"translate(-12.1429 2.94735)\"><path class=\"edge\" d=\"M 0 0 V -2.94735 H 12.1429\"/><circle class=\"sym\" cx=\"0\" cy=\"0\" r=\"3\"/><text class=\"lab\" transform=\"translate(0 12)\">1</text></g><g class=\"a8 i2 leaf node n5 p0 sample\" transform=\"translate(12.1429 2.94735)\"><path class=\"edge\" d=\"M 0 0 V -2.94735 H -12.1429\"/><circle class=\"sym\" cx=\"0\" cy=\"0\" r=\"3\"/><text class=\"lab\" transform=\"translate(0 12)\">5</text></g><path class=\"edge\" d=\"M 0 0 V -10.2137 H -27.3214\"/><circle class=\"sym\" cx=\"0\" cy=\"0\" r=\"3\"/><text class=\"lab rgt\" transform=\"translate(3 -6)\">8</text></g><g class=\"a10 node n9 p0\" transform=\"translate(-27.3214 9.71179)\"><g class=\"a9 i2 leaf node n4 p0 sample\" transform=\"translate(18.2143 3.4493)\"><path class=\"edge\" d=\"M 0 0 V -3.4493 H -18.2143\"/><circle class=\"sym\" cx=\"0\" cy=\"0\" r=\"3\"/><text class=\"lab\" transform=\"translate(0 12)\">4</text></g><g class=\"a9 node n6 p0\" transform=\"translate(-18.2143 2.60093)\"><g class=\"a6 i0 leaf node n0 p0 sample\" transform=\"translate(-12.1429 0.848363)\"><path class=\"edge\" d=\"M 0 0 V -0.848363 H 12.1429\"/><circle class=\"sym\" cx=\"0\" cy=\"0\" r=\"3\"/><text class=\"lab\" transform=\"translate(0 12)\">0</text></g><g class=\"a6 i1 leaf node n2 p0 sample\" transform=\"translate(12.1429 0.848363)\"><path class=\"edge\" d=\"M 0 0 V -0.848363 H -12.1429\"/><circle class=\"sym\" cx=\"0\" cy=\"0\" r=\"3\"/><text class=\"lab\" transform=\"translate(0 12)\">2</text></g><path class=\"edge\" d=\"M 0 0 V -2.60093 H 18.2143\"/><circle class=\"sym\" cx=\"0\" cy=\"0\" r=\"3\"/><text class=\"lab lft\" transform=\"translate(-3 -6)\">6</text></g><path class=\"edge\" d=\"M 0 0 V -9.71179 H 27.3214\"/><circle class=\"sym\" cx=\"0\" cy=\"0\" r=\"3\"/><text class=\"lab lft\" transform=\"translate(-3 -6)\">9</text></g><path class=\"edge\" d=\"M 0 0 V -66.8389 H 31.875\"/><circle class=\"sym\" cx=\"0\" cy=\"0\" r=\"3\"/><text class=\"lab lft\" transform=\"translate(-3 -6)\">10</text></g><circle class=\"sym\" cx=\"0\" cy=\"0\" r=\"3\"/><text class=\"lab\" transform=\"translate(0 -10)\">13</text></g></g></g><g class=\"treebox t1\" transform=\"translate(210.0 30)\"><g class=\"tree t1\"><g class=\"node n12 p0 root\" transform=\"translate(123.839 50.4646)\"><g class=\"a12 i1 leaf node n3 p0 sample\" transform=\"translate(31.875 59.5354)\"><path class=\"edge\" d=\"M 0 0 V -59.5354 H -31.875\"/><circle class=\"sym\" cx=\"0\" cy=\"0\" r=\"3\"/><text class=\"lab\" transform=\"translate(0 12)\">3</text></g><g class=\"a12 node n10 p0\" transform=\"translate(-31.875 46.3743)\"><g class=\"a10 node n8 p0\" transform=\"translate(27.3214 10.2137)\"><g class=\"a8 i0 leaf node n1 p0 sample\" transform=\"translate(-12.1429 2.94735)\"><path class=\"edge\" d=\"M 0 0 V -2.94735 H 12.1429\"/><circle class=\"sym\" cx=\"0\" cy=\"0\" r=\"3\"/><text class=\"lab\" transform=\"translate(0 12)\">1</text></g><g class=\"a8 i2 leaf node n5 p0 sample\" transform=\"translate(12.1429 2.94735)\"><path class=\"edge\" d=\"M 0 0 V -2.94735 H -12.1429\"/><circle class=\"sym\" cx=\"0\" cy=\"0\" r=\"3\"/><text class=\"lab\" transform=\"translate(0 12)\">5</text></g><path class=\"edge\" d=\"M 0 0 V -10.2137 H -27.3214\"/><circle class=\"sym\" cx=\"0\" cy=\"0\" r=\"3\"/><text class=\"lab rgt\" transform=\"translate(3 -6)\">8</text></g><g class=\"a10 node n9 p0\" transform=\"translate(-27.3214 9.71179)\"><g class=\"a9 i2 leaf node n4 p0 sample\" transform=\"translate(18.2143 3.4493)\"><path class=\"edge\" d=\"M 0 0 V -3.4493 H -18.2143\"/><circle class=\"sym\" cx=\"0\" cy=\"0\" r=\"3\"/><text class=\"lab\" transform=\"translate(0 12)\">4</text></g><g class=\"a9 node n6 p0\" transform=\"translate(-18.2143 2.60093)\"><g class=\"a6 i0 leaf node n0 p0 sample\" transform=\"translate(-12.1429 0.848363)\"><path class=\"edge\" d=\"M 0 0 V -0.848363 H 12.1429\"/><circle class=\"sym\" cx=\"0\" cy=\"0\" r=\"3\"/><text class=\"lab\" transform=\"translate(0 12)\">0</text></g><g class=\"a6 i1 leaf node n2 p0 sample\" transform=\"translate(12.1429 0.848363)\"><path class=\"edge\" d=\"M 0 0 V -0.848363 H -12.1429\"/><circle class=\"sym\" cx=\"0\" cy=\"0\" r=\"3\"/><text class=\"lab\" transform=\"translate(0 12)\">2</text></g><path class=\"edge\" d=\"M 0 0 V -2.60093 H 18.2143\"/><circle class=\"sym\" cx=\"0\" cy=\"0\" r=\"3\"/><text class=\"lab lft\" transform=\"translate(-3 -6)\">6</text></g><path class=\"edge\" d=\"M 0 0 V -9.71179 H 27.3214\"/><circle class=\"sym\" cx=\"0\" cy=\"0\" r=\"3\"/><text class=\"lab lft\" transform=\"translate(-3 -6)\">9</text></g><path class=\"edge\" d=\"M 0 0 V -46.3743 H 31.875\"/><circle class=\"sym\" cx=\"0\" cy=\"0\" r=\"3\"/><text class=\"lab lft\" transform=\"translate(-3 -6)\">10</text></g><circle class=\"sym\" cx=\"0\" cy=\"0\" r=\"3\"/><text class=\"lab\" transform=\"translate(0 -10)\">12</text></g></g></g><g class=\"treebox t2\" transform=\"translate(400.0 30)\"><g class=\"tree t2\"><g class=\"node n11 p0 root\" transform=\"translate(123.839 83.7207)\"><g class=\"a11 i1 leaf node n3 p0 sample\" transform=\"translate(31.875 26.2793)\"><path class=\"edge\" d=\"M 0 0 V -26.2793 H -31.875\"/><circle class=\"sym\" cx=\"0\" cy=\"0\" r=\"3\"/><text class=\"lab\" transform=\"translate(0 12)\">3</text></g><g class=\"a11 node n10 p0\" transform=\"translate(-31.875 13.1182)\"><g class=\"a10 node n8 p0\" transform=\"translate(27.3214 10.2137)\"><g class=\"a8 i0 leaf node n1 p0 sample\" transform=\"translate(-12.1429 2.94735)\"><path class=\"edge\" d=\"M 0 0 V -2.94735 H 12.1429\"/><circle class=\"sym\" cx=\"0\" cy=\"0\" r=\"3\"/><text class=\"lab\" transform=\"translate(0 12)\">1</text></g><g class=\"a8 i2 leaf node n5 p0 sample\" transform=\"translate(12.1429 2.94735)\"><path class=\"edge\" d=\"M 0 0 V -2.94735 H -12.1429\"/><circle class=\"sym\" cx=\"0\" cy=\"0\" r=\"3\"/><text class=\"lab\" transform=\"translate(0 12)\">5</text></g><path class=\"edge\" d=\"M 0 0 V -10.2137 H -27.3214\"/><circle class=\"sym\" cx=\"0\" cy=\"0\" r=\"3\"/><text class=\"lab rgt\" transform=\"translate(3 -6)\">8</text></g><g class=\"a10 node n9 p0\" transform=\"translate(-27.3214 9.71179)\"><g class=\"a9 i2 leaf node n4 p0 sample\" transform=\"translate(18.2143 3.4493)\"><path class=\"edge\" d=\"M 0 0 V -3.4493 H -18.2143\"/><circle class=\"sym\" cx=\"0\" cy=\"0\" r=\"3\"/><text class=\"lab\" transform=\"translate(0 12)\">4</text></g><g class=\"a9 node n6 p0\" transform=\"translate(-18.2143 2.60093)\"><g class=\"a6 i0 leaf node n0 p0 sample\" transform=\"translate(-12.1429 0.848363)\"><path class=\"edge\" d=\"M 0 0 V -0.848363 H 12.1429\"/><circle class=\"sym\" cx=\"0\" cy=\"0\" r=\"3\"/><text class=\"lab\" transform=\"translate(0 12)\">0</text></g><g class=\"a6 i1 leaf node n2 p0 sample\" transform=\"translate(12.1429 0.848363)\"><path class=\"edge\" d=\"M 0 0 V -0.848363 H -12.1429\"/><circle class=\"sym\" cx=\"0\" cy=\"0\" r=\"3\"/><text class=\"lab\" transform=\"translate(0 12)\">2</text></g><path class=\"edge\" d=\"M 0 0 V -2.60093 H 18.2143\"/><circle class=\"sym\" cx=\"0\" cy=\"0\" r=\"3\"/><text class=\"lab lft\" transform=\"translate(-3 -6)\">6</text></g><path class=\"edge\" d=\"M 0 0 V -9.71179 H 27.3214\"/><circle class=\"sym\" cx=\"0\" cy=\"0\" r=\"3\"/><text class=\"lab lft\" transform=\"translate(-3 -6)\">9</text></g><path class=\"edge\" d=\"M 0 0 V -13.1182 H 31.875\"/><circle class=\"sym\" cx=\"0\" cy=\"0\" r=\"3\"/><text class=\"lab lft\" transform=\"translate(-3 -6)\">10</text></g><circle class=\"sym\" cx=\"0\" cy=\"0\" r=\"3\"/><text class=\"lab\" transform=\"translate(0 -10)\">11</text></g></g></g><g class=\"treebox t3\" transform=\"translate(590.0 30)\"><g class=\"tree t3\"><g class=\"node n11 p0 root\" transform=\"translate(123.839 83.7207)\"><g class=\"a11 i1 leaf node n3 p0 sample\" transform=\"translate(31.875 26.2793)\"><path class=\"edge\" d=\"M 0 0 V -26.2793 H -31.875\"/><circle class=\"sym\" cx=\"0\" cy=\"0\" r=\"3\"/><text class=\"lab\" transform=\"translate(0 12)\">3</text></g><g class=\"a11 node n10 p0\" transform=\"translate(-31.875 13.1182)\"><g class=\"a10 node n8 p0\" transform=\"translate(-27.3214 10.2137)\"><g class=\"a8 i2 leaf node n5 p0 sample\" transform=\"translate(18.2143 2.94735)\"><path class=\"edge\" d=\"M 0 0 V -2.94735 H -18.2143\"/><circle class=\"sym\" cx=\"0\" cy=\"0\" r=\"3\"/><text class=\"lab\" transform=\"translate(0 12)\">5</text></g><g class=\"a8 node n7 p0\" transform=\"translate(-18.2143 1.37635)\"><g class=\"a7 i0 leaf node n0 p0 sample\" transform=\"translate(-12.1429 1.571)\"><path class=\"edge\" d=\"M 0 0 V -1.571 H 12.1429\"/><circle class=\"sym\" cx=\"0\" cy=\"0\" r=\"3\"/><text class=\"lab\" transform=\"translate(0 12)\">0</text></g><g class=\"a7 i0 leaf node n1 p0 sample\" transform=\"translate(12.1429 1.571)\"><path class=\"edge\" d=\"M 0 0 V -1.571 H -12.1429\"/><circle class=\"sym\" cx=\"0\" cy=\"0\" r=\"3\"/><text class=\"lab\" transform=\"translate(0 12)\">1</text></g><path class=\"edge\" d=\"M 0 0 V -1.37635 H 18.2143\"/><circle class=\"sym\" cx=\"0\" cy=\"0\" r=\"3\"/><text class=\"lab lft\" transform=\"translate(-3 -6)\">7</text></g><path class=\"edge\" d=\"M 0 0 V -10.2137 H 27.3214\"/><circle class=\"sym\" cx=\"0\" cy=\"0\" r=\"3\"/><text class=\"lab lft\" transform=\"translate(-3 -6)\">8</text></g><g class=\"a10 node n9 p0\" transform=\"translate(27.3214 9.71179)\"><g class=\"a9 i2 leaf node n4 p0 sample\" transform=\"translate(12.1429 3.4493)\"><path class=\"edge\" d=\"M 0 0 V -3.4493 H -12.1429\"/><circle class=\"sym\" cx=\"0\" cy=\"0\" r=\"3\"/><text class=\"lab\" transform=\"translate(0 12)\">4</text></g><g class=\"a9 i1 leaf node n2 p0 sample\" transform=\"translate(-12.1429 3.4493)\"><path class=\"edge\" d=\"M 0 0 V -3.4493 H 12.1429\"/><circle class=\"sym\" cx=\"0\" cy=\"0\" r=\"3\"/><text class=\"lab\" transform=\"translate(0 12)\">2</text></g><path class=\"edge\" d=\"M 0 0 V -9.71179 H -27.3214\"/><circle class=\"sym\" cx=\"0\" cy=\"0\" r=\"3\"/><text class=\"lab rgt\" transform=\"translate(3 -6)\">9</text></g><path class=\"edge\" d=\"M 0 0 V -13.1182 H 31.875\"/><circle class=\"sym\" cx=\"0\" cy=\"0\" r=\"3\"/><text class=\"lab lft\" transform=\"translate(-3 -6)\">10</text></g><circle class=\"sym\" cx=\"0\" cy=\"0\" r=\"3\"/><text class=\"lab\" transform=\"translate(0 -10)\">11</text></g></g></g></g><g class=\"axis\"><line stroke=\"black\" x1=\"20\" x2=\"780\" y1=\"180\" y2=\"180\"/><line stroke=\"black\" x1=\"20\" x2=\"20\" y1=\"180\" y2=\"185\"/><g transform=\"translate(20, 200)\"><text font-size=\"14\" font-weight=\"bold\" text-anchor=\"middle\">0</text></g><line stroke=\"black\" x1=\"41.432\" x2=\"41.432\" y1=\"180\" y2=\"185\"/><g transform=\"translate(41.432, 200)\"><text font-size=\"14\" font-weight=\"bold\" text-anchor=\"middle\">141</text></g><line stroke=\"black\" x1=\"138.864\" x2=\"138.864\" y1=\"180\" y2=\"185\"/><g transform=\"translate(138.864, 200)\"><text font-size=\"14\" font-weight=\"bold\" text-anchor=\"middle\">782</text></g><line stroke=\"black\" x1=\"628.152\" x2=\"628.152\" y1=\"180\" y2=\"185\"/><g transform=\"translate(628.152, 200)\"><text font-size=\"14\" font-weight=\"bold\" text-anchor=\"middle\">4001</text></g><line stroke=\"black\" x1=\"780.0\" x2=\"780.0\" y1=\"180\" y2=\"185\"/><g transform=\"translate(780.0, 200)\"><text font-size=\"14\" font-weight=\"bold\" text-anchor=\"middle\">5000</text></g></g></g></svg>"
      ],
      "text/plain": [
       "<IPython.core.display.SVG object>"
      ]
     },
     "execution_count": 1,
     "metadata": {
      "filenames": {
       "image/svg+xml": "/home/runner/work/tskit-site/tskit-site/docs/_build/jupyter_execute/quickstart_1_0.svg"
      }
     },
     "output_type": "execute_result"
    }
   ],
   "source": [
    "    import msprime\n",
    "    from IPython.display import SVG\n",
    "\n",
    "    # Simulate an ancestral history for 3 diploid samples under the coalescent\n",
    "    # with recombination on a 5kb region with human-like parameters.\n",
    "    ts = msprime.sim_ancestry(\n",
    "        samples=3, \n",
    "        recombination_rate=1e-8, \n",
    "        sequence_length=5_000,\n",
    "        population_size=10_000, \n",
    "        random_seed=123456)\n",
    "    # Visualise the simulated ancestral history.\n",
    "    SVG(ts.draw_svg())"
   ]
  },
  {
   "cell_type": "markdown",
   "id": "embedded-confidence",
   "metadata": {},
   "source": [
    "In this example we simulate the ancestral history of three diploid \n",
    "individuals (see {ref}`sec_ancestry_samples` and {ref}`sec_ancestry_ploidy`)\n",
    "for a 5kb sequence with a \n",
    "[recombination](<https://en.wikipedia.org/wiki/Genetic_recombination>)\n",
    "rate of {math}`10^{-8}` \n",
    "(see {ref}`sec_ancestry_genome_properties`)\n",
    "from a population with a constant size of 10,000 (see \n",
    "the {ref}`sec_quickstart_demography` section below)\n",
    "under the default \n",
    "[coalescent](<https://en.wikipedia.org/wiki/Coalescent_theory>)\n",
    "ancestry model (see the {ref}`sec_ancestry_models` for details on \n",
    "other available models).\n",
    "To ensure that \n",
    "the output of this example is predictable, we set a random seed \n",
    "(see {ref}`sec_ancestry_random_seed`).\n",
    "\n",
    "When recombination is present, the ancestry of a sample of DNA sequences\n",
    "cannot be represented by a single genealogical tree relating the \n",
    "samples to their genetic ancestors; there is instead\n",
    "a *sequence* of highly correlated trees along the genome.\n",
    "The result of our simulation is therefore a [tree sequence](https://tskit.dev)\n",
    "object from the {ref}`tskit <tskit:sec_introduction>` library,\n",
    "which provides a rich suite of operations for \n",
    "analysing these genealogical histories: see the \n",
    "{ref}`tutorials:sec_tskit_getting_started` tutorial for help. \n",
    "In this example we show a visualisation\n",
    "of the four different trees along the 5kb region \n",
    "(see the {ref}`tutorials:sec_tskit_viz` tutorial for more \n",
    "examples).  Because we have specified three diploid sample \n",
    "*individuals*, each of these trees has 6 \"sample\" nodes \n",
    "(the \"leaves\" or \"tips\"), because each diploid individual\n",
    "has two monoploid genomes (see {ref}`sec_ancestry_samples`).\n",
    "\n",
    "See the {ref}`sec_ancestry` section for more details on \n",
    "ancestry simulations.\n",
    "\n",
    "## Mutations\n",
    "\n",
    "```{eval-rst}\n",
    ".. todo:: This is a WIP\n",
    "```\n",
    "\n",
    "The {func}`.sim_ancestry` function generates a simulated ancestral\n",
    "history for some samples. \n",
    "If we want [genome sequence](<https://en.wikipedia.org/wiki/Genome>)\n",
    "we must also simulate some\n",
    "[mutations](<https://en.wikipedia.org/wiki/Mutation>) on these trees.\n",
    "However, it's important to note that it's not always necessary to \n",
    "simulate mutations in order to use the simulations; often, it's \n",
    "better *not to*; see the \n",
    "% TODO enable this once the tutorials build is fixed\n",
    "% {ref}`tutorials:sec_tskit_no_mutations` \n",
    "tutorial for more information."
   ]
  },
  {
   "cell_type": "code",
   "execution_count": 2,
   "id": "generic-minister",
   "metadata": {},
   "outputs": [
    {
     "data": {
      "text/html": [
       "\n",
       "            <div>\n",
       "                <style scoped=\"\">\n",
       "                    .tskit-table tbody tr th:only-of-type {vertical-align: middle;}\n",
       "                    .tskit-table tbody tr th {vertical-align: top;}\n",
       "                    .tskit-table tbody td {text-align: right;}\n",
       "                </style>\n",
       "                <table border=\"1\" class=\"tskit-table\">\n",
       "                    <thead>\n",
       "                        <tr>\n",
       "                            <th>id</th><th>position</th><th>ancestral_state</th><th>metadata</th>\n",
       "                        </tr>\n",
       "                    </thead>\n",
       "                    <tbody>\n",
       "                        <tr><td>0</td><td>90.00000000</td><td>T</td><td></td></tr>\n",
       "<tr><td>1</td><td>333.00000000</td><td>G</td><td></td></tr>\n",
       "<tr><td>2</td><td>819.00000000</td><td>T</td><td></td></tr>\n",
       "<tr><td>3</td><td>3204.00000000</td><td>A</td><td></td></tr>\n",
       "\n",
       "                    </tbody>\n",
       "                </table>\n",
       "            </div>\n"
      ],
      "text/plain": [
       "<tskit.tables.SiteTable at 0x7f1912561160>"
      ]
     },
     "execution_count": 2,
     "metadata": {},
     "output_type": "execute_result"
    }
   ],
   "source": [
    "mutated_ts = msprime.sim_mutations(ts, rate=1e-8, random_seed=54321)\n",
    "mutated_ts.tables.sites"
   ]
  },
  {
   "cell_type": "code",
   "execution_count": 3,
   "id": "former-exhibition",
   "metadata": {},
   "outputs": [
    {
     "data": {
      "text/html": [
       "\n",
       "            <div>\n",
       "                <style scoped=\"\">\n",
       "                    .tskit-table tbody tr th:only-of-type {vertical-align: middle;}\n",
       "                    .tskit-table tbody tr th {vertical-align: top;}\n",
       "                    .tskit-table tbody td {text-align: right;}\n",
       "                </style>\n",
       "                <table border=\"1\" class=\"tskit-table\">\n",
       "                    <thead>\n",
       "                        <tr>\n",
       "                            <th>id</th><th>site</th><th>node</th><th>time</th><th>derived_state</th><th>parent</th><th>metadata</th>\n",
       "                        </tr>\n",
       "                    </thead>\n",
       "                    <tbody>\n",
       "                        <tr><td>0</td><td>0</td><td>10</td><td>12191.4064954057</td><td>G</td><td>-1</td><td></td></tr>\n",
       "<tr><td>1</td><td>1</td><td>10</td><td>44173.26473294006</td><td>C</td><td>-1</td><td></td></tr>\n",
       "<tr><td>2</td><td>2</td><td>9</td><td>9597.219523507081</td><td>G</td><td>-1</td><td></td></tr>\n",
       "<tr><td>3</td><td>3</td><td>3</td><td>1158.4291490099815</td><td>C</td><td>-1</td><td></td></tr>\n",
       "\n",
       "                    </tbody>\n",
       "                </table>\n",
       "            </div>\n"
      ],
      "text/plain": [
       "<tskit.tables.MutationTable at 0x7f19125610d0>"
      ]
     },
     "execution_count": 3,
     "metadata": {},
     "output_type": "execute_result"
    }
   ],
   "source": [
    "mutated_ts.tables.mutations"
   ]
  },
  {
   "cell_type": "code",
   "execution_count": 4,
   "id": "initial-receptor",
   "metadata": {},
   "outputs": [
    {
     "data": {
      "image/svg+xml": [
       "<svg xmlns=\"http://www.w3.org/2000/svg\" xmlns:ev=\"http://www.w3.org/2001/xml-events\" xmlns:xlink=\"http://www.w3.org/1999/xlink\" baseProfile=\"full\" height=\"200\" version=\"1.1\" width=\"800\"><defs><style type=\"text/css\"><![CDATA[.axis {font-weight: bold}.tree, .axis {font-size: 14px; text-anchor:middle}.edge {stroke: black; fill: none}.node > .sym {fill: black; stroke: none}.tree text {dominant-baseline: middle}.tree .lab.lft {text-anchor: end}.tree .lab.rgt {text-anchor: start}.mut {fill: red; font-style: italic}]]></style></defs><g class=\"tree-sequence\"><g class=\"background\"><polygon fill=\"#F1F1F1\" points=\"20,185 20,180 20,160 20,0 210.0,0 210.0,160 41.432,180 41.432,185\"/><polygon fill=\"#F1F1F1\" points=\"138.864,185 138.864,180 400.0,160 400.0,0 590.0,0 590.0,160 628.152,180 628.152,185\"/></g><g class=\"trees\"><g class=\"treebox t0\" transform=\"translate(20 30)\"><g class=\"tree t0\"><g class=\"node n13 p0 root\" transform=\"translate(123.839 30.0)\"><g class=\"a13 i1 leaf node n3 p0 sample\" transform=\"translate(31.875 80.0)\"><path class=\"edge\" d=\"M 0 0 V -80.0 H -31.875\"/><circle class=\"sym\" cx=\"0\" cy=\"0\" r=\"3\"/><text class=\"lab\" transform=\"translate(0 12)\">3</text></g><g class=\"a13 m0 node n10 p0 s0\" transform=\"translate(-31.875 66.8389)\"><g class=\"a10 node n8 p0\" transform=\"translate(27.3214 10.2137)\"><g class=\"a8 i0 leaf node n1 p0 sample\" transform=\"translate(-12.1429 2.94735)\"><path class=\"edge\" d=\"M 0 0 V -2.94735 H 12.1429\"/><circle class=\"sym\" cx=\"0\" cy=\"0\" r=\"3\"/><text class=\"lab\" transform=\"translate(0 12)\">1</text></g><g class=\"a8 i2 leaf node n5 p0 sample\" transform=\"translate(12.1429 2.94735)\"><path class=\"edge\" d=\"M 0 0 V -2.94735 H -12.1429\"/><circle class=\"sym\" cx=\"0\" cy=\"0\" r=\"3\"/><text class=\"lab\" transform=\"translate(0 12)\">5</text></g><path class=\"edge\" d=\"M 0 0 V -10.2137 H -27.3214\"/><circle class=\"sym\" cx=\"0\" cy=\"0\" r=\"3\"/><text class=\"lab rgt\" transform=\"translate(3 -6)\">8</text></g><g class=\"a10 node n9 p0\" transform=\"translate(-27.3214 9.71179)\"><g class=\"a9 i2 leaf node n4 p0 sample\" transform=\"translate(18.2143 3.4493)\"><path class=\"edge\" d=\"M 0 0 V -3.4493 H -18.2143\"/><circle class=\"sym\" cx=\"0\" cy=\"0\" r=\"3\"/><text class=\"lab\" transform=\"translate(0 12)\">4</text></g><g class=\"a9 node n6 p0\" transform=\"translate(-18.2143 2.60093)\"><g class=\"a6 i0 leaf node n0 p0 sample\" transform=\"translate(-12.1429 0.848363)\"><path class=\"edge\" d=\"M 0 0 V -0.848363 H 12.1429\"/><circle class=\"sym\" cx=\"0\" cy=\"0\" r=\"3\"/><text class=\"lab\" transform=\"translate(0 12)\">0</text></g><g class=\"a6 i1 leaf node n2 p0 sample\" transform=\"translate(12.1429 0.848363)\"><path class=\"edge\" d=\"M 0 0 V -0.848363 H -12.1429\"/><circle class=\"sym\" cx=\"0\" cy=\"0\" r=\"3\"/><text class=\"lab\" transform=\"translate(0 12)\">2</text></g><path class=\"edge\" d=\"M 0 0 V -2.60093 H 18.2143\"/><circle class=\"sym\" cx=\"0\" cy=\"0\" r=\"3\"/><text class=\"lab lft\" transform=\"translate(-3 -6)\">6</text></g><path class=\"edge\" d=\"M 0 0 V -9.71179 H 27.3214\"/><circle class=\"sym\" cx=\"0\" cy=\"0\" r=\"3\"/><text class=\"lab lft\" transform=\"translate(-3 -6)\">9</text></g><path class=\"edge\" d=\"M 0 0 V -66.8389 H 31.875\"/><circle class=\"sym\" cx=\"0\" cy=\"0\" r=\"3\"/><text class=\"lab lft\" transform=\"translate(-3 -6)\">10</text><g class=\"mut m0 s0\" transform=\"translate(0 -33.4195)\"><rect class=\"sym\" height=\"6\" transform=\"translate(-3 -3)\" width=\"6\" x=\"0\" y=\"0\"/><text class=\"lab lft\" transform=\"translate(-5 0)\">0</text></g></g><circle class=\"sym\" cx=\"0\" cy=\"0\" r=\"3\"/><text class=\"lab\" transform=\"translate(0 -10)\">13</text></g></g></g><g class=\"treebox t1\" transform=\"translate(210.0 30)\"><g class=\"tree t1\"><g class=\"node n12 p0 root\" transform=\"translate(123.839 50.4646)\"><g class=\"a12 i1 leaf node n3 p0 sample\" transform=\"translate(31.875 59.5354)\"><path class=\"edge\" d=\"M 0 0 V -59.5354 H -31.875\"/><circle class=\"sym\" cx=\"0\" cy=\"0\" r=\"3\"/><text class=\"lab\" transform=\"translate(0 12)\">3</text></g><g class=\"a12 m1 node n10 p0 s1\" transform=\"translate(-31.875 46.3743)\"><g class=\"a10 node n8 p0\" transform=\"translate(27.3214 10.2137)\"><g class=\"a8 i0 leaf node n1 p0 sample\" transform=\"translate(-12.1429 2.94735)\"><path class=\"edge\" d=\"M 0 0 V -2.94735 H 12.1429\"/><circle class=\"sym\" cx=\"0\" cy=\"0\" r=\"3\"/><text class=\"lab\" transform=\"translate(0 12)\">1</text></g><g class=\"a8 i2 leaf node n5 p0 sample\" transform=\"translate(12.1429 2.94735)\"><path class=\"edge\" d=\"M 0 0 V -2.94735 H -12.1429\"/><circle class=\"sym\" cx=\"0\" cy=\"0\" r=\"3\"/><text class=\"lab\" transform=\"translate(0 12)\">5</text></g><path class=\"edge\" d=\"M 0 0 V -10.2137 H -27.3214\"/><circle class=\"sym\" cx=\"0\" cy=\"0\" r=\"3\"/><text class=\"lab rgt\" transform=\"translate(3 -6)\">8</text></g><g class=\"a10 node n9 p0\" transform=\"translate(-27.3214 9.71179)\"><g class=\"a9 i2 leaf node n4 p0 sample\" transform=\"translate(18.2143 3.4493)\"><path class=\"edge\" d=\"M 0 0 V -3.4493 H -18.2143\"/><circle class=\"sym\" cx=\"0\" cy=\"0\" r=\"3\"/><text class=\"lab\" transform=\"translate(0 12)\">4</text></g><g class=\"a9 node n6 p0\" transform=\"translate(-18.2143 2.60093)\"><g class=\"a6 i0 leaf node n0 p0 sample\" transform=\"translate(-12.1429 0.848363)\"><path class=\"edge\" d=\"M 0 0 V -0.848363 H 12.1429\"/><circle class=\"sym\" cx=\"0\" cy=\"0\" r=\"3\"/><text class=\"lab\" transform=\"translate(0 12)\">0</text></g><g class=\"a6 i1 leaf node n2 p0 sample\" transform=\"translate(12.1429 0.848363)\"><path class=\"edge\" d=\"M 0 0 V -0.848363 H -12.1429\"/><circle class=\"sym\" cx=\"0\" cy=\"0\" r=\"3\"/><text class=\"lab\" transform=\"translate(0 12)\">2</text></g><path class=\"edge\" d=\"M 0 0 V -2.60093 H 18.2143\"/><circle class=\"sym\" cx=\"0\" cy=\"0\" r=\"3\"/><text class=\"lab lft\" transform=\"translate(-3 -6)\">6</text></g><path class=\"edge\" d=\"M 0 0 V -9.71179 H 27.3214\"/><circle class=\"sym\" cx=\"0\" cy=\"0\" r=\"3\"/><text class=\"lab lft\" transform=\"translate(-3 -6)\">9</text></g><path class=\"edge\" d=\"M 0 0 V -46.3743 H 31.875\"/><circle class=\"sym\" cx=\"0\" cy=\"0\" r=\"3\"/><text class=\"lab lft\" transform=\"translate(-3 -6)\">10</text><g class=\"mut m1 s1\" transform=\"translate(0 -23.1871)\"><rect class=\"sym\" height=\"6\" transform=\"translate(-3 -3)\" width=\"6\" x=\"0\" y=\"0\"/><text class=\"lab lft\" transform=\"translate(-5 0)\">1</text></g></g><circle class=\"sym\" cx=\"0\" cy=\"0\" r=\"3\"/><text class=\"lab\" transform=\"translate(0 -10)\">12</text></g></g></g><g class=\"treebox t2\" transform=\"translate(400.0 30)\"><g class=\"tree t2\"><g class=\"node n11 p0 root\" transform=\"translate(123.839 83.7207)\"><g class=\"a11 i1 leaf m3 node n3 p0 s3 sample\" transform=\"translate(31.875 26.2793)\"><path class=\"edge\" d=\"M 0 0 V -26.2793 H -31.875\"/><circle class=\"sym\" cx=\"0\" cy=\"0\" r=\"3\"/><text class=\"lab\" transform=\"translate(0 12)\">3</text><g class=\"mut m3 s3\" transform=\"translate(0 -13.1396)\"><rect class=\"sym\" height=\"6\" transform=\"translate(-3 -3)\" width=\"6\" x=\"0\" y=\"0\"/><text class=\"lab rgt\" transform=\"translate(5 0)\">3</text></g></g><g class=\"a11 node n10 p0\" transform=\"translate(-31.875 13.1182)\"><g class=\"a10 node n8 p0\" transform=\"translate(27.3214 10.2137)\"><g class=\"a8 i0 leaf node n1 p0 sample\" transform=\"translate(-12.1429 2.94735)\"><path class=\"edge\" d=\"M 0 0 V -2.94735 H 12.1429\"/><circle class=\"sym\" cx=\"0\" cy=\"0\" r=\"3\"/><text class=\"lab\" transform=\"translate(0 12)\">1</text></g><g class=\"a8 i2 leaf node n5 p0 sample\" transform=\"translate(12.1429 2.94735)\"><path class=\"edge\" d=\"M 0 0 V -2.94735 H -12.1429\"/><circle class=\"sym\" cx=\"0\" cy=\"0\" r=\"3\"/><text class=\"lab\" transform=\"translate(0 12)\">5</text></g><path class=\"edge\" d=\"M 0 0 V -10.2137 H -27.3214\"/><circle class=\"sym\" cx=\"0\" cy=\"0\" r=\"3\"/><text class=\"lab rgt\" transform=\"translate(3 -6)\">8</text></g><g class=\"a10 m2 node n9 p0 s2\" transform=\"translate(-27.3214 9.71179)\"><g class=\"a9 i2 leaf node n4 p0 sample\" transform=\"translate(18.2143 3.4493)\"><path class=\"edge\" d=\"M 0 0 V -3.4493 H -18.2143\"/><circle class=\"sym\" cx=\"0\" cy=\"0\" r=\"3\"/><text class=\"lab\" transform=\"translate(0 12)\">4</text></g><g class=\"a9 node n6 p0\" transform=\"translate(-18.2143 2.60093)\"><g class=\"a6 i0 leaf node n0 p0 sample\" transform=\"translate(-12.1429 0.848363)\"><path class=\"edge\" d=\"M 0 0 V -0.848363 H 12.1429\"/><circle class=\"sym\" cx=\"0\" cy=\"0\" r=\"3\"/><text class=\"lab\" transform=\"translate(0 12)\">0</text></g><g class=\"a6 i1 leaf node n2 p0 sample\" transform=\"translate(12.1429 0.848363)\"><path class=\"edge\" d=\"M 0 0 V -0.848363 H -12.1429\"/><circle class=\"sym\" cx=\"0\" cy=\"0\" r=\"3\"/><text class=\"lab\" transform=\"translate(0 12)\">2</text></g><path class=\"edge\" d=\"M 0 0 V -2.60093 H 18.2143\"/><circle class=\"sym\" cx=\"0\" cy=\"0\" r=\"3\"/><text class=\"lab lft\" transform=\"translate(-3 -6)\">6</text></g><path class=\"edge\" d=\"M 0 0 V -9.71179 H 27.3214\"/><circle class=\"sym\" cx=\"0\" cy=\"0\" r=\"3\"/><text class=\"lab lft\" transform=\"translate(-3 -6)\">9</text><g class=\"mut m2 s2\" transform=\"translate(0 -4.85589)\"><rect class=\"sym\" height=\"6\" transform=\"translate(-3 -3)\" width=\"6\" x=\"0\" y=\"0\"/><text class=\"lab lft\" transform=\"translate(-5 0)\">2</text></g></g><path class=\"edge\" d=\"M 0 0 V -13.1182 H 31.875\"/><circle class=\"sym\" cx=\"0\" cy=\"0\" r=\"3\"/><text class=\"lab lft\" transform=\"translate(-3 -6)\">10</text></g><circle class=\"sym\" cx=\"0\" cy=\"0\" r=\"3\"/><text class=\"lab\" transform=\"translate(0 -10)\">11</text></g></g></g><g class=\"treebox t3\" transform=\"translate(590.0 30)\"><g class=\"tree t3\"><g class=\"node n11 p0 root\" transform=\"translate(123.839 83.7207)\"><g class=\"a11 i1 leaf node n3 p0 sample\" transform=\"translate(31.875 26.2793)\"><path class=\"edge\" d=\"M 0 0 V -26.2793 H -31.875\"/><circle class=\"sym\" cx=\"0\" cy=\"0\" r=\"3\"/><text class=\"lab\" transform=\"translate(0 12)\">3</text></g><g class=\"a11 node n10 p0\" transform=\"translate(-31.875 13.1182)\"><g class=\"a10 node n8 p0\" transform=\"translate(-27.3214 10.2137)\"><g class=\"a8 i2 leaf node n5 p0 sample\" transform=\"translate(18.2143 2.94735)\"><path class=\"edge\" d=\"M 0 0 V -2.94735 H -18.2143\"/><circle class=\"sym\" cx=\"0\" cy=\"0\" r=\"3\"/><text class=\"lab\" transform=\"translate(0 12)\">5</text></g><g class=\"a8 node n7 p0\" transform=\"translate(-18.2143 1.37635)\"><g class=\"a7 i0 leaf node n0 p0 sample\" transform=\"translate(-12.1429 1.571)\"><path class=\"edge\" d=\"M 0 0 V -1.571 H 12.1429\"/><circle class=\"sym\" cx=\"0\" cy=\"0\" r=\"3\"/><text class=\"lab\" transform=\"translate(0 12)\">0</text></g><g class=\"a7 i0 leaf node n1 p0 sample\" transform=\"translate(12.1429 1.571)\"><path class=\"edge\" d=\"M 0 0 V -1.571 H -12.1429\"/><circle class=\"sym\" cx=\"0\" cy=\"0\" r=\"3\"/><text class=\"lab\" transform=\"translate(0 12)\">1</text></g><path class=\"edge\" d=\"M 0 0 V -1.37635 H 18.2143\"/><circle class=\"sym\" cx=\"0\" cy=\"0\" r=\"3\"/><text class=\"lab lft\" transform=\"translate(-3 -6)\">7</text></g><path class=\"edge\" d=\"M 0 0 V -10.2137 H 27.3214\"/><circle class=\"sym\" cx=\"0\" cy=\"0\" r=\"3\"/><text class=\"lab lft\" transform=\"translate(-3 -6)\">8</text></g><g class=\"a10 node n9 p0\" transform=\"translate(27.3214 9.71179)\"><g class=\"a9 i2 leaf node n4 p0 sample\" transform=\"translate(12.1429 3.4493)\"><path class=\"edge\" d=\"M 0 0 V -3.4493 H -12.1429\"/><circle class=\"sym\" cx=\"0\" cy=\"0\" r=\"3\"/><text class=\"lab\" transform=\"translate(0 12)\">4</text></g><g class=\"a9 i1 leaf node n2 p0 sample\" transform=\"translate(-12.1429 3.4493)\"><path class=\"edge\" d=\"M 0 0 V -3.4493 H 12.1429\"/><circle class=\"sym\" cx=\"0\" cy=\"0\" r=\"3\"/><text class=\"lab\" transform=\"translate(0 12)\">2</text></g><path class=\"edge\" d=\"M 0 0 V -9.71179 H -27.3214\"/><circle class=\"sym\" cx=\"0\" cy=\"0\" r=\"3\"/><text class=\"lab rgt\" transform=\"translate(3 -6)\">9</text></g><path class=\"edge\" d=\"M 0 0 V -13.1182 H 31.875\"/><circle class=\"sym\" cx=\"0\" cy=\"0\" r=\"3\"/><text class=\"lab lft\" transform=\"translate(-3 -6)\">10</text></g><circle class=\"sym\" cx=\"0\" cy=\"0\" r=\"3\"/><text class=\"lab\" transform=\"translate(0 -10)\">11</text></g></g></g></g><g class=\"axis\"><line stroke=\"black\" x1=\"20\" x2=\"780\" y1=\"180\" y2=\"180\"/><line stroke=\"black\" x1=\"20\" x2=\"20\" y1=\"180\" y2=\"185\"/><g transform=\"translate(20, 200)\"><text font-size=\"14\" font-weight=\"bold\" text-anchor=\"middle\">0</text></g><line stroke=\"black\" x1=\"41.432\" x2=\"41.432\" y1=\"180\" y2=\"185\"/><g transform=\"translate(41.432, 200)\"><text font-size=\"14\" font-weight=\"bold\" text-anchor=\"middle\">141</text></g><line stroke=\"black\" x1=\"138.864\" x2=\"138.864\" y1=\"180\" y2=\"185\"/><g transform=\"translate(138.864, 200)\"><text font-size=\"14\" font-weight=\"bold\" text-anchor=\"middle\">782</text></g><line stroke=\"black\" x1=\"628.152\" x2=\"628.152\" y1=\"180\" y2=\"185\"/><g transform=\"translate(628.152, 200)\"><text font-size=\"14\" font-weight=\"bold\" text-anchor=\"middle\">4001</text></g><line stroke=\"black\" x1=\"780.0\" x2=\"780.0\" y1=\"180\" y2=\"185\"/><g transform=\"translate(780.0, 200)\"><text font-size=\"14\" font-weight=\"bold\" text-anchor=\"middle\">5000</text></g></g></g></svg>"
      ],
      "text/plain": [
       "<IPython.core.display.SVG object>"
      ]
     },
     "execution_count": 4,
     "metadata": {
      "filenames": {
       "image/svg+xml": "/home/runner/work/tskit-site/tskit-site/docs/_build/jupyter_execute/quickstart_5_0.svg"
      }
     },
     "output_type": "execute_result"
    }
   ],
   "source": [
    "SVG(mutated_ts.draw_svg())"
   ]
  },
  {
   "cell_type": "code",
   "execution_count": 5,
   "id": "specialized-marker",
   "metadata": {},
   "outputs": [
    {
     "name": "stdout",
     "output_type": "stream",
     "text": [
      "{'site': {'id': 0, 'position': 90.0, 'ancestral_state': 'T', 'mutations': [{'id': 0, 'site': 0, 'node': 10, 'time': 12191.4064954057, 'derived_state': 'G', 'parent': -1, 'metadata': b''}], 'metadata': b''}, 'alleles': ('T', 'G'), 'has_missing_data': False, 'num_alleles': 2, 'genotypes': array([1, 1, 1, 0, 1, 1], dtype=int8), 'position': 90.0, 'index': 0}\n",
      "{'site': {'id': 1, 'position': 333.0, 'ancestral_state': 'G', 'mutations': [{'id': 1, 'site': 1, 'node': 10, 'time': 44173.26473294006, 'derived_state': 'C', 'parent': -1, 'metadata': b''}], 'metadata': b''}, 'alleles': ('G', 'C'), 'has_missing_data': False, 'num_alleles': 2, 'genotypes': array([1, 1, 1, 0, 1, 1], dtype=int8), 'position': 333.0, 'index': 1}\n",
      "{'site': {'id': 2, 'position': 819.0, 'ancestral_state': 'T', 'mutations': [{'id': 2, 'site': 2, 'node': 9, 'time': 9597.219523507081, 'derived_state': 'G', 'parent': -1, 'metadata': b''}], 'metadata': b''}, 'alleles': ('T', 'G'), 'has_missing_data': False, 'num_alleles': 2, 'genotypes': array([1, 0, 1, 0, 1, 0], dtype=int8), 'position': 819.0, 'index': 2}\n",
      "{'site': {'id': 3, 'position': 3204.0, 'ancestral_state': 'A', 'mutations': [{'id': 3, 'site': 3, 'node': 3, 'time': 1158.4291490099815, 'derived_state': 'C', 'parent': -1, 'metadata': b''}], 'metadata': b''}, 'alleles': ('A', 'C'), 'has_missing_data': False, 'num_alleles': 2, 'genotypes': array([0, 0, 0, 1, 0, 0], dtype=int8), 'position': 3204.0, 'index': 3}\n"
     ]
    }
   ],
   "source": [
    "for variant in mutated_ts.variants():\n",
    "    print(variant)"
   ]
  },
  {
   "cell_type": "markdown",
   "id": "oriental-pottery",
   "metadata": {},
   "source": [
    "```{eval-rst}\n",
    ".. todo:: Not sure how much detail we want to get into here. The salient points\n",
    "    we want to get across are that mutations are not automatically part of the \n",
    "    simulation, that we only output sites with mutations and we have efficient\n",
    "    ways to work with the results. A lot of this should be pointing to the \n",
    "    \"getting started with tskit\" tutorial.\n",
    "\n",
    "```\n",
    "\n",
    "```{eval-rst}\n",
    ".. todo:: List of pointers to the relevant sections of the documentation.\n",
    "\n",
    "```\n",
    "\n",
    "(sec_quickstart_demography)=\n",
    "\n",
    "## Demography\n",
    "\n",
    "By default ancestry simulations assume an extremely simple\n",
    "population structure in which a single randomly mating population\n",
    "of a fixed size exists for all time. For most simulations this\n",
    "is an unrealistic assumption, and so msprime provides a way\n",
    "to describe more complex demographic histories."
   ]
  },
  {
   "cell_type": "code",
   "execution_count": 6,
   "id": "tough-possession",
   "metadata": {},
   "outputs": [
    {
     "data": {
      "text/html": [
       "\n",
       "            <div>\n",
       "                <style scoped=\"\">\n",
       "                    .tskit-table tbody tr th:only-of-type {vertical-align: middle;}\n",
       "                    .tskit-table tbody tr th {vertical-align: top;}\n",
       "                    .tskit-table tbody td {text-align: right;}\n",
       "                </style>\n",
       "                <table border=\"1\" class=\"tskit-table\">\n",
       "                    <thead>\n",
       "                        <tr>\n",
       "                            <th>id</th><th>flags</th><th>population</th><th>individual</th><th>time</th><th>metadata</th>\n",
       "                        </tr>\n",
       "                    </thead>\n",
       "                    <tbody>\n",
       "                        <tr><td>0</td><td>1</td><td>0</td><td>0</td><td>0.00000000000000</td><td></td></tr>\n",
       "<tr><td>1</td><td>1</td><td>0</td><td>0</td><td>0.00000000000000</td><td></td></tr>\n",
       "<tr><td>2</td><td>1</td><td>9</td><td>1</td><td>0.00000000000000</td><td></td></tr>\n",
       "<tr><td>3</td><td>1</td><td>9</td><td>1</td><td>0.00000000000000</td><td></td></tr>\n",
       "<tr><td>4</td><td>0</td><td>1</td><td>-1</td><td>858.95831903365752</td><td></td></tr>\n",
       "<tr><td>5</td><td>0</td><td>5</td><td>-1</td><td>1045.59130258085588</td><td></td></tr>\n",
       "<tr><td>6</td><td>0</td><td>2</td><td>-1</td><td>6799.39277301452785</td><td></td></tr>\n",
       "\n",
       "                    </tbody>\n",
       "                </table>\n",
       "            </div>\n"
      ],
      "text/plain": [
       "<tskit.tables.NodeTable at 0x7f19125a59d0>"
      ]
     },
     "execution_count": 6,
     "metadata": {},
     "output_type": "execute_result"
    }
   ],
   "source": [
    "    # Create a 1D stepping stone model of demograpy\n",
    "    demography = msprime.Demography.stepping_stone_model([100] * 10, migration_rate=0.1)\n",
    "    # Take one diploid sample each from the first and last demes\n",
    "    samples = {0: 1, 9: 1}\n",
    "    # Simulate an ancestral history for this demography and sample.\n",
    "    ts = msprime.sim_ancestry(samples=samples, demography=demography)\n",
    "    ts.tables.nodes"
   ]
  },
  {
   "cell_type": "markdown",
   "id": "twenty-distance",
   "metadata": {},
   "source": [
    "```{eval-rst}\n",
    ".. todo:: Links into more detailed documentation\n",
    "```"
   ]
  }
 ],
 "metadata": {
  "jupytext": {
   "text_representation": {
    "extension": ".md",
    "format_name": "myst",
    "format_version": 0.12,
    "jupytext_version": "1.9.1"
   }
  },
  "kernelspec": {
   "display_name": "Python 3",
   "language": "python",
   "name": "python3"
  },
  "language_info": {
   "codemirror_mode": {
    "name": "ipython",
    "version": 3
   },
   "file_extension": ".py",
   "mimetype": "text/x-python",
   "name": "python",
   "nbconvert_exporter": "python",
   "pygments_lexer": "ipython3",
   "version": "3.8.7"
  },
  "source_map": [
   12,
   35,
   50,
   106,
   111,
   115,
   119,
   122,
   148,
   157
  ]
 },
 "nbformat": 4,
 "nbformat_minor": 5
}