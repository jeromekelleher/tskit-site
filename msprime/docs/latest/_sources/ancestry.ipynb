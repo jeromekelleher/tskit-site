{
 "cells": [
  {
   "cell_type": "code",
   "execution_count": 1,
   "id": "herbal-metallic",
   "metadata": {
    "tags": [
     "remove-cell"
    ]
   },
   "outputs": [],
   "source": [
    "    import msprime\n",
    "    from IPython.display import SVG\n",
    "    # Doing this to make the notebook outputs deterministic. \n",
    "    # DO NOT DO THIS IN YOUR CODE\n",
    "    msprime.core.set_seed_rng_seed(42)"
   ]
  },
  {
   "cell_type": "markdown",
   "id": "apparent-compact",
   "metadata": {},
   "source": [
    "(sec_ancestry)=\n",
    "\n",
    "# Ancestry\n",
    "\n",
    "Msprime simulates the ancestry of sampled genomes under a number of \n",
    "different backwards-in-time population genetic \n",
    "{ref}`models <sec_ancestry_models>`. The simulated ancestry is \n",
    "represented as a [succinct tree sequence](https://tskit.dev) using \n",
    "the [tskit](https://tskit.dev/tskit) library, which provides an\n",
    "extensive suite of operations for analysing genealogical trees\n",
    "and DNA sequence data. See the {ref}`tutorials:sec_tskit_getting_started`\n",
    "tutorial for more information on how to process data using tskit.\n",
    "\n",
    "Here we run a simple simulation and show a summary of the resulting\n",
    "tree sequence:"
   ]
  },
  {
   "cell_type": "code",
   "execution_count": 2,
   "id": "disabled-norwegian",
   "metadata": {},
   "outputs": [
    {
     "data": {
      "text/html": [
       "\n",
       "<div>\n",
       "  <style>\n",
       "    .tskit-table thead tr th {text-align: left;}\n",
       "    .tskit-table tbody tr td:first-of-type {text-align: left;}\n",
       "    .tskit-details-label {vertical-align: top; padding-right:5px;}\n",
       "    .tskit-table-set {display: inline-flex;flex-wrap: wrap;margin: -12px 0 0 -12px;width: calc(100% + 12px);}\n",
       "    .tskit-table-set-table {margin: 12px 0 0 12px;}\n",
       "    details {display: inline-block;}\n",
       "    summary {cursor: pointer; outline: 0; display: list-item;}\n",
       "  </style>\n",
       "  <div class=\"tskit-table-set\">\n",
       "    <div class=\"tskit-table-set-table\">\n",
       "      <table class=\"tskit-table\">\n",
       "        <thead>\n",
       "          <tr>\n",
       "            <th style=\"padding:0;line-height:21px;\">\n",
       "              <img style=\"height: 32px;display: inline-block;padding: 3px 5px 3px 0;\"src=\"https://raw.githubusercontent.com/tskit-dev/administrative/main/tskit_logo.svg\"/>\n",
       "              <a target=\"_blank\" href=\"https://tskit.readthedocs.io/en/latest/python-api.html#the-treesequence-class\"> Tree Sequence\n",
       "            </th>\n",
       "          </tr>\n",
       "        </thead>\n",
       "        <tbody>\n",
       "          <tr><td>Trees</td><td>1</td></tr>\n",
       "          <tr><td>Sequence Length</td><td>1.0</td></tr>\n",
       "          <tr><td>Sample Nodes</td><td>4</td></tr>\n",
       "          <tr><td>Total Size</td><td>1.6 KiB</td></tr>\n",
       "          <tr>\n",
       "            <td>Metadata</td><td style=\"text-align: left;\">No Metadata</td></tr>\n",
       "        </tbody>\n",
       "      </table>\n",
       "    </div>\n",
       "    <div class=\"tskit-table-set-table\">\n",
       "      <table class=\"tskit-table\">\n",
       "        <thead>\n",
       "          <tr>\n",
       "            <th style=\"line-height:21px;\">Table</th>\n",
       "            <th>Rows</th>\n",
       "            <th>Size</th>\n",
       "            <th>Has Metadata</th>\n",
       "          </tr>\n",
       "        </thead>\n",
       "        <tbody>\n",
       "\n",
       "      <tr>\n",
       "        <td>Edges</td>\n",
       "          <td>6</td>\n",
       "          <td>172 Bytes</td>\n",
       "          <td style=\"text-align: center;\">\n",
       "\n",
       "          </td>\n",
       "        </tr>\n",
       "\n",
       "      <tr>\n",
       "        <td>Individuals</td>\n",
       "          <td>2</td>\n",
       "          <td>32 Bytes</td>\n",
       "          <td style=\"text-align: center;\">\n",
       "\n",
       "          </td>\n",
       "        </tr>\n",
       "\n",
       "      <tr>\n",
       "        <td>Migrations</td>\n",
       "          <td>0</td>\n",
       "          <td>4 Bytes</td>\n",
       "          <td style=\"text-align: center;\">\n",
       "\n",
       "          </td>\n",
       "        </tr>\n",
       "\n",
       "      <tr>\n",
       "        <td>Mutations</td>\n",
       "          <td>0</td>\n",
       "          <td>8 Bytes</td>\n",
       "          <td style=\"text-align: center;\">\n",
       "\n",
       "          </td>\n",
       "        </tr>\n",
       "\n",
       "      <tr>\n",
       "        <td>Nodes</td>\n",
       "          <td>7</td>\n",
       "          <td>172 Bytes</td>\n",
       "          <td style=\"text-align: center;\">\n",
       "\n",
       "          </td>\n",
       "        </tr>\n",
       "\n",
       "      <tr>\n",
       "        <td>Populations</td>\n",
       "          <td>1</td>\n",
       "          <td>218 Bytes</td>\n",
       "          <td style=\"text-align: center;\">\n",
       "            ✅\n",
       "          </td>\n",
       "        </tr>\n",
       "\n",
       "      <tr>\n",
       "        <td>Provenances</td>\n",
       "          <td>1</td>\n",
       "          <td>966 Bytes</td>\n",
       "          <td style=\"text-align: center;\">\n",
       "\n",
       "          </td>\n",
       "        </tr>\n",
       "\n",
       "      <tr>\n",
       "        <td>Sites</td>\n",
       "          <td>0</td>\n",
       "          <td>8 Bytes</td>\n",
       "          <td style=\"text-align: center;\">\n",
       "\n",
       "          </td>\n",
       "        </tr>\n",
       "\n",
       "        </tbody>\n",
       "      </table>\n",
       "    </div>\n",
       "  </div>\n",
       "</div>\n"
      ],
      "text/plain": [
       "<tskit.trees.TreeSequence at 0x7fb02370bca0>"
      ]
     },
     "execution_count": 2,
     "metadata": {},
     "output_type": "execute_result"
    }
   ],
   "source": [
    "ts = msprime.sim_ancestry(2)\n",
    "ts"
   ]
  },
  {
   "cell_type": "markdown",
   "id": "fleet-uncertainty",
   "metadata": {},
   "source": [
    "The {func}`.sim_ancestry` function has many parameters to specify\n",
    "the details of the simulations. The {func}`API documentation <.sim_ancestry>`\n",
    "contains a precise description of the parameter; the sections \n",
    "in this page provide some explanation and examples of how to use these \n",
    "parameters.\n",
    "\n",
    ":::{note}\n",
    "It's important to note that {func}`.sim_ancestry` only simulates\n",
    "the ancestral trees for samples: if we want actual sequence data \n",
    "then we need to additionally simulate mutations on these trees.\n",
    "See the {ref}`sec_mutations` section for more information on how to do\n",
    "this.\n",
    ":::\n",
    "\n",
    "---\n",
    "\n",
    "## Quick reference\n",
    "\n",
    "{func}`.sim_ancestry`\n",
    ": Simulate ancestral tree sequence topology\n",
    "\n",
    "**Models**\n",
    "\n",
    "{class}`.StandardCoalescent`\n",
    ": Coalescent with recombination (\"hudson\")\n",
    "\n",
    "{class}`.SmcApproxCoalescent`             \n",
    ": Sequentially Markov Coalescent (\"smc\")    \n",
    "\n",
    "{class}`.SmcPrimeApproxCoalescent`        \n",
    ": SMC'(\"smc_prime\")                         \n",
    "\n",
    "{class}`.DiscreteTimeWrightFisher`        \n",
    ": Generation-by-generation Wright-Fisher    \n",
    "\n",
    "{class}`.BetaCoalescent`\n",
    ": Beta coalescent multiple-merger           \n",
    "\n",
    "{class}`.DiracCoalescent`                 \n",
    ": Dirac coalescent multiple-merger          \n",
    "\n",
    "{class}`.SweepGenicSelection`             \n",
    ": Selective sweep at a linked locus         \n",
    "\n",
    "---\n",
    "\n",
    "(sec_ancestry_samples)=\n",
    "## Specifying samples"
   ]
  },
  {
   "cell_type": "code",
   "execution_count": 3,
   "id": "chief-breakdown",
   "metadata": {
    "tags": [
     "remove-cell"
    ]
   },
   "outputs": [],
   "source": [
    "    msprime.core.set_seed_rng_seed(42)"
   ]
  },
  {
   "cell_type": "markdown",
   "id": "joint-projector",
   "metadata": {},
   "source": [
    "The `samples` argument to {func}`.sim_ancestry` defines the number\n",
    "of sample individuals we simulate the history of. There are three different\n",
    "forms; the `samples` argument can be:\n",
    "\n",
    "- an **integer**, interpreted as the number of samples to draw in a single\n",
    "  population model;\n",
    "- a **dictionary** mapping population references (either integer IDs or\n",
    "  names) to the number of samples for that population;\n",
    "- a list of {class}`.SampleSet` objects, which provide more flexibility\n",
    "  in how groups of similar samples are drawn from populations.\n",
    "\n",
    "\n",
    "In the simplest case provide a single integer which defines the number\n",
    "of samples:"
   ]
  },
  {
   "cell_type": "code",
   "execution_count": 4,
   "id": "japanese-prayer",
   "metadata": {},
   "outputs": [
    {
     "data": {
      "text/html": [
       "\n",
       "<div>\n",
       "  <style>\n",
       "    .tskit-table thead tr th {text-align: left;}\n",
       "    .tskit-table tbody tr td:first-of-type {text-align: left;}\n",
       "    .tskit-details-label {vertical-align: top; padding-right:5px;}\n",
       "    .tskit-table-set {display: inline-flex;flex-wrap: wrap;margin: -12px 0 0 -12px;width: calc(100% + 12px);}\n",
       "    .tskit-table-set-table {margin: 12px 0 0 12px;}\n",
       "    details {display: inline-block;}\n",
       "    summary {cursor: pointer; outline: 0; display: list-item;}\n",
       "  </style>\n",
       "  <div class=\"tskit-table-set\">\n",
       "    <div class=\"tskit-table-set-table\">\n",
       "      <table class=\"tskit-table\">\n",
       "        <thead>\n",
       "          <tr>\n",
       "            <th style=\"padding:0;line-height:21px;\">\n",
       "              <img style=\"height: 32px;display: inline-block;padding: 3px 5px 3px 0;\"src=\"https://raw.githubusercontent.com/tskit-dev/administrative/main/tskit_logo.svg\"/>\n",
       "              <a target=\"_blank\" href=\"https://tskit.readthedocs.io/en/latest/python-api.html#the-treesequence-class\"> Tree Sequence\n",
       "            </th>\n",
       "          </tr>\n",
       "        </thead>\n",
       "        <tbody>\n",
       "          <tr><td>Trees</td><td>1</td></tr>\n",
       "          <tr><td>Sequence Length</td><td>1.0</td></tr>\n",
       "          <tr><td>Sample Nodes</td><td>4</td></tr>\n",
       "          <tr><td>Total Size</td><td>1.6 KiB</td></tr>\n",
       "          <tr>\n",
       "            <td>Metadata</td><td style=\"text-align: left;\">No Metadata</td></tr>\n",
       "        </tbody>\n",
       "      </table>\n",
       "    </div>\n",
       "    <div class=\"tskit-table-set-table\">\n",
       "      <table class=\"tskit-table\">\n",
       "        <thead>\n",
       "          <tr>\n",
       "            <th style=\"line-height:21px;\">Table</th>\n",
       "            <th>Rows</th>\n",
       "            <th>Size</th>\n",
       "            <th>Has Metadata</th>\n",
       "          </tr>\n",
       "        </thead>\n",
       "        <tbody>\n",
       "\n",
       "      <tr>\n",
       "        <td>Edges</td>\n",
       "          <td>6</td>\n",
       "          <td>172 Bytes</td>\n",
       "          <td style=\"text-align: center;\">\n",
       "\n",
       "          </td>\n",
       "        </tr>\n",
       "\n",
       "      <tr>\n",
       "        <td>Individuals</td>\n",
       "          <td>2</td>\n",
       "          <td>32 Bytes</td>\n",
       "          <td style=\"text-align: center;\">\n",
       "\n",
       "          </td>\n",
       "        </tr>\n",
       "\n",
       "      <tr>\n",
       "        <td>Migrations</td>\n",
       "          <td>0</td>\n",
       "          <td>4 Bytes</td>\n",
       "          <td style=\"text-align: center;\">\n",
       "\n",
       "          </td>\n",
       "        </tr>\n",
       "\n",
       "      <tr>\n",
       "        <td>Mutations</td>\n",
       "          <td>0</td>\n",
       "          <td>8 Bytes</td>\n",
       "          <td style=\"text-align: center;\">\n",
       "\n",
       "          </td>\n",
       "        </tr>\n",
       "\n",
       "      <tr>\n",
       "        <td>Nodes</td>\n",
       "          <td>7</td>\n",
       "          <td>172 Bytes</td>\n",
       "          <td style=\"text-align: center;\">\n",
       "\n",
       "          </td>\n",
       "        </tr>\n",
       "\n",
       "      <tr>\n",
       "        <td>Populations</td>\n",
       "          <td>1</td>\n",
       "          <td>218 Bytes</td>\n",
       "          <td style=\"text-align: center;\">\n",
       "            ✅\n",
       "          </td>\n",
       "        </tr>\n",
       "\n",
       "      <tr>\n",
       "        <td>Provenances</td>\n",
       "          <td>1</td>\n",
       "          <td>966 Bytes</td>\n",
       "          <td style=\"text-align: center;\">\n",
       "\n",
       "          </td>\n",
       "        </tr>\n",
       "\n",
       "      <tr>\n",
       "        <td>Sites</td>\n",
       "          <td>0</td>\n",
       "          <td>8 Bytes</td>\n",
       "          <td style=\"text-align: center;\">\n",
       "\n",
       "          </td>\n",
       "        </tr>\n",
       "\n",
       "        </tbody>\n",
       "      </table>\n",
       "    </div>\n",
       "  </div>\n",
       "</div>\n"
      ],
      "text/plain": [
       "<tskit.trees.TreeSequence at 0x7fb045fcfc40>"
      ]
     },
     "execution_count": 4,
     "metadata": {},
     "output_type": "execute_result"
    }
   ],
   "source": [
    "ts = msprime.sim_ancestry(2)\n",
    "ts"
   ]
  },
  {
   "cell_type": "markdown",
   "id": "fantastic-central",
   "metadata": {},
   "source": [
    ":::{warning}\n",
    "It is important to note that the number of samples\n",
    "refers to the number of *individuals* not the number of *nodes*\n",
    "(monoploid genomes). See the {ref}`sec_ancestry_ploidy`\n",
    "section for details.\n",
    ":::\n",
    "\n",
    "### Populations\n",
    "\n",
    "```{eval-rst}\n",
    ".. todo:: Some text here that refers to the demography section.\n",
    "```\n",
    "\n",
    "The next example illustrates one usage of the dictionary form of the `samples`\n",
    "argument. We first create a {class}`.Demography` object representing\n",
    "a 10 deme linear stepping stone model. Then, we run the simulation\n",
    "with 1 diploid sample each drawn from the first and last demes in this\n",
    "linear habitat."
   ]
  },
  {
   "cell_type": "code",
   "execution_count": 5,
   "id": "psychological-hepatitis",
   "metadata": {},
   "outputs": [
    {
     "data": {
      "text/html": [
       "\n",
       "<div>\n",
       "  <style>\n",
       "    .tskit-table thead tr th {text-align: left;}\n",
       "    .tskit-table tbody tr td:first-of-type {text-align: left;}\n",
       "    .tskit-details-label {vertical-align: top; padding-right:5px;}\n",
       "    .tskit-table-set {display: inline-flex;flex-wrap: wrap;margin: -12px 0 0 -12px;width: calc(100% + 12px);}\n",
       "    .tskit-table-set-table {margin: 12px 0 0 12px;}\n",
       "    details {display: inline-block;}\n",
       "    summary {cursor: pointer; outline: 0; display: list-item;}\n",
       "  </style>\n",
       "  <div class=\"tskit-table-set\">\n",
       "    <div class=\"tskit-table-set-table\">\n",
       "      <table class=\"tskit-table\">\n",
       "        <thead>\n",
       "          <tr>\n",
       "            <th style=\"padding:0;line-height:21px;\">\n",
       "              <img style=\"height: 32px;display: inline-block;padding: 3px 5px 3px 0;\"src=\"https://raw.githubusercontent.com/tskit-dev/administrative/main/tskit_logo.svg\"/>\n",
       "              <a target=\"_blank\" href=\"https://tskit.readthedocs.io/en/latest/python-api.html#the-treesequence-class\"> Tree Sequence\n",
       "            </th>\n",
       "          </tr>\n",
       "        </thead>\n",
       "        <tbody>\n",
       "          <tr><td>Trees</td><td>1</td></tr>\n",
       "          <tr><td>Sequence Length</td><td>1.0</td></tr>\n",
       "          <tr><td>Sample Nodes</td><td>4</td></tr>\n",
       "          <tr><td>Total Size</td><td>3.8 KiB</td></tr>\n",
       "          <tr>\n",
       "            <td>Metadata</td><td style=\"text-align: left;\">No Metadata</td></tr>\n",
       "        </tbody>\n",
       "      </table>\n",
       "    </div>\n",
       "    <div class=\"tskit-table-set-table\">\n",
       "      <table class=\"tskit-table\">\n",
       "        <thead>\n",
       "          <tr>\n",
       "            <th style=\"line-height:21px;\">Table</th>\n",
       "            <th>Rows</th>\n",
       "            <th>Size</th>\n",
       "            <th>Has Metadata</th>\n",
       "          </tr>\n",
       "        </thead>\n",
       "        <tbody>\n",
       "\n",
       "      <tr>\n",
       "        <td>Edges</td>\n",
       "          <td>6</td>\n",
       "          <td>172 Bytes</td>\n",
       "          <td style=\"text-align: center;\">\n",
       "\n",
       "          </td>\n",
       "        </tr>\n",
       "\n",
       "      <tr>\n",
       "        <td>Individuals</td>\n",
       "          <td>2</td>\n",
       "          <td>32 Bytes</td>\n",
       "          <td style=\"text-align: center;\">\n",
       "\n",
       "          </td>\n",
       "        </tr>\n",
       "\n",
       "      <tr>\n",
       "        <td>Migrations</td>\n",
       "          <td>0</td>\n",
       "          <td>4 Bytes</td>\n",
       "          <td style=\"text-align: center;\">\n",
       "\n",
       "          </td>\n",
       "        </tr>\n",
       "\n",
       "      <tr>\n",
       "        <td>Mutations</td>\n",
       "          <td>0</td>\n",
       "          <td>8 Bytes</td>\n",
       "          <td style=\"text-align: center;\">\n",
       "\n",
       "          </td>\n",
       "        </tr>\n",
       "\n",
       "      <tr>\n",
       "        <td>Nodes</td>\n",
       "          <td>7</td>\n",
       "          <td>172 Bytes</td>\n",
       "          <td style=\"text-align: center;\">\n",
       "\n",
       "          </td>\n",
       "        </tr>\n",
       "\n",
       "      <tr>\n",
       "        <td>Populations</td>\n",
       "          <td>10</td>\n",
       "          <td>569 Bytes</td>\n",
       "          <td style=\"text-align: center;\">\n",
       "            ✅\n",
       "          </td>\n",
       "        </tr>\n",
       "\n",
       "      <tr>\n",
       "        <td>Provenances</td>\n",
       "          <td>1</td>\n",
       "          <td>2.8 KiB</td>\n",
       "          <td style=\"text-align: center;\">\n",
       "\n",
       "          </td>\n",
       "        </tr>\n",
       "\n",
       "      <tr>\n",
       "        <td>Sites</td>\n",
       "          <td>0</td>\n",
       "          <td>8 Bytes</td>\n",
       "          <td style=\"text-align: center;\">\n",
       "\n",
       "          </td>\n",
       "        </tr>\n",
       "\n",
       "        </tbody>\n",
       "      </table>\n",
       "    </div>\n",
       "  </div>\n",
       "</div>\n"
      ],
      "text/plain": [
       "<tskit.trees.TreeSequence at 0x7fb045fcfb20>"
      ]
     },
     "execution_count": 5,
     "metadata": {},
     "output_type": "execute_result"
    }
   ],
   "source": [
    "N = 10\n",
    "demography = msprime.Demography.stepping_stone_model(\n",
    "    [100] * N,\n",
    "    migration_rate=0.1,\n",
    "    boundaries=True)\n",
    "ts = msprime.sim_ancestry({0: 1, N - 1: 1}, demography=demography)\n",
    "ts"
   ]
  },
  {
   "cell_type": "markdown",
   "id": "synthetic-possibility",
   "metadata": {},
   "source": [
    "The keys in the dictionary can also be the string names of the\n",
    "population, which is useful when we are simulating from empirically\n",
    "estimated models. For example, here create a {class}`.Demography` object\n",
    "based on a species tree, and then draw samples using the species names."
   ]
  },
  {
   "cell_type": "code",
   "execution_count": 6,
   "id": "fuzzy-event",
   "metadata": {},
   "outputs": [
    {
     "data": {
      "text/html": [
       "\n",
       "<div>\n",
       "  <style>\n",
       "    .tskit-table thead tr th {text-align: left;}\n",
       "    .tskit-table tbody tr td:first-of-type {text-align: left;}\n",
       "    .tskit-details-label {vertical-align: top; padding-right:5px;}\n",
       "    .tskit-table-set {display: inline-flex;flex-wrap: wrap;margin: -12px 0 0 -12px;width: calc(100% + 12px);}\n",
       "    .tskit-table-set-table {margin: 12px 0 0 12px;}\n",
       "    details {display: inline-block;}\n",
       "    summary {cursor: pointer; outline: 0; display: list-item;}\n",
       "  </style>\n",
       "  <div class=\"tskit-table-set\">\n",
       "    <div class=\"tskit-table-set-table\">\n",
       "      <table class=\"tskit-table\">\n",
       "        <thead>\n",
       "          <tr>\n",
       "            <th style=\"padding:0;line-height:21px;\">\n",
       "              <img style=\"height: 32px;display: inline-block;padding: 3px 5px 3px 0;\"src=\"https://raw.githubusercontent.com/tskit-dev/administrative/main/tskit_logo.svg\"/>\n",
       "              <a target=\"_blank\" href=\"https://tskit.readthedocs.io/en/latest/python-api.html#the-treesequence-class\"> Tree Sequence\n",
       "            </th>\n",
       "          </tr>\n",
       "        </thead>\n",
       "        <tbody>\n",
       "          <tr><td>Trees</td><td>1</td></tr>\n",
       "          <tr><td>Sequence Length</td><td>1.0</td></tr>\n",
       "          <tr><td>Sample Nodes</td><td>12</td></tr>\n",
       "          <tr><td>Total Size</td><td>4.6 KiB</td></tr>\n",
       "          <tr>\n",
       "            <td>Metadata</td><td style=\"text-align: left;\">No Metadata</td></tr>\n",
       "        </tbody>\n",
       "      </table>\n",
       "    </div>\n",
       "    <div class=\"tskit-table-set-table\">\n",
       "      <table class=\"tskit-table\">\n",
       "        <thead>\n",
       "          <tr>\n",
       "            <th style=\"line-height:21px;\">Table</th>\n",
       "            <th>Rows</th>\n",
       "            <th>Size</th>\n",
       "            <th>Has Metadata</th>\n",
       "          </tr>\n",
       "        </thead>\n",
       "        <tbody>\n",
       "\n",
       "      <tr>\n",
       "        <td>Edges</td>\n",
       "          <td>22</td>\n",
       "          <td>620 Bytes</td>\n",
       "          <td style=\"text-align: center;\">\n",
       "\n",
       "          </td>\n",
       "        </tr>\n",
       "\n",
       "      <tr>\n",
       "        <td>Individuals</td>\n",
       "          <td>6</td>\n",
       "          <td>80 Bytes</td>\n",
       "          <td style=\"text-align: center;\">\n",
       "\n",
       "          </td>\n",
       "        </tr>\n",
       "\n",
       "      <tr>\n",
       "        <td>Migrations</td>\n",
       "          <td>0</td>\n",
       "          <td>4 Bytes</td>\n",
       "          <td style=\"text-align: center;\">\n",
       "\n",
       "          </td>\n",
       "        </tr>\n",
       "\n",
       "      <tr>\n",
       "        <td>Mutations</td>\n",
       "          <td>0</td>\n",
       "          <td>8 Bytes</td>\n",
       "          <td style=\"text-align: center;\">\n",
       "\n",
       "          </td>\n",
       "        </tr>\n",
       "\n",
       "      <tr>\n",
       "        <td>Nodes</td>\n",
       "          <td>23</td>\n",
       "          <td>556 Bytes</td>\n",
       "          <td style=\"text-align: center;\">\n",
       "\n",
       "          </td>\n",
       "        </tr>\n",
       "\n",
       "      <tr>\n",
       "        <td>Populations</td>\n",
       "          <td>7</td>\n",
       "          <td>463 Bytes</td>\n",
       "          <td style=\"text-align: center;\">\n",
       "            ✅\n",
       "          </td>\n",
       "        </tr>\n",
       "\n",
       "      <tr>\n",
       "        <td>Provenances</td>\n",
       "          <td>1</td>\n",
       "          <td>2.7 KiB</td>\n",
       "          <td style=\"text-align: center;\">\n",
       "\n",
       "          </td>\n",
       "        </tr>\n",
       "\n",
       "      <tr>\n",
       "        <td>Sites</td>\n",
       "          <td>0</td>\n",
       "          <td>8 Bytes</td>\n",
       "          <td style=\"text-align: center;\">\n",
       "\n",
       "          </td>\n",
       "        </tr>\n",
       "\n",
       "        </tbody>\n",
       "      </table>\n",
       "    </div>\n",
       "  </div>\n",
       "</div>\n"
      ],
      "text/plain": [
       "<tskit.trees.TreeSequence at 0x7fb0236cad60>"
      ]
     },
     "execution_count": 6,
     "metadata": {},
     "output_type": "execute_result"
    }
   ],
   "source": [
    "demography = msprime.Demography.from_species_tree(\n",
    "    \"(((human:5.6,chimpanzee:5.6):3.0,gorilla:8.6):9.4,orangutan:18.0)\",\n",
    "    branch_length_units=\"myr\",\n",
    "    initial_size=10**4,\n",
    "    generation_time=20)\n",
    "ts = msprime.sim_ancestry({\"gorilla\": 2, \"human\": 4}, demography=demography)\n",
    "ts"
   ]
  },
  {
   "cell_type": "markdown",
   "id": "african-toolbox",
   "metadata": {},
   "source": [
    "(sec_ancestry_samples_sampling_time)=\n",
    "\n",
    "### Sampling time\n",
    "\n",
    "By default the samples that we draw from a {class}`.Population` are the\n",
    "population's `sampling_time`. This is usually zero, representing the\n",
    "present, but in some demographic models representing (for example)\n",
    "with populations representing archaic individuals the default sampling\n",
    "time might be older. We can manually control the time at which samples\n",
    "are drawn using list of {class}`.SampleSet` objects form for the\n",
    "samples argument."
   ]
  },
  {
   "cell_type": "code",
   "execution_count": 7,
   "id": "quarterly-stock",
   "metadata": {},
   "outputs": [
    {
     "name": "stdout",
     "output_type": "stream",
     "text": [
      "id\tflags\tpopulation\tindividual\ttime\tmetadata\n",
      "0\t1\t0\t0\t0.00000000000000\t\n",
      "1\t1\t0\t0\t0.00000000000000\t\n",
      "2\t1\t0\t1\t1.00000000000000\t\n",
      "3\t1\t0\t1\t1.00000000000000\t\n",
      "4\t0\t0\t-1\t2.11186040107299\t\n",
      "5\t0\t0\t-1\t2.91495069495087\t\n",
      "6\t0\t0\t-1\t4.95490738178649\t\n"
     ]
    },
    {
     "data": {
      "image/svg+xml": [
       "<svg xmlns=\"http://www.w3.org/2000/svg\" xmlns:ev=\"http://www.w3.org/2001/xml-events\" xmlns:xlink=\"http://www.w3.org/1999/xlink\" baseProfile=\"full\" height=\"200\" version=\"1.1\" width=\"200\"><defs><style type=\"text/css\"><![CDATA[.axis {font-weight: bold}.tree, .axis {font-size: 14px; text-anchor:middle}.edge {stroke: black; fill: none}.node > .sym {fill: black; stroke: none}.tree text {dominant-baseline: middle}.tree .lab.lft {text-anchor: end}.tree .lab.rgt {text-anchor: start}.mut {fill: red; font-style: italic}]]></style></defs><g class=\"tree-sequence\"><g class=\"background\"><polygon fill=\"#F1F1F1\" points=\"20,185 20,180 20,160 20,0 180.0,0 180.0,160 180.0,180 180.0,185\"/></g><g class=\"trees\"><g class=\"treebox t0\" transform=\"translate(20 30)\"><g class=\"tree t0\"><g class=\"node n6 p0 root\" transform=\"translate(80.0 30.0)\"><g class=\"a6 node n4 p0\" transform=\"translate(28.0 45.9027)\"><g class=\"a4 i0 leaf node n1 p0 sample\" transform=\"translate(-14.0 34.0973)\"><path class=\"edge\" d=\"M 0 0 V -34.0973 H 14.0\"/><circle class=\"sym\" cx=\"0\" cy=\"0\" r=\"3\"/><text class=\"lab\" transform=\"translate(0 12)\">1</text></g><g class=\"a4 i1 leaf node n2 p0 sample\" transform=\"translate(14.0 17.9517)\"><path class=\"edge\" d=\"M 0 0 V -17.9517 H -14.0\"/><circle class=\"sym\" cx=\"0\" cy=\"0\" r=\"3\"/><text class=\"lab\" transform=\"translate(0 12)\">2</text></g><path class=\"edge\" d=\"M 0 0 V -45.9027 H -28.0\"/><circle class=\"sym\" cx=\"0\" cy=\"0\" r=\"3\"/><text class=\"lab rgt\" transform=\"translate(3 -6)\">4</text></g><g class=\"a6 node n5 p0\" transform=\"translate(-28.0 32.9363)\"><g class=\"a5 i0 leaf node n0 p0 sample\" transform=\"translate(-14.0 47.0637)\"><path class=\"edge\" d=\"M 0 0 V -47.0637 H 14.0\"/><circle class=\"sym\" cx=\"0\" cy=\"0\" r=\"3\"/><text class=\"lab\" transform=\"translate(0 12)\">0</text></g><g class=\"a5 i1 leaf node n3 p0 sample\" transform=\"translate(14.0 30.918)\"><path class=\"edge\" d=\"M 0 0 V -30.918 H -14.0\"/><circle class=\"sym\" cx=\"0\" cy=\"0\" r=\"3\"/><text class=\"lab\" transform=\"translate(0 12)\">3</text></g><path class=\"edge\" d=\"M 0 0 V -32.9363 H 28.0\"/><circle class=\"sym\" cx=\"0\" cy=\"0\" r=\"3\"/><text class=\"lab lft\" transform=\"translate(-3 -6)\">5</text></g><circle class=\"sym\" cx=\"0\" cy=\"0\" r=\"3\"/><text class=\"lab\" transform=\"translate(0 -10)\">6</text></g></g></g></g><g class=\"axis\"><line stroke=\"black\" x1=\"20\" x2=\"180\" y1=\"180\" y2=\"180\"/><line stroke=\"black\" x1=\"20\" x2=\"20\" y1=\"180\" y2=\"185\"/><g transform=\"translate(20, 200)\"><text font-size=\"14\" font-weight=\"bold\" text-anchor=\"middle\">0</text></g><line stroke=\"black\" x1=\"180.0\" x2=\"180.0\" y1=\"180\" y2=\"185\"/><g transform=\"translate(180.0, 200)\"><text font-size=\"14\" font-weight=\"bold\" text-anchor=\"middle\">1</text></g></g></g></svg>"
      ],
      "text/plain": [
       "<IPython.core.display.SVG object>"
      ]
     },
     "execution_count": 7,
     "metadata": {
      "filenames": {
       "image/svg+xml": "/home/runner/work/tskit-site/tskit-site/docs/_build/jupyter_execute/ancestry_12_1.svg"
      }
     },
     "output_type": "execute_result"
    }
   ],
   "source": [
    "    samples = [\n",
    "        msprime.SampleSet(1),\n",
    "        msprime.SampleSet(1, time=1.0)\n",
    "    ]\n",
    "    ts = msprime.sim_ancestry(samples)\n",
    "    print(ts.tables.nodes)\n",
    "    SVG(ts.draw_svg())"
   ]
  },
  {
   "cell_type": "markdown",
   "id": "collective-checkout",
   "metadata": {},
   "source": [
    "In this example we create two diploid sample individuals, one at the present time\n",
    "and one taken 5 generations in the past, representing one modern\n",
    "and one ancient diploid individual. Running this example, we get:\n",
    "\n",
    "Because nodes `0` and `1` were sampled at time 0, their times in the\n",
    "node table are both 0; likewise, nodes `2` and `3` are at time 1.0.\n",
    "\n",
    "### Sample details\n",
    "\n",
    "Sample individuals and nodes are allocated sequentially in the order that\n",
    "they are specified. For example:"
   ]
  },
  {
   "cell_type": "code",
   "execution_count": 8,
   "id": "closing-conditions",
   "metadata": {},
   "outputs": [
    {
     "name": "stdout",
     "output_type": "stream",
     "text": [
      "id\tflags\tlocation\tmetadata\n",
      "0\t0\t\t\n",
      "1\t0\t\t\n",
      "2\t0\t\t\n",
      "id\tflags\tpopulation\tindividual\ttime\tmetadata\n",
      "0\t1\t1\t0\t0.00000000000000\t\n",
      "1\t1\t1\t0\t0.00000000000000\t\n",
      "2\t1\t0\t1\t0.00000000000000\t\n",
      "3\t1\t0\t1\t0.00000000000000\t\n",
      "4\t1\t0\t2\t0.00000000000000\t\n",
      "5\t1\t0\t2\t0.00000000000000\t\n"
     ]
    }
   ],
   "source": [
    "demography = msprime.Demography.island_model([10, 10], migration_rate=1)\n",
    "ts = msprime.sim_ancestry(\n",
    "    samples=[\n",
    "        msprime.SampleSet(1, population=1),\n",
    "        msprime.SampleSet(2, population=0)],\n",
    "    demography=demography,\n",
    "    end_time=0)\n",
    "print(ts.tables.individuals)\n",
    "print(ts.tables.nodes)"
   ]
  },
  {
   "cell_type": "markdown",
   "id": "declared-parish",
   "metadata": {},
   "source": [
    "(Because we're only interested in the sampled nodes and individuals we\n",
    "stopped the simulation from actually doing anything by setting\n",
    "`end_time=0`.) Here we define three sample individuals,\n",
    "and we therefore have three rows in the individual table.\n",
    "Because these are diploid individuals, the node table contains\n",
    "six sample nodes. If we look at the `individual` column in the\n",
    "node table we can see that the first two nodes correspond to individual\n",
    "`0`, the next two nodes individual `1`, etc. The sample configuration\n",
    "stated that the first sample should come from population `1` and\n",
    "the other two from population `0`, and we can see this reflected\n",
    "in the `population` column of the node table. (Somewhat confusingly,\n",
    "population values are associated with nodes rather than individuals;\n",
    "this is mostly for historical reasons.)\n",
    "\n",
    "The {class}`.SampleSet` class has a number of attributes which default\n",
    "to `None`. If these are set they will **override** the values\n",
    "which might be specified elsewhere. For example, we can specify\n",
    "mixed ploidy samples via the `ploidy` attribute of {class}`.SampleSet`:"
   ]
  },
  {
   "cell_type": "code",
   "execution_count": 9,
   "id": "optional-procedure",
   "metadata": {},
   "outputs": [
    {
     "name": "stdout",
     "output_type": "stream",
     "text": [
      "id\tflags\tlocation\tmetadata\n",
      "0\t0\t\t\n",
      "1\t0\t\t\n",
      "2\t0\t\t\n",
      "id\tflags\tpopulation\tindividual\ttime\tmetadata\n",
      "0\t1\t0\t0\t0.00000000000000\t\n",
      "1\t1\t0\t0\t0.00000000000000\t\n",
      "2\t1\t0\t0\t0.00000000000000\t\n",
      "3\t1\t0\t1\t0.00000000000000\t\n",
      "4\t1\t0\t2\t0.00000000000000\t\n"
     ]
    }
   ],
   "source": [
    "ts = msprime.sim_ancestry(\n",
    "    samples=[\n",
    "        msprime.SampleSet(1, ploidy=3),\n",
    "        msprime.SampleSet(2)],\n",
    "    ploidy=1,\n",
    "    end_time=0)\n",
    "print(ts.tables.individuals)\n",
    "print(ts.tables.nodes)"
   ]
  },
  {
   "cell_type": "markdown",
   "id": "polar-alliance",
   "metadata": {},
   "source": [
    "(Again, we stop the simulation immediately because we're only interested\n",
    "in the initial samples.) Here we have three sampled individuals again\n",
    "but in this they are mixed ploidy: the first individual is triploid\n",
    "and the other two are haploid.\n",
    "\n",
    ":::{warning}\n",
    "\n",
    "It is vital to note that setting the `ploidy` value\n",
    "of {class}`.SampleSet` objects only affects sampling and does\n",
    "not affect the actual simulation. In this case, the simulation\n",
    "will be run on the haploid time scale. Some models may not\n",
    "support mixing of ploidy at all.\n",
    "\n",
    ":::\n",
    "\n",
    "If you wish to set up the node and individual IDs in some other way,\n",
    "the {ref}`sec_ancestry_samples_advanced_sampling` section shows how\n",
    "to fully control how sample individuals and nodes are defined. However,\n",
    "this level of control should not be needed for the vast majority of\n",
    "applications.\n",
    "\n",
    "(sec_ancestry_samples_advanced_sampling)=\n",
    "\n",
    "### Advanced sampling\n",
    "\n",
    "```{eval-rst}\n",
    ".. todo:: This section should describe how to define samples directly in\n",
    "    terms of the ``initial_state`` tables and give an example of how to\n",
    "    use it.\n",
    "\n",
    "```\n",
    "\n",
    "\n",
    "---\n",
    "\n",
    "(sec_ancestry_ploidy)=\n",
    "## Ploidy\n",
    "\n",
    "```{eval-rst}\n",
    ".. todo:: This section is pretty much superseded by the previous discussion\n",
    "    and we don't actually discuss the important point about timescales\n",
    "    anywhere. We need to have a top-level section about this somewhere.\n",
    "```\n",
    "\n",
    "The samples argument for {func}`.sim_ancestry` is flexible, and allows us\n",
    "to provide samples in a number of different forms. In single-population\n",
    "models we can use the numeric form, which gives us {math}`n` samples:"
   ]
  },
  {
   "cell_type": "code",
   "execution_count": 10,
   "id": "miniature-battle",
   "metadata": {},
   "outputs": [
    {
     "data": {
      "image/svg+xml": [
       "<svg xmlns=\"http://www.w3.org/2000/svg\" xmlns:ev=\"http://www.w3.org/2001/xml-events\" xmlns:xlink=\"http://www.w3.org/1999/xlink\" baseProfile=\"full\" height=\"200\" version=\"1.1\" width=\"200\"><defs><style type=\"text/css\"><![CDATA[.axis {font-weight: bold}.tree, .axis {font-size: 14px; text-anchor:middle}.edge {stroke: black; fill: none}.node > .sym {fill: black; stroke: none}.tree text {dominant-baseline: middle}.tree .lab.lft {text-anchor: end}.tree .lab.rgt {text-anchor: start}.mut {fill: red; font-style: italic}]]></style></defs><g class=\"tree t0\"><g class=\"node n10 p0 root\" transform=\"translate(106.429 30.0)\"><g class=\"a10 node n7 p0\" transform=\"translate(38.5714 131.979)\"><g class=\"a7 i1 leaf node n2 p0 sample\" transform=\"translate(19.2857 8.02115)\"><path class=\"edge\" d=\"M 0 0 V -8.02115 H -19.2857\"/><circle class=\"sym\" cx=\"0\" cy=\"0\" r=\"3\"/><text class=\"lab\" transform=\"translate(0 12)\">2</text></g><g class=\"a7 node n6 p0\" transform=\"translate(-19.2857 4.79572)\"><g class=\"a6 i0 leaf node n1 p0 sample\" transform=\"translate(-12.8571 3.22544)\"><path class=\"edge\" d=\"M 0 0 V -3.22544 H 12.8571\"/><circle class=\"sym\" cx=\"0\" cy=\"0\" r=\"3\"/><text class=\"lab\" transform=\"translate(0 12)\">1</text></g><g class=\"a6 i2 leaf node n4 p0 sample\" transform=\"translate(12.8571 3.22544)\"><path class=\"edge\" d=\"M 0 0 V -3.22544 H -12.8571\"/><circle class=\"sym\" cx=\"0\" cy=\"0\" r=\"3\"/><text class=\"lab\" transform=\"translate(0 12)\">4</text></g><path class=\"edge\" d=\"M 0 0 V -4.79572 H 19.2857\"/><circle class=\"sym\" cx=\"0\" cy=\"0\" r=\"3\"/><text class=\"lab lft\" transform=\"translate(-3 -6)\">6</text></g><path class=\"edge\" d=\"M 0 0 V -131.979 H -38.5714\"/><circle class=\"sym\" cx=\"0\" cy=\"0\" r=\"3\"/><text class=\"lab rgt\" transform=\"translate(3 -6)\">7</text></g><g class=\"a10 node n9 p0\" transform=\"translate(-38.5714 94.3712)\"><g class=\"a9 i2 leaf node n5 p0 sample\" transform=\"translate(19.2857 45.6288)\"><path class=\"edge\" d=\"M 0 0 V -45.6288 H -19.2857\"/><circle class=\"sym\" cx=\"0\" cy=\"0\" r=\"3\"/><text class=\"lab\" transform=\"translate(0 12)\">5</text></g><g class=\"a9 node n8 p0\" transform=\"translate(-19.2857 29.8526)\"><g class=\"a8 i0 leaf node n0 p0 sample\" transform=\"translate(-12.8571 15.7763)\"><path class=\"edge\" d=\"M 0 0 V -15.7763 H 12.8571\"/><circle class=\"sym\" cx=\"0\" cy=\"0\" r=\"3\"/><text class=\"lab\" transform=\"translate(0 12)\">0</text></g><g class=\"a8 i1 leaf node n3 p0 sample\" transform=\"translate(12.8571 15.7763)\"><path class=\"edge\" d=\"M 0 0 V -15.7763 H -12.8571\"/><circle class=\"sym\" cx=\"0\" cy=\"0\" r=\"3\"/><text class=\"lab\" transform=\"translate(0 12)\">3</text></g><path class=\"edge\" d=\"M 0 0 V -29.8526 H 19.2857\"/><circle class=\"sym\" cx=\"0\" cy=\"0\" r=\"3\"/><text class=\"lab lft\" transform=\"translate(-3 -6)\">8</text></g><path class=\"edge\" d=\"M 0 0 V -94.3712 H 38.5714\"/><circle class=\"sym\" cx=\"0\" cy=\"0\" r=\"3\"/><text class=\"lab lft\" transform=\"translate(-3 -6)\">9</text></g><circle class=\"sym\" cx=\"0\" cy=\"0\" r=\"3\"/><text class=\"lab\" transform=\"translate(0 -10)\">10</text></g></g></svg>"
      ],
      "text/plain": [
       "<IPython.core.display.SVG object>"
      ]
     },
     "execution_count": 10,
     "metadata": {
      "filenames": {
       "image/svg+xml": "/home/runner/work/tskit-site/tskit-site/docs/_build/jupyter_execute/ancestry_18_0.svg"
      }
     },
     "output_type": "execute_result"
    }
   ],
   "source": [
    "    ts = msprime.sim_ancestry(3)\n",
    "    SVG(ts.first().draw_svg())\n"
   ]
  },
  {
   "cell_type": "markdown",
   "id": "diverse-miami",
   "metadata": {},
   "source": [
    "It's important to note that the number of samples refers to the number\n",
    "of {math}`k`-ploid *individuals*, not the number of sample nodes\n",
    "in the trees. The `ploidy` argument determines the number of sample\n",
    "nodes per individual, and is `2` by default; hence, when we asked\n",
    "for 3 sample individuals in the example above, we got a tree with\n",
    "six sample *nodes*."
   ]
  },
  {
   "cell_type": "code",
   "execution_count": 11,
   "id": "circular-package",
   "metadata": {},
   "outputs": [
    {
     "data": {
      "image/svg+xml": [
       "<svg xmlns=\"http://www.w3.org/2000/svg\" xmlns:ev=\"http://www.w3.org/2001/xml-events\" xmlns:xlink=\"http://www.w3.org/1999/xlink\" baseProfile=\"full\" height=\"200\" version=\"1.1\" width=\"200\"><defs><style type=\"text/css\"><![CDATA[.axis {font-weight: bold}.tree, .axis {font-size: 14px; text-anchor:middle}.edge {stroke: black; fill: none}.node > .sym {fill: black; stroke: none}.tree text {dominant-baseline: middle}.tree .lab.lft {text-anchor: end}.tree .lab.rgt {text-anchor: start}.mut {fill: red; font-style: italic}]]></style></defs><g class=\"tree t0\"><g class=\"node n4 p0 root\" transform=\"translate(111.25 30.0)\"><g class=\"a4 i1 leaf node n1 p0 sample\" transform=\"translate(33.75 140.0)\"><path class=\"edge\" d=\"M 0 0 V -140.0 H -33.75\"/><circle class=\"sym\" cx=\"0\" cy=\"0\" r=\"3\"/><text class=\"lab\" transform=\"translate(0 12)\">1</text></g><g class=\"a4 node n3 p0\" transform=\"translate(-33.75 136.912)\"><g class=\"a3 i0 leaf node n0 p0 sample\" transform=\"translate(-22.5 3.08794)\"><path class=\"edge\" d=\"M 0 0 V -3.08794 H 22.5\"/><circle class=\"sym\" cx=\"0\" cy=\"0\" r=\"3\"/><text class=\"lab\" transform=\"translate(0 12)\">0</text></g><g class=\"a3 i2 leaf node n2 p0 sample\" transform=\"translate(22.5 3.08794)\"><path class=\"edge\" d=\"M 0 0 V -3.08794 H -22.5\"/><circle class=\"sym\" cx=\"0\" cy=\"0\" r=\"3\"/><text class=\"lab\" transform=\"translate(0 12)\">2</text></g><path class=\"edge\" d=\"M 0 0 V -136.912 H 33.75\"/><circle class=\"sym\" cx=\"0\" cy=\"0\" r=\"3\"/><text class=\"lab lft\" transform=\"translate(-3 -6)\">3</text></g><circle class=\"sym\" cx=\"0\" cy=\"0\" r=\"3\"/><text class=\"lab\" transform=\"translate(0 -10)\">4</text></g></g></svg>"
      ],
      "text/plain": [
       "<IPython.core.display.SVG object>"
      ]
     },
     "execution_count": 11,
     "metadata": {
      "filenames": {
       "image/svg+xml": "/home/runner/work/tskit-site/tskit-site/docs/_build/jupyter_execute/ancestry_20_0.svg"
      }
     },
     "output_type": "execute_result"
    }
   ],
   "source": [
    "    ts = msprime.sim_ancestry(3, ploidy=1)\n",
    "    SVG(ts.first().draw_svg())"
   ]
  },
  {
   "cell_type": "markdown",
   "id": "moderate-serum",
   "metadata": {},
   "source": [
    "(sec_ancestry_population_size)=\n",
    "\n",
    "## Population size\n",
    "\n",
    "```{eval-rst}\n",
    ".. todo:: Some nodes on population size and the common gotchas, especially\n",
    "    how this relates to ploidy. Should link to the demography page and\n",
    "    model sections for more details.\n",
    "```\n",
    "\n",
    "(sec_ancestry_genome_properties)=\n",
    "\n",
    "## Genome properties\n",
    "\n",
    "```{eval-rst}\n",
    ".. todo:: This is text taken from the old api.rst. Reuse/adapt as appropriate.\n",
    "```\n",
    "\n",
    "When running simulations we define the length {math}`L` of the sequence in\n",
    "question using the `length` parameter. This defines the coordinate space\n",
    "within which trees and mutations are defined. {math}`L` is a continuous value,\n",
    "so units are arbitrary, and coordinates can take any continuous value from {math}`0` up to\n",
    "(but not including) {math}`L`. (So, although we recommend setting the units of length to be\n",
    "analogous to \"bases\", events can occur at fractional positions.)\n",
    "Mutations occur in an infinite sites process along this sequence,\n",
    "and mutation rates are specified per generation, per unit of sequence length.\n",
    "Thus, given the per-generation mutation rate {math}`\\mu`, the rate of mutation\n",
    "over the entire sequence in coalescent time units is {math}`\\theta = 4 N_e \\mu\n",
    "L`. It is important to remember these scaling factors when comparing with\n",
    "analytical results!\n",
    "\n",
    "(sec_ancestry_genome_length)=\n",
    "\n",
    "### Genome length"
   ]
  },
  {
   "cell_type": "code",
   "execution_count": 12,
   "id": "assumed-fellowship",
   "metadata": {
    "tags": [
     "remove-cell"
    ]
   },
   "outputs": [],
   "source": [
    "    msprime.core.set_seed_rng_seed(42)"
   ]
  },
  {
   "cell_type": "markdown",
   "id": "structural-better",
   "metadata": {},
   "source": [
    "There are a number of different ways to specify the length of the\n",
    "chromosome that we want to simulate. In the absence of recombination\n",
    "and gene conversion, we assume a genome of length 1:"
   ]
  },
  {
   "cell_type": "code",
   "execution_count": 13,
   "id": "transsexual-wallet",
   "metadata": {},
   "outputs": [
    {
     "data": {
      "text/plain": [
       "1.0"
      ]
     },
     "execution_count": 13,
     "metadata": {},
     "output_type": "execute_result"
    }
   ],
   "source": [
    "    ts = msprime.sim_ancestry(3)\n",
    "    ts.sequence_length\n"
   ]
  },
  {
   "cell_type": "markdown",
   "id": "geological-conservation",
   "metadata": {},
   "source": [
    "If a recombination or gene conversion rate is specified, though, we\n",
    "must define a `sequence_length`:"
   ]
  },
  {
   "cell_type": "code",
   "execution_count": 14,
   "id": "stupid-combining",
   "metadata": {},
   "outputs": [
    {
     "data": {
      "text/plain": [
       "(10.0, 4)"
      ]
     },
     "execution_count": 14,
     "metadata": {},
     "output_type": "execute_result"
    }
   ],
   "source": [
    "    ts = msprime.sim_ancestry(\n",
    "        3, recombination_rate=0.1, sequence_length=10, random_seed=2)\n",
    "    ts.sequence_length, ts.num_trees"
   ]
  },
  {
   "cell_type": "code",
   "execution_count": 15,
   "id": "overhead-training",
   "metadata": {},
   "outputs": [],
   "source": [
    "\n",
    "    assert ts.num_trees > 1"
   ]
  },
  {
   "cell_type": "markdown",
   "id": "gothic-invite",
   "metadata": {},
   "source": [
    "In this example we have a uniform recombination rate between all\n",
    "positions along the genome. We can also simulate variable\n",
    "recombination rates along the genome using a {class}`.RateMap`."
   ]
  },
  {
   "cell_type": "code",
   "execution_count": 16,
   "id": "handy-empty",
   "metadata": {},
   "outputs": [
    {
     "data": {
      "text/plain": [
       "(20.0, 10)"
      ]
     },
     "execution_count": 16,
     "metadata": {},
     "output_type": "execute_result"
    }
   ],
   "source": [
    "    rate_map = msprime.RateMap(\n",
    "        position=[0, 10, 12, 20],\n",
    "        rate=[0.1, 0.5, 0.1])\n",
    "    ts = msprime.sim_ancestry(3, recombination_rate=rate_map, random_seed=2)\n",
    "    ts.sequence_length, ts.num_trees"
   ]
  },
  {
   "cell_type": "markdown",
   "id": "friendly-mobile",
   "metadata": {},
   "source": [
    "Here we specify varying recombination rates for a genome of length 20,\n",
    "and there's a hotspot from position 10 to 12. In this case we don't\n",
    "need to specify the `sequence_length` in the call to `sim_ancestry`\n",
    "because it's already defined by the {class}`.RateMap`.\n",
    "\n",
    "(sec_ancestry_discrete_genome)=\n",
    "\n",
    "### Discrete or continuous?"
   ]
  },
  {
   "cell_type": "code",
   "execution_count": 17,
   "id": "motivated-marks",
   "metadata": {
    "tags": [
     "remove-cell"
    ]
   },
   "outputs": [],
   "source": [
    "    msprime.core.set_seed_rng_seed(42)"
   ]
  },
  {
   "cell_type": "markdown",
   "id": "close-horizontal",
   "metadata": {},
   "source": [
    "By default, we assume that the genome we are simulating is *discrete*\n",
    "so that genome coordinates are at integer positions:"
   ]
  },
  {
   "cell_type": "code",
   "execution_count": 18,
   "id": "palestinian-proportion",
   "metadata": {},
   "outputs": [
    {
     "data": {
      "text/plain": [
       "10.0"
      ]
     },
     "execution_count": 18,
     "metadata": {},
     "output_type": "execute_result"
    }
   ],
   "source": [
    "    ts = msprime.sim_ancestry(\n",
    "        3, recombination_rate=0.1, sequence_length=10, random_seed=2)\n",
    "    ts.sequence_length"
   ]
  },
  {
   "cell_type": "code",
   "execution_count": 19,
   "id": "congressional-tuesday",
   "metadata": {},
   "outputs": [],
   "source": [
    "\n",
    "    assert 1 < ts.num_trees < 5\n"
   ]
  },
  {
   "cell_type": "code",
   "execution_count": 20,
   "id": "tested-forge",
   "metadata": {},
   "outputs": [
    {
     "data": {
      "image/svg+xml": [
       "<svg xmlns=\"http://www.w3.org/2000/svg\" xmlns:ev=\"http://www.w3.org/2001/xml-events\" xmlns:xlink=\"http://www.w3.org/1999/xlink\" baseProfile=\"full\" height=\"200\" version=\"1.1\" width=\"800\"><defs><style type=\"text/css\"><![CDATA[.axis {font-weight: bold}.tree, .axis {font-size: 14px; text-anchor:middle}.edge {stroke: black; fill: none}.node > .sym {fill: black; stroke: none}.tree text {dominant-baseline: middle}.tree .lab.lft {text-anchor: end}.tree .lab.rgt {text-anchor: start}.mut {fill: red; font-style: italic}]]></style></defs><g class=\"tree-sequence\"><g class=\"background\"><polygon fill=\"#F1F1F1\" points=\"20,185 20,180 20,160 20,0 210.0,0 210.0,160 172.0,180 172.0,185\"/><polygon fill=\"#F1F1F1\" points=\"324.0,185 324.0,180 400.0,160 400.0,0 590.0,0 590.0,160 552.0,180 552.0,185\"/></g><g class=\"trees\"><g class=\"treebox t0\" transform=\"translate(20 30)\"><g class=\"tree t0\"><g class=\"node n14 p0 root\" transform=\"translate(75.2679 30.0)\"><g class=\"a14 node n6 p0\" transform=\"translate(-28.8393 78.8187)\"><g class=\"a6 i0 leaf node n0 p0 sample\" transform=\"translate(-12.1429 1.18133)\"><path class=\"edge\" d=\"M 0 0 V -1.18133 H 12.1429\"/><circle class=\"sym\" cx=\"0\" cy=\"0\" r=\"3\"/><text class=\"lab\" transform=\"translate(0 12)\">0</text></g><g class=\"a6 i2 leaf node n5 p0 sample\" transform=\"translate(12.1429 1.18133)\"><path class=\"edge\" d=\"M 0 0 V -1.18133 H -12.1429\"/><circle class=\"sym\" cx=\"0\" cy=\"0\" r=\"3\"/><text class=\"lab\" transform=\"translate(0 12)\">5</text></g><path class=\"edge\" d=\"M 0 0 V -78.8187 H 28.8393\"/><circle class=\"sym\" cx=\"0\" cy=\"0\" r=\"3\"/><text class=\"lab lft\" transform=\"translate(-3 -6)\">6</text></g><g class=\"a14 node n9 p0\" transform=\"translate(28.8393 57.1514)\"><g class=\"a9 i0 leaf node n1 p0 sample\" transform=\"translate(-21.25 22.8486)\"><path class=\"edge\" d=\"M 0 0 V -22.8486 H 21.25\"/><circle class=\"sym\" cx=\"0\" cy=\"0\" r=\"3\"/><text class=\"lab\" transform=\"translate(0 12)\">1</text></g><g class=\"a9 node n8 p0\" transform=\"translate(21.25 8.41891)\"><g class=\"a8 i1 leaf node n2 p0 sample\" transform=\"translate(-18.2143 14.4297)\"><path class=\"edge\" d=\"M 0 0 V -14.4297 H 18.2143\"/><circle class=\"sym\" cx=\"0\" cy=\"0\" r=\"3\"/><text class=\"lab\" transform=\"translate(0 12)\">2</text></g><g class=\"a8 node n7 p0\" transform=\"translate(18.2143 2.42622)\"><g class=\"a7 i1 leaf node n3 p0 sample\" transform=\"translate(-12.1429 12.0035)\"><path class=\"edge\" d=\"M 0 0 V -12.0035 H 12.1429\"/><circle class=\"sym\" cx=\"0\" cy=\"0\" r=\"3\"/><text class=\"lab\" transform=\"translate(0 12)\">3</text></g><g class=\"a7 i2 leaf node n4 p0 sample\" transform=\"translate(12.1429 12.0035)\"><path class=\"edge\" d=\"M 0 0 V -12.0035 H -12.1429\"/><circle class=\"sym\" cx=\"0\" cy=\"0\" r=\"3\"/><text class=\"lab\" transform=\"translate(0 12)\">4</text></g><path class=\"edge\" d=\"M 0 0 V -2.42622 H -18.2143\"/><circle class=\"sym\" cx=\"0\" cy=\"0\" r=\"3\"/><text class=\"lab rgt\" transform=\"translate(3 -6)\">7</text></g><path class=\"edge\" d=\"M 0 0 V -8.41891 H -21.25\"/><circle class=\"sym\" cx=\"0\" cy=\"0\" r=\"3\"/><text class=\"lab rgt\" transform=\"translate(3 -6)\">8</text></g><path class=\"edge\" d=\"M 0 0 V -57.1514 H -28.8393\"/><circle class=\"sym\" cx=\"0\" cy=\"0\" r=\"3\"/><text class=\"lab rgt\" transform=\"translate(3 -6)\">9</text></g><circle class=\"sym\" cx=\"0\" cy=\"0\" r=\"3\"/><text class=\"lab\" transform=\"translate(0 -10)\">14</text></g></g></g><g class=\"treebox t1\" transform=\"translate(210.0 30)\"><g class=\"tree t1\"><g class=\"node n14 p0 root\" transform=\"translate(87.4107 30.0)\"><g class=\"a14 node n6 p0\" transform=\"translate(-40.9821 78.8187)\"><g class=\"a6 i0 leaf node n0 p0 sample\" transform=\"translate(-12.1429 1.18133)\"><path class=\"edge\" d=\"M 0 0 V -1.18133 H 12.1429\"/><circle class=\"sym\" cx=\"0\" cy=\"0\" r=\"3\"/><text class=\"lab\" transform=\"translate(0 12)\">0</text></g><g class=\"a6 i2 leaf node n5 p0 sample\" transform=\"translate(12.1429 1.18133)\"><path class=\"edge\" d=\"M 0 0 V -1.18133 H -12.1429\"/><circle class=\"sym\" cx=\"0\" cy=\"0\" r=\"3\"/><text class=\"lab\" transform=\"translate(0 12)\">5</text></g><path class=\"edge\" d=\"M 0 0 V -78.8187 H 40.9821\"/><circle class=\"sym\" cx=\"0\" cy=\"0\" r=\"3\"/><text class=\"lab lft\" transform=\"translate(-3 -6)\">6</text></g><g class=\"a14 node n13 p0\" transform=\"translate(40.9821 10.694)\"><g class=\"a13 i1 leaf node n3 p0 sample\" transform=\"translate(27.3214 69.306)\"><path class=\"edge\" d=\"M 0 0 V -69.306 H -27.3214\"/><circle class=\"sym\" cx=\"0\" cy=\"0\" r=\"3\"/><text class=\"lab\" transform=\"translate(0 12)\">3</text></g><g class=\"a13 node n9 p0\" transform=\"translate(-27.3214 46.4574)\"><g class=\"a9 i0 leaf node n1 p0 sample\" transform=\"translate(-18.2143 22.8486)\"><path class=\"edge\" d=\"M 0 0 V -22.8486 H 18.2143\"/><circle class=\"sym\" cx=\"0\" cy=\"0\" r=\"3\"/><text class=\"lab\" transform=\"translate(0 12)\">1</text></g><g class=\"a9 node n8 p0\" transform=\"translate(18.2143 8.41891)\"><g class=\"a8 i1 leaf node n2 p0 sample\" transform=\"translate(-12.1429 14.4297)\"><path class=\"edge\" d=\"M 0 0 V -14.4297 H 12.1429\"/><circle class=\"sym\" cx=\"0\" cy=\"0\" r=\"3\"/><text class=\"lab\" transform=\"translate(0 12)\">2</text></g><g class=\"a8 i2 leaf node n4 p0 sample\" transform=\"translate(12.1429 14.4297)\"><path class=\"edge\" d=\"M 0 0 V -14.4297 H -12.1429\"/><circle class=\"sym\" cx=\"0\" cy=\"0\" r=\"3\"/><text class=\"lab\" transform=\"translate(0 12)\">4</text></g><path class=\"edge\" d=\"M 0 0 V -8.41891 H -18.2143\"/><circle class=\"sym\" cx=\"0\" cy=\"0\" r=\"3\"/><text class=\"lab rgt\" transform=\"translate(3 -6)\">8</text></g><path class=\"edge\" d=\"M 0 0 V -46.4574 H 27.3214\"/><circle class=\"sym\" cx=\"0\" cy=\"0\" r=\"3\"/><text class=\"lab lft\" transform=\"translate(-3 -6)\">9</text></g><path class=\"edge\" d=\"M 0 0 V -10.694 H -40.9821\"/><circle class=\"sym\" cx=\"0\" cy=\"0\" r=\"3\"/><text class=\"lab rgt\" transform=\"translate(3 -6)\">13</text></g><circle class=\"sym\" cx=\"0\" cy=\"0\" r=\"3\"/><text class=\"lab\" transform=\"translate(0 -10)\">14</text></g></g></g><g class=\"treebox t2\" transform=\"translate(400.0 30)\"><g class=\"tree t2\"><g class=\"node n14 p0 root\" transform=\"translate(101.071 30.0)\"><g class=\"a14 node n13 p0\" transform=\"translate(36.4286 10.694)\"><g class=\"a13 i1 leaf node n3 p0 sample\" transform=\"translate(18.2143 69.306)\"><path class=\"edge\" d=\"M 0 0 V -69.306 H -18.2143\"/><circle class=\"sym\" cx=\"0\" cy=\"0\" r=\"3\"/><text class=\"lab\" transform=\"translate(0 12)\">3</text></g><g class=\"a13 node n8 p0\" transform=\"translate(-18.2143 54.8763)\"><g class=\"a8 i1 leaf node n2 p0 sample\" transform=\"translate(-12.1429 14.4297)\"><path class=\"edge\" d=\"M 0 0 V -14.4297 H 12.1429\"/><circle class=\"sym\" cx=\"0\" cy=\"0\" r=\"3\"/><text class=\"lab\" transform=\"translate(0 12)\">2</text></g><g class=\"a8 i2 leaf node n4 p0 sample\" transform=\"translate(12.1429 14.4297)\"><path class=\"edge\" d=\"M 0 0 V -14.4297 H -12.1429\"/><circle class=\"sym\" cx=\"0\" cy=\"0\" r=\"3\"/><text class=\"lab\" transform=\"translate(0 12)\">4</text></g><path class=\"edge\" d=\"M 0 0 V -54.8763 H 18.2143\"/><circle class=\"sym\" cx=\"0\" cy=\"0\" r=\"3\"/><text class=\"lab lft\" transform=\"translate(-3 -6)\">8</text></g><path class=\"edge\" d=\"M 0 0 V -10.694 H -36.4286\"/><circle class=\"sym\" cx=\"0\" cy=\"0\" r=\"3\"/><text class=\"lab rgt\" transform=\"translate(3 -6)\">13</text></g><g class=\"a14 node n10 p0\" transform=\"translate(-36.4286 50.9118)\"><g class=\"a10 i0 leaf node n1 p0 sample\" transform=\"translate(18.2143 29.0882)\"><path class=\"edge\" d=\"M 0 0 V -29.0882 H -18.2143\"/><circle class=\"sym\" cx=\"0\" cy=\"0\" r=\"3\"/><text class=\"lab\" transform=\"translate(0 12)\">1</text></g><g class=\"a10 node n6 p0\" transform=\"translate(-18.2143 27.9068)\"><g class=\"a6 i0 leaf node n0 p0 sample\" transform=\"translate(-12.1429 1.18133)\"><path class=\"edge\" d=\"M 0 0 V -1.18133 H 12.1429\"/><circle class=\"sym\" cx=\"0\" cy=\"0\" r=\"3\"/><text class=\"lab\" transform=\"translate(0 12)\">0</text></g><g class=\"a6 i2 leaf node n5 p0 sample\" transform=\"translate(12.1429 1.18133)\"><path class=\"edge\" d=\"M 0 0 V -1.18133 H -12.1429\"/><circle class=\"sym\" cx=\"0\" cy=\"0\" r=\"3\"/><text class=\"lab\" transform=\"translate(0 12)\">5</text></g><path class=\"edge\" d=\"M 0 0 V -27.9068 H 18.2143\"/><circle class=\"sym\" cx=\"0\" cy=\"0\" r=\"3\"/><text class=\"lab lft\" transform=\"translate(-3 -6)\">6</text></g><path class=\"edge\" d=\"M 0 0 V -50.9118 H 36.4286\"/><circle class=\"sym\" cx=\"0\" cy=\"0\" r=\"3\"/><text class=\"lab lft\" transform=\"translate(-3 -6)\">10</text></g><circle class=\"sym\" cx=\"0\" cy=\"0\" r=\"3\"/><text class=\"lab\" transform=\"translate(0 -10)\">14</text></g></g></g><g class=\"treebox t3\" transform=\"translate(590.0 30)\"><g class=\"tree t3\"><g class=\"node n13 p0 root\" transform=\"translate(95.0 40.694)\"><g class=\"a13 node n11 p0\" transform=\"translate(30.3571 12.9815)\"><g class=\"a11 i0 leaf node n1 p0 sample\" transform=\"translate(-18.2143 56.3245)\"><path class=\"edge\" d=\"M 0 0 V -56.3245 H 18.2143\"/><circle class=\"sym\" cx=\"0\" cy=\"0\" r=\"3\"/><text class=\"lab\" transform=\"translate(0 12)\">1</text></g><g class=\"a11 node n8 p0\" transform=\"translate(18.2143 41.8948)\"><g class=\"a8 i1 leaf node n2 p0 sample\" transform=\"translate(-12.1429 14.4297)\"><path class=\"edge\" d=\"M 0 0 V -14.4297 H 12.1429\"/><circle class=\"sym\" cx=\"0\" cy=\"0\" r=\"3\"/><text class=\"lab\" transform=\"translate(0 12)\">2</text></g><g class=\"a8 i2 leaf node n4 p0 sample\" transform=\"translate(12.1429 14.4297)\"><path class=\"edge\" d=\"M 0 0 V -14.4297 H -12.1429\"/><circle class=\"sym\" cx=\"0\" cy=\"0\" r=\"3\"/><text class=\"lab\" transform=\"translate(0 12)\">4</text></g><path class=\"edge\" d=\"M 0 0 V -41.8948 H -18.2143\"/><circle class=\"sym\" cx=\"0\" cy=\"0\" r=\"3\"/><text class=\"lab rgt\" transform=\"translate(3 -6)\">8</text></g><path class=\"edge\" d=\"M 0 0 V -12.9815 H -30.3571\"/><circle class=\"sym\" cx=\"0\" cy=\"0\" r=\"3\"/><text class=\"lab rgt\" transform=\"translate(3 -6)\">11</text></g><g class=\"a13 node n12 p0\" transform=\"translate(-30.3571 10.1709)\"><g class=\"a12 i1 leaf node n3 p0 sample\" transform=\"translate(18.2143 59.1352)\"><path class=\"edge\" d=\"M 0 0 V -59.1352 H -18.2143\"/><circle class=\"sym\" cx=\"0\" cy=\"0\" r=\"3\"/><text class=\"lab\" transform=\"translate(0 12)\">3</text></g><g class=\"a12 node n6 p0\" transform=\"translate(-18.2143 57.9538)\"><g class=\"a6 i0 leaf node n0 p0 sample\" transform=\"translate(-12.1429 1.18133)\"><path class=\"edge\" d=\"M 0 0 V -1.18133 H 12.1429\"/><circle class=\"sym\" cx=\"0\" cy=\"0\" r=\"3\"/><text class=\"lab\" transform=\"translate(0 12)\">0</text></g><g class=\"a6 i2 leaf node n5 p0 sample\" transform=\"translate(12.1429 1.18133)\"><path class=\"edge\" d=\"M 0 0 V -1.18133 H -12.1429\"/><circle class=\"sym\" cx=\"0\" cy=\"0\" r=\"3\"/><text class=\"lab\" transform=\"translate(0 12)\">5</text></g><path class=\"edge\" d=\"M 0 0 V -57.9538 H 18.2143\"/><circle class=\"sym\" cx=\"0\" cy=\"0\" r=\"3\"/><text class=\"lab lft\" transform=\"translate(-3 -6)\">6</text></g><path class=\"edge\" d=\"M 0 0 V -10.1709 H 30.3571\"/><circle class=\"sym\" cx=\"0\" cy=\"0\" r=\"3\"/><text class=\"lab lft\" transform=\"translate(-3 -6)\">12</text></g><circle class=\"sym\" cx=\"0\" cy=\"0\" r=\"3\"/><text class=\"lab\" transform=\"translate(0 -10)\">13</text></g></g></g></g><g class=\"axis\"><line stroke=\"black\" x1=\"20\" x2=\"780\" y1=\"180\" y2=\"180\"/><line stroke=\"black\" x1=\"20\" x2=\"20\" y1=\"180\" y2=\"185\"/><g transform=\"translate(20, 200)\"><text font-size=\"14\" font-weight=\"bold\" text-anchor=\"middle\">0</text></g><line stroke=\"black\" x1=\"172.0\" x2=\"172.0\" y1=\"180\" y2=\"185\"/><g transform=\"translate(172.0, 200)\"><text font-size=\"14\" font-weight=\"bold\" text-anchor=\"middle\">2</text></g><line stroke=\"black\" x1=\"324.0\" x2=\"324.0\" y1=\"180\" y2=\"185\"/><g transform=\"translate(324.0, 200)\"><text font-size=\"14\" font-weight=\"bold\" text-anchor=\"middle\">4</text></g><line stroke=\"black\" x1=\"552.0\" x2=\"552.0\" y1=\"180\" y2=\"185\"/><g transform=\"translate(552.0, 200)\"><text font-size=\"14\" font-weight=\"bold\" text-anchor=\"middle\">7</text></g><line stroke=\"black\" x1=\"780.0\" x2=\"780.0\" y1=\"180\" y2=\"185\"/><g transform=\"translate(780.0, 200)\"><text font-size=\"14\" font-weight=\"bold\" text-anchor=\"middle\">10</text></g></g></g></svg>"
      ],
      "text/plain": [
       "<IPython.core.display.SVG object>"
      ]
     },
     "execution_count": 20,
     "metadata": {
      "filenames": {
       "image/svg+xml": "/home/runner/work/tskit-site/tskit-site/docs/_build/jupyter_execute/ancestry_35_0.svg"
      }
     },
     "output_type": "execute_result"
    }
   ],
   "source": [
    "    SVG(ts.draw_svg())"
   ]
  },
  {
   "cell_type": "markdown",
   "id": "cardiovascular-reduction",
   "metadata": {},
   "source": [
    "We can also simulate a continous genome by setting\n",
    "`discrete_genome=False`:"
   ]
  },
  {
   "cell_type": "code",
   "execution_count": 21,
   "id": "numeric-treasure",
   "metadata": {},
   "outputs": [
    {
     "data": {
      "image/svg+xml": [
       "<svg xmlns=\"http://www.w3.org/2000/svg\" xmlns:ev=\"http://www.w3.org/2001/xml-events\" xmlns:xlink=\"http://www.w3.org/1999/xlink\" baseProfile=\"full\" height=\"200\" version=\"1.1\" width=\"600\"><defs><style type=\"text/css\"><![CDATA[.axis {font-weight: bold}.tree, .axis {font-size: 14px; text-anchor:middle}.edge {stroke: black; fill: none}.node > .sym {fill: black; stroke: none}.tree text {dominant-baseline: middle}.tree .lab.lft {text-anchor: end}.tree .lab.rgt {text-anchor: start}.mut {fill: red; font-style: italic}]]></style></defs><g class=\"tree-sequence\"><g class=\"background\"><polygon fill=\"#F1F1F1\" points=\"20,185 20,180 20,160 20,0 206.667,0 206.667,160 119.746,180 119.746,185\"/><polygon fill=\"#F1F1F1\" points=\"188.839,185 188.839,180 393.333,160 393.333,0 580.0,0 580.0,160 580.0,180 580.0,185\"/></g><g class=\"trees\"><g class=\"treebox t0\" transform=\"translate(20 30)\"><g class=\"tree t0\"><g class=\"node n10 p0 root\" transform=\"translate(128.304 38.6509)\"><g class=\"a10 i2 leaf node n4 p0 sample\" transform=\"translate(24.5536 71.3491)\"><path class=\"edge\" d=\"M 0 0 V -71.3491 H -24.5536\"/><circle class=\"sym\" cx=\"0\" cy=\"0\" r=\"3\"/><text class=\"lab\" transform=\"translate(0 12)\">4</text></g><g class=\"a10 node n9 p0\" transform=\"translate(-24.5536 51.0488)\"><g class=\"a9 i2 leaf node n5 p0 sample\" transform=\"translate(25.2976 20.3004)\"><path class=\"edge\" d=\"M 0 0 V -20.3004 H -25.2976\"/><circle class=\"sym\" cx=\"0\" cy=\"0\" r=\"3\"/><text class=\"lab\" transform=\"translate(0 12)\">5</text></g><g class=\"a9 node n8 p0\" transform=\"translate(-25.2976 4.98265)\"><g class=\"a8 i1 leaf node n2 p0 sample\" transform=\"translate(26.7857 15.3177)\"><path class=\"edge\" d=\"M 0 0 V -15.3177 H -26.7857\"/><circle class=\"sym\" cx=\"0\" cy=\"0\" r=\"3\"/><text class=\"lab\" transform=\"translate(0 12)\">2</text></g><g class=\"a8 node n7 p0\" transform=\"translate(-26.7857 4.13895)\"><g class=\"a7 i0 leaf node n0 p0 sample\" transform=\"translate(-17.8571 11.1788)\"><path class=\"edge\" d=\"M 0 0 V -11.1788 H 17.8571\"/><circle class=\"sym\" cx=\"0\" cy=\"0\" r=\"3\"/><text class=\"lab\" transform=\"translate(0 12)\">0</text></g><g class=\"a7 node n6 p0\" transform=\"translate(17.8571 8.89284)\"><g class=\"a6 i0 leaf node n1 p0 sample\" transform=\"translate(-11.9048 2.28594)\"><path class=\"edge\" d=\"M 0 0 V -2.28594 H 11.9048\"/><circle class=\"sym\" cx=\"0\" cy=\"0\" r=\"3\"/><text class=\"lab\" transform=\"translate(0 12)\">1</text></g><g class=\"a6 i1 leaf node n3 p0 sample\" transform=\"translate(11.9048 2.28594)\"><path class=\"edge\" d=\"M 0 0 V -2.28594 H -11.9048\"/><circle class=\"sym\" cx=\"0\" cy=\"0\" r=\"3\"/><text class=\"lab\" transform=\"translate(0 12)\">3</text></g><path class=\"edge\" d=\"M 0 0 V -8.89284 H -17.8571\"/><circle class=\"sym\" cx=\"0\" cy=\"0\" r=\"3\"/><text class=\"lab rgt\" transform=\"translate(3 -6)\">6</text></g><path class=\"edge\" d=\"M 0 0 V -4.13895 H 26.7857\"/><circle class=\"sym\" cx=\"0\" cy=\"0\" r=\"3\"/><text class=\"lab lft\" transform=\"translate(-3 -6)\">7</text></g><path class=\"edge\" d=\"M 0 0 V -4.98265 H 25.2976\"/><circle class=\"sym\" cx=\"0\" cy=\"0\" r=\"3\"/><text class=\"lab lft\" transform=\"translate(-3 -6)\">8</text></g><path class=\"edge\" d=\"M 0 0 V -51.0488 H 24.5536\"/><circle class=\"sym\" cx=\"0\" cy=\"0\" r=\"3\"/><text class=\"lab lft\" transform=\"translate(-3 -6)\">9</text></g><circle class=\"sym\" cx=\"0\" cy=\"0\" r=\"3\"/><text class=\"lab\" transform=\"translate(0 -10)\">10</text></g></g></g><g class=\"treebox t1\" transform=\"translate(206.667 30)\"><g class=\"tree t1\"><g class=\"node n11 p0 root\" transform=\"translate(128.304 30.0)\"><g class=\"a11 i2 leaf node n4 p0 sample\" transform=\"translate(24.5536 80.0)\"><path class=\"edge\" d=\"M 0 0 V -80.0 H -24.5536\"/><circle class=\"sym\" cx=\"0\" cy=\"0\" r=\"3\"/><text class=\"lab\" transform=\"translate(0 12)\">4</text></g><g class=\"a11 node n9 p0\" transform=\"translate(-24.5536 59.6996)\"><g class=\"a9 i2 leaf node n5 p0 sample\" transform=\"translate(25.2976 20.3004)\"><path class=\"edge\" d=\"M 0 0 V -20.3004 H -25.2976\"/><circle class=\"sym\" cx=\"0\" cy=\"0\" r=\"3\"/><text class=\"lab\" transform=\"translate(0 12)\">5</text></g><g class=\"a9 node n8 p0\" transform=\"translate(-25.2976 4.98265)\"><g class=\"a8 i1 leaf node n2 p0 sample\" transform=\"translate(26.7857 15.3177)\"><path class=\"edge\" d=\"M 0 0 V -15.3177 H -26.7857\"/><circle class=\"sym\" cx=\"0\" cy=\"0\" r=\"3\"/><text class=\"lab\" transform=\"translate(0 12)\">2</text></g><g class=\"a8 node n7 p0\" transform=\"translate(-26.7857 4.13895)\"><g class=\"a7 i0 leaf node n0 p0 sample\" transform=\"translate(-17.8571 11.1788)\"><path class=\"edge\" d=\"M 0 0 V -11.1788 H 17.8571\"/><circle class=\"sym\" cx=\"0\" cy=\"0\" r=\"3\"/><text class=\"lab\" transform=\"translate(0 12)\">0</text></g><g class=\"a7 node n6 p0\" transform=\"translate(17.8571 8.89284)\"><g class=\"a6 i0 leaf node n1 p0 sample\" transform=\"translate(-11.9048 2.28594)\"><path class=\"edge\" d=\"M 0 0 V -2.28594 H 11.9048\"/><circle class=\"sym\" cx=\"0\" cy=\"0\" r=\"3\"/><text class=\"lab\" transform=\"translate(0 12)\">1</text></g><g class=\"a6 i1 leaf node n3 p0 sample\" transform=\"translate(11.9048 2.28594)\"><path class=\"edge\" d=\"M 0 0 V -2.28594 H -11.9048\"/><circle class=\"sym\" cx=\"0\" cy=\"0\" r=\"3\"/><text class=\"lab\" transform=\"translate(0 12)\">3</text></g><path class=\"edge\" d=\"M 0 0 V -8.89284 H -17.8571\"/><circle class=\"sym\" cx=\"0\" cy=\"0\" r=\"3\"/><text class=\"lab rgt\" transform=\"translate(3 -6)\">6</text></g><path class=\"edge\" d=\"M 0 0 V -4.13895 H 26.7857\"/><circle class=\"sym\" cx=\"0\" cy=\"0\" r=\"3\"/><text class=\"lab lft\" transform=\"translate(-3 -6)\">7</text></g><path class=\"edge\" d=\"M 0 0 V -4.98265 H 25.2976\"/><circle class=\"sym\" cx=\"0\" cy=\"0\" r=\"3\"/><text class=\"lab lft\" transform=\"translate(-3 -6)\">8</text></g><path class=\"edge\" d=\"M 0 0 V -59.6996 H 24.5536\"/><circle class=\"sym\" cx=\"0\" cy=\"0\" r=\"3\"/><text class=\"lab lft\" transform=\"translate(-3 -6)\">9</text></g><circle class=\"sym\" cx=\"0\" cy=\"0\" r=\"3\"/><text class=\"lab\" transform=\"translate(0 -10)\">11</text></g></g></g><g class=\"treebox t2\" transform=\"translate(393.333 30)\"><g class=\"tree t2\"><g class=\"node n11 p0 root\" transform=\"translate(128.304 30.0)\"><g class=\"a11 i2 leaf node n4 p0 sample\" transform=\"translate(24.5536 80.0)\"><path class=\"edge\" d=\"M 0 0 V -80.0 H -24.5536\"/><circle class=\"sym\" cx=\"0\" cy=\"0\" r=\"3\"/><text class=\"lab\" transform=\"translate(0 12)\">4</text></g><g class=\"a11 node n10 p0\" transform=\"translate(-24.5536 8.65085)\"><g class=\"a10 i2 leaf node n5 p0 sample\" transform=\"translate(25.2976 71.3491)\"><path class=\"edge\" d=\"M 0 0 V -71.3491 H -25.2976\"/><circle class=\"sym\" cx=\"0\" cy=\"0\" r=\"3\"/><text class=\"lab\" transform=\"translate(0 12)\">5</text></g><g class=\"a10 node n8 p0\" transform=\"translate(-25.2976 56.0314)\"><g class=\"a8 i1 leaf node n2 p0 sample\" transform=\"translate(26.7857 15.3177)\"><path class=\"edge\" d=\"M 0 0 V -15.3177 H -26.7857\"/><circle class=\"sym\" cx=\"0\" cy=\"0\" r=\"3\"/><text class=\"lab\" transform=\"translate(0 12)\">2</text></g><g class=\"a8 node n7 p0\" transform=\"translate(-26.7857 4.13895)\"><g class=\"a7 i0 leaf node n0 p0 sample\" transform=\"translate(-17.8571 11.1788)\"><path class=\"edge\" d=\"M 0 0 V -11.1788 H 17.8571\"/><circle class=\"sym\" cx=\"0\" cy=\"0\" r=\"3\"/><text class=\"lab\" transform=\"translate(0 12)\">0</text></g><g class=\"a7 node n6 p0\" transform=\"translate(17.8571 8.89284)\"><g class=\"a6 i0 leaf node n1 p0 sample\" transform=\"translate(-11.9048 2.28594)\"><path class=\"edge\" d=\"M 0 0 V -2.28594 H 11.9048\"/><circle class=\"sym\" cx=\"0\" cy=\"0\" r=\"3\"/><text class=\"lab\" transform=\"translate(0 12)\">1</text></g><g class=\"a6 i1 leaf node n3 p0 sample\" transform=\"translate(11.9048 2.28594)\"><path class=\"edge\" d=\"M 0 0 V -2.28594 H -11.9048\"/><circle class=\"sym\" cx=\"0\" cy=\"0\" r=\"3\"/><text class=\"lab\" transform=\"translate(0 12)\">3</text></g><path class=\"edge\" d=\"M 0 0 V -8.89284 H -17.8571\"/><circle class=\"sym\" cx=\"0\" cy=\"0\" r=\"3\"/><text class=\"lab rgt\" transform=\"translate(3 -6)\">6</text></g><path class=\"edge\" d=\"M 0 0 V -4.13895 H 26.7857\"/><circle class=\"sym\" cx=\"0\" cy=\"0\" r=\"3\"/><text class=\"lab lft\" transform=\"translate(-3 -6)\">7</text></g><path class=\"edge\" d=\"M 0 0 V -56.0314 H 25.2976\"/><circle class=\"sym\" cx=\"0\" cy=\"0\" r=\"3\"/><text class=\"lab lft\" transform=\"translate(-3 -6)\">8</text></g><path class=\"edge\" d=\"M 0 0 V -8.65085 H 24.5536\"/><circle class=\"sym\" cx=\"0\" cy=\"0\" r=\"3\"/><text class=\"lab lft\" transform=\"translate(-3 -6)\">10</text></g><circle class=\"sym\" cx=\"0\" cy=\"0\" r=\"3\"/><text class=\"lab\" transform=\"translate(0 -10)\">11</text></g></g></g></g><g class=\"axis\"><line stroke=\"black\" x1=\"20\" x2=\"580\" y1=\"180\" y2=\"180\"/><line stroke=\"black\" x1=\"20\" x2=\"20\" y1=\"180\" y2=\"185\"/><g transform=\"translate(20, 200)\"><text font-size=\"14\" font-weight=\"bold\" text-anchor=\"middle\">0.00</text></g><line stroke=\"black\" x1=\"119.746\" x2=\"119.746\" y1=\"180\" y2=\"185\"/><g transform=\"translate(119.746, 200)\"><text font-size=\"14\" font-weight=\"bold\" text-anchor=\"middle\">0.18</text></g><line stroke=\"black\" x1=\"188.839\" x2=\"188.839\" y1=\"180\" y2=\"185\"/><g transform=\"translate(188.839, 200)\"><text font-size=\"14\" font-weight=\"bold\" text-anchor=\"middle\">0.30</text></g><line stroke=\"black\" x1=\"580.0\" x2=\"580.0\" y1=\"180\" y2=\"185\"/><g transform=\"translate(580.0, 200)\"><text font-size=\"14\" font-weight=\"bold\" text-anchor=\"middle\">1.00</text></g></g></g></svg>"
      ],
      "text/plain": [
       "<IPython.core.display.SVG object>"
      ]
     },
     "execution_count": 21,
     "metadata": {
      "filenames": {
       "image/svg+xml": "/home/runner/work/tskit-site/tskit-site/docs/_build/jupyter_execute/ancestry_37_0.svg"
      }
     },
     "output_type": "execute_result"
    }
   ],
   "source": [
    "    ts = msprime.sim_ancestry(\n",
    "        3, recombination_rate=0.25, sequence_length=1, discrete_genome=False,\n",
    "        random_seed=33)\n",
    "    SVG(ts.draw_svg())"
   ]
  },
  {
   "cell_type": "code",
   "execution_count": 22,
   "id": "loose-notification",
   "metadata": {},
   "outputs": [],
   "source": [
    "\n",
    "    assert 1 < ts.num_trees < 5"
   ]
  },
  {
   "cell_type": "markdown",
   "id": "quick-massachusetts",
   "metadata": {},
   "source": [
    "Here we see that the breakpoints along the genome occur at floating point\n",
    "positions. Simulating a continuous genome sequence can be useful for\n",
    "theoretical work, but we recommend using discrete coordinates for most\n",
    "purposes.\n",
    "\n",
    "(sec_ancestry_recombination)=\n",
    "\n",
    "### Recombination\n",
    "\n",
    "```{eval-rst}\n",
    ".. todo:: This is old text taken from api.rst. Reuse as appropriate.\n",
    "    Note that some of this is specific to the Hudson model and so\n",
    "    should perhaps be moved in there.\n",
    "```\n",
    "\n",
    "Similarly, recombination rates are per unit of sequence length and per\n",
    "generation in `msprime`. Thus, given the per generation crossover rate\n",
    "{math}`r`, the overall rate of recombination between the ends of the sequence\n",
    "in coalescent time units is {math}`\\rho = 4 N_e r L`. Although breakpoints do\n",
    "not necessarily occur at integer locations, the underlying recombination model\n",
    "is finite, and the behaviour of a small number of loci can be modelled using\n",
    "the {class}`.RecombinationMap` class. However, this is considered an advanced\n",
    "feature and the majority of cases should be well served with the default\n",
    "recombination model and number of loci."
   ]
  },
  {
   "cell_type": "code",
   "execution_count": 23,
   "id": "classical-memorabilia",
   "metadata": {
    "tags": [
     "remove-cell"
    ]
   },
   "outputs": [],
   "source": [
    "    msprime.core.set_seed_rng_seed(42)"
   ]
  },
  {
   "cell_type": "markdown",
   "id": "functional-controversy",
   "metadata": {},
   "source": [
    "```{eval-rst}\n",
    ".. todo:: Examples of the different ways we can specify recombination\n",
    "    rates. Ideally we'd start with an\n",
    "    example with one GC event where we could explain what happened.\n",
    "    This might be tricky to finesse.\n",
    "\n",
    "```"
   ]
  },
  {
   "cell_type": "code",
   "execution_count": 24,
   "id": "metric-roommate",
   "metadata": {},
   "outputs": [
    {
     "data": {
      "text/plain": [
       "10.0"
      ]
     },
     "execution_count": 24,
     "metadata": {},
     "output_type": "execute_result"
    }
   ],
   "source": [
    "    ts = msprime.sim_ancestry(\n",
    "        3, recombination_rate=0.1, sequence_length=10, random_seed=2)\n",
    "    ts.sequence_length"
   ]
  },
  {
   "cell_type": "code",
   "execution_count": 25,
   "id": "brown-reaction",
   "metadata": {},
   "outputs": [],
   "source": [
    "\n",
    "    assert 1 < ts.num_trees < 5"
   ]
  },
  {
   "cell_type": "markdown",
   "id": "stuck-joyce",
   "metadata": {},
   "source": [
    "(sec_ancestry_gene_conversion)=\n",
    "\n",
    "### Gene conversion"
   ]
  },
  {
   "cell_type": "code",
   "execution_count": 26,
   "id": "amino-wallace",
   "metadata": {
    "tags": [
     "remove-cell"
    ]
   },
   "outputs": [],
   "source": [
    "    msprime.core.set_seed_rng_seed(42)"
   ]
  },
  {
   "cell_type": "markdown",
   "id": "driving-judges",
   "metadata": {},
   "source": [
    "Gene conversion events are defined by two parameters: the rate at which gene\n",
    "conversion events are initiated and the distribution of tract lengths.\n",
    "In the default case of discrete genome coordinates, tract lengths are drawn\n",
    "from a geometric distribution with mean gene_conversion_tract_length (which\n",
    "must be at least 1). Note that if we specify a tract length of 1, then all\n",
    "gene conversion tracts will have length exactly 1.\n",
    "In the following example one gene conversion event of length 1 has occured."
   ]
  },
  {
   "cell_type": "code",
   "execution_count": 27,
   "id": "dominant-cylinder",
   "metadata": {},
   "outputs": [
    {
     "data": {
      "image/svg+xml": [
       "<svg xmlns=\"http://www.w3.org/2000/svg\" xmlns:ev=\"http://www.w3.org/2001/xml-events\" xmlns:xlink=\"http://www.w3.org/1999/xlink\" baseProfile=\"full\" height=\"200\" version=\"1.1\" width=\"600\"><defs><style type=\"text/css\"><![CDATA[.axis {font-weight: bold}.tree, .axis {font-size: 14px; text-anchor:middle}.edge {stroke: black; fill: none}.node > .sym {fill: black; stroke: none}.tree text {dominant-baseline: middle}.tree .lab.lft {text-anchor: end}.tree .lab.rgt {text-anchor: start}.mut {fill: red; font-style: italic}]]></style></defs><g class=\"tree-sequence\"><g class=\"background\"><polygon fill=\"#F1F1F1\" points=\"20,185 20,180 20,160 20,0 206.667,0 206.667,160 300.0,180 300.0,185\"/><polygon fill=\"#F1F1F1\" points=\"356.0,185 356.0,180 393.333,160 393.333,0 580.0,0 580.0,160 580.0,180 580.0,185\"/></g><g class=\"trees\"><g class=\"treebox t0\" transform=\"translate(20 30)\"><g class=\"tree t0\"><g class=\"node n11 p0 root\" transform=\"translate(81.4286 30.0)\"><g class=\"a11 node n6 p0\" transform=\"translate(-35.7143 75.4517)\"><g class=\"a6 i0 leaf node n0 p0 sample\" transform=\"translate(-11.9048 4.54829)\"><path class=\"edge\" d=\"M 0 0 V -4.54829 H 11.9048\"/><circle class=\"sym\" cx=\"0\" cy=\"0\" r=\"3\"/><text class=\"lab\" transform=\"translate(0 12)\">0</text></g><g class=\"a6 i2 leaf node n4 p0 sample\" transform=\"translate(11.9048 4.54829)\"><path class=\"edge\" d=\"M 0 0 V -4.54829 H -11.9048\"/><circle class=\"sym\" cx=\"0\" cy=\"0\" r=\"3\"/><text class=\"lab\" transform=\"translate(0 12)\">4</text></g><path class=\"edge\" d=\"M 0 0 V -75.4517 H 35.7143\"/><circle class=\"sym\" cx=\"0\" cy=\"0\" r=\"3\"/><text class=\"lab lft\" transform=\"translate(-3 -6)\">6</text></g><g class=\"a11 node n10 p0\" transform=\"translate(35.7143 57.1143)\"><g class=\"a10 node n8 p0\" transform=\"translate(23.8095 13.3168)\"><g class=\"a8 i1 leaf node n2 p0 sample\" transform=\"translate(-11.9048 9.56892)\"><path class=\"edge\" d=\"M 0 0 V -9.56892 H 11.9048\"/><circle class=\"sym\" cx=\"0\" cy=\"0\" r=\"3\"/><text class=\"lab\" transform=\"translate(0 12)\">2</text></g><g class=\"a8 i1 leaf node n3 p0 sample\" transform=\"translate(11.9048 9.56892)\"><path class=\"edge\" d=\"M 0 0 V -9.56892 H -11.9048\"/><circle class=\"sym\" cx=\"0\" cy=\"0\" r=\"3\"/><text class=\"lab\" transform=\"translate(0 12)\">3</text></g><path class=\"edge\" d=\"M 0 0 V -13.3168 H -23.8095\"/><circle class=\"sym\" cx=\"0\" cy=\"0\" r=\"3\"/><text class=\"lab rgt\" transform=\"translate(3 -6)\">8</text></g><g class=\"a10 node n9 p0\" transform=\"translate(-23.8095 9.50587)\"><g class=\"a9 i0 leaf node n1 p0 sample\" transform=\"translate(-11.9048 13.3798)\"><path class=\"edge\" d=\"M 0 0 V -13.3798 H 11.9048\"/><circle class=\"sym\" cx=\"0\" cy=\"0\" r=\"3\"/><text class=\"lab\" transform=\"translate(0 12)\">1</text></g><g class=\"a9 i2 leaf node n5 p0 sample\" transform=\"translate(11.9048 13.3798)\"><path class=\"edge\" d=\"M 0 0 V -13.3798 H -11.9048\"/><circle class=\"sym\" cx=\"0\" cy=\"0\" r=\"3\"/><text class=\"lab\" transform=\"translate(0 12)\">5</text></g><path class=\"edge\" d=\"M 0 0 V -9.50587 H 23.8095\"/><circle class=\"sym\" cx=\"0\" cy=\"0\" r=\"3\"/><text class=\"lab lft\" transform=\"translate(-3 -6)\">9</text></g><path class=\"edge\" d=\"M 0 0 V -57.1143 H -35.7143\"/><circle class=\"sym\" cx=\"0\" cy=\"0\" r=\"3\"/><text class=\"lab rgt\" transform=\"translate(3 -6)\">10</text></g><circle class=\"sym\" cx=\"0\" cy=\"0\" r=\"3\"/><text class=\"lab\" transform=\"translate(0 -10)\">11</text></g></g></g><g class=\"treebox t1\" transform=\"translate(206.667 30)\"><g class=\"tree t1\"><g class=\"node n11 p0 root\" transform=\"translate(99.2857 30.0)\"><g class=\"a11 node n10 p0\" transform=\"translate(35.7143 57.1143)\"><g class=\"a10 node n8 p0\" transform=\"translate(-17.8571 13.3168)\"><g class=\"a8 i1 leaf node n2 p0 sample\" transform=\"translate(-11.9048 9.56892)\"><path class=\"edge\" d=\"M 0 0 V -9.56892 H 11.9048\"/><circle class=\"sym\" cx=\"0\" cy=\"0\" r=\"3\"/><text class=\"lab\" transform=\"translate(0 12)\">2</text></g><g class=\"a8 i1 leaf node n3 p0 sample\" transform=\"translate(11.9048 9.56892)\"><path class=\"edge\" d=\"M 0 0 V -9.56892 H -11.9048\"/><circle class=\"sym\" cx=\"0\" cy=\"0\" r=\"3\"/><text class=\"lab\" transform=\"translate(0 12)\">3</text></g><path class=\"edge\" d=\"M 0 0 V -13.3168 H 17.8571\"/><circle class=\"sym\" cx=\"0\" cy=\"0\" r=\"3\"/><text class=\"lab lft\" transform=\"translate(-3 -6)\">8</text></g><g class=\"a10 i2 leaf node n5 p0 sample\" transform=\"translate(17.8571 22.8857)\"><path class=\"edge\" d=\"M 0 0 V -22.8857 H -17.8571\"/><circle class=\"sym\" cx=\"0\" cy=\"0\" r=\"3\"/><text class=\"lab\" transform=\"translate(0 12)\">5</text></g><path class=\"edge\" d=\"M 0 0 V -57.1143 H -35.7143\"/><circle class=\"sym\" cx=\"0\" cy=\"0\" r=\"3\"/><text class=\"lab rgt\" transform=\"translate(3 -6)\">10</text></g><g class=\"a11 node n7 p0\" transform=\"translate(-35.7143 70.9752)\"><g class=\"a7 i0 leaf node n1 p0 sample\" transform=\"translate(17.8571 9.02478)\"><path class=\"edge\" d=\"M 0 0 V -9.02478 H -17.8571\"/><circle class=\"sym\" cx=\"0\" cy=\"0\" r=\"3\"/><text class=\"lab\" transform=\"translate(0 12)\">1</text></g><g class=\"a7 node n6 p0\" transform=\"translate(-17.8571 4.47649)\"><g class=\"a6 i0 leaf node n0 p0 sample\" transform=\"translate(-11.9048 4.54829)\"><path class=\"edge\" d=\"M 0 0 V -4.54829 H 11.9048\"/><circle class=\"sym\" cx=\"0\" cy=\"0\" r=\"3\"/><text class=\"lab\" transform=\"translate(0 12)\">0</text></g><g class=\"a6 i2 leaf node n4 p0 sample\" transform=\"translate(11.9048 4.54829)\"><path class=\"edge\" d=\"M 0 0 V -4.54829 H -11.9048\"/><circle class=\"sym\" cx=\"0\" cy=\"0\" r=\"3\"/><text class=\"lab\" transform=\"translate(0 12)\">4</text></g><path class=\"edge\" d=\"M 0 0 V -4.47649 H 17.8571\"/><circle class=\"sym\" cx=\"0\" cy=\"0\" r=\"3\"/><text class=\"lab lft\" transform=\"translate(-3 -6)\">6</text></g><path class=\"edge\" d=\"M 0 0 V -70.9752 H 35.7143\"/><circle class=\"sym\" cx=\"0\" cy=\"0\" r=\"3\"/><text class=\"lab lft\" transform=\"translate(-3 -6)\">7</text></g><circle class=\"sym\" cx=\"0\" cy=\"0\" r=\"3\"/><text class=\"lab\" transform=\"translate(0 -10)\">11</text></g></g></g><g class=\"treebox t2\" transform=\"translate(393.333 30)\"><g class=\"tree t2\"><g class=\"node n11 p0 root\" transform=\"translate(81.4286 30.0)\"><g class=\"a11 node n10 p0\" transform=\"translate(35.7143 57.1143)\"><g class=\"a10 node n8 p0\" transform=\"translate(23.8095 13.3168)\"><g class=\"a8 i1 leaf node n2 p0 sample\" transform=\"translate(-11.9048 9.56892)\"><path class=\"edge\" d=\"M 0 0 V -9.56892 H 11.9048\"/><circle class=\"sym\" cx=\"0\" cy=\"0\" r=\"3\"/><text class=\"lab\" transform=\"translate(0 12)\">2</text></g><g class=\"a8 i1 leaf node n3 p0 sample\" transform=\"translate(11.9048 9.56892)\"><path class=\"edge\" d=\"M 0 0 V -9.56892 H -11.9048\"/><circle class=\"sym\" cx=\"0\" cy=\"0\" r=\"3\"/><text class=\"lab\" transform=\"translate(0 12)\">3</text></g><path class=\"edge\" d=\"M 0 0 V -13.3168 H -23.8095\"/><circle class=\"sym\" cx=\"0\" cy=\"0\" r=\"3\"/><text class=\"lab rgt\" transform=\"translate(3 -6)\">8</text></g><g class=\"a10 node n9 p0\" transform=\"translate(-23.8095 9.50587)\"><g class=\"a9 i0 leaf node n1 p0 sample\" transform=\"translate(-11.9048 13.3798)\"><path class=\"edge\" d=\"M 0 0 V -13.3798 H 11.9048\"/><circle class=\"sym\" cx=\"0\" cy=\"0\" r=\"3\"/><text class=\"lab\" transform=\"translate(0 12)\">1</text></g><g class=\"a9 i2 leaf node n5 p0 sample\" transform=\"translate(11.9048 13.3798)\"><path class=\"edge\" d=\"M 0 0 V -13.3798 H -11.9048\"/><circle class=\"sym\" cx=\"0\" cy=\"0\" r=\"3\"/><text class=\"lab\" transform=\"translate(0 12)\">5</text></g><path class=\"edge\" d=\"M 0 0 V -9.50587 H 23.8095\"/><circle class=\"sym\" cx=\"0\" cy=\"0\" r=\"3\"/><text class=\"lab lft\" transform=\"translate(-3 -6)\">9</text></g><path class=\"edge\" d=\"M 0 0 V -57.1143 H -35.7143\"/><circle class=\"sym\" cx=\"0\" cy=\"0\" r=\"3\"/><text class=\"lab rgt\" transform=\"translate(3 -6)\">10</text></g><g class=\"a11 node n6 p0\" transform=\"translate(-35.7143 75.4517)\"><g class=\"a6 i0 leaf node n0 p0 sample\" transform=\"translate(-11.9048 4.54829)\"><path class=\"edge\" d=\"M 0 0 V -4.54829 H 11.9048\"/><circle class=\"sym\" cx=\"0\" cy=\"0\" r=\"3\"/><text class=\"lab\" transform=\"translate(0 12)\">0</text></g><g class=\"a6 i2 leaf node n4 p0 sample\" transform=\"translate(11.9048 4.54829)\"><path class=\"edge\" d=\"M 0 0 V -4.54829 H -11.9048\"/><circle class=\"sym\" cx=\"0\" cy=\"0\" r=\"3\"/><text class=\"lab\" transform=\"translate(0 12)\">4</text></g><path class=\"edge\" d=\"M 0 0 V -75.4517 H 35.7143\"/><circle class=\"sym\" cx=\"0\" cy=\"0\" r=\"3\"/><text class=\"lab lft\" transform=\"translate(-3 -6)\">6</text></g><circle class=\"sym\" cx=\"0\" cy=\"0\" r=\"3\"/><text class=\"lab\" transform=\"translate(0 -10)\">11</text></g></g></g></g><g class=\"axis\"><line stroke=\"black\" x1=\"20\" x2=\"580\" y1=\"180\" y2=\"180\"/><line stroke=\"black\" x1=\"20\" x2=\"20\" y1=\"180\" y2=\"185\"/><g transform=\"translate(20, 200)\"><text font-size=\"14\" font-weight=\"bold\" text-anchor=\"middle\">0</text></g><line stroke=\"black\" x1=\"300.0\" x2=\"300.0\" y1=\"180\" y2=\"185\"/><g transform=\"translate(300.0, 200)\"><text font-size=\"14\" font-weight=\"bold\" text-anchor=\"middle\">5</text></g><line stroke=\"black\" x1=\"356.0\" x2=\"356.0\" y1=\"180\" y2=\"185\"/><g transform=\"translate(356.0, 200)\"><text font-size=\"14\" font-weight=\"bold\" text-anchor=\"middle\">6</text></g><line stroke=\"black\" x1=\"580.0\" x2=\"580.0\" y1=\"180\" y2=\"185\"/><g transform=\"translate(580.0, 200)\"><text font-size=\"14\" font-weight=\"bold\" text-anchor=\"middle\">10</text></g></g></g></svg>"
      ],
      "text/plain": [
       "<IPython.core.display.SVG object>"
      ]
     },
     "execution_count": 27,
     "metadata": {
      "filenames": {
       "image/svg+xml": "/home/runner/work/tskit-site/tskit-site/docs/_build/jupyter_execute/ancestry_47_0.svg"
      }
     },
     "output_type": "execute_result"
    }
   ],
   "source": [
    "    ts = msprime.sim_ancestry(\n",
    "        3, gene_conversion_rate=0.02, gene_conversion_tract_length=1,\n",
    "        sequence_length=10, random_seed=3)\n",
    "    ts.sequence_length\n",
    "    SVG(ts.draw_svg())"
   ]
  },
  {
   "cell_type": "code",
   "execution_count": 28,
   "id": "spiritual-trust",
   "metadata": {},
   "outputs": [],
   "source": [
    "\n",
    "    assert 1 < ts.num_trees < 5"
   ]
  },
  {
   "cell_type": "markdown",
   "id": "colored-paris",
   "metadata": {},
   "source": [
    "Continous genomes can also be used. In this case the parameters define\n",
    "the rate at which gene conversion events are initiated per unit of sequence\n",
    "length and the mean of the exponentially distributed gene conversion tract\n",
    "lengths. The following example shows the same simulation as above but for a\n",
    "continuous genome of length 1 and scaled gene conversion parameters."
   ]
  },
  {
   "cell_type": "code",
   "execution_count": 29,
   "id": "further-edition",
   "metadata": {},
   "outputs": [
    {
     "data": {
      "image/svg+xml": [
       "<svg xmlns=\"http://www.w3.org/2000/svg\" xmlns:ev=\"http://www.w3.org/2001/xml-events\" xmlns:xlink=\"http://www.w3.org/1999/xlink\" baseProfile=\"full\" height=\"200\" version=\"1.1\" width=\"600\"><defs><style type=\"text/css\"><![CDATA[.axis {font-weight: bold}.tree, .axis {font-size: 14px; text-anchor:middle}.edge {stroke: black; fill: none}.node > .sym {fill: black; stroke: none}.tree text {dominant-baseline: middle}.tree .lab.lft {text-anchor: end}.tree .lab.rgt {text-anchor: start}.mut {fill: red; font-style: italic}]]></style></defs><g class=\"tree-sequence\"><g class=\"background\"><polygon fill=\"#F1F1F1\" points=\"20,185 20,180 20,160 20,0 206.667,0 206.667,160 280.251,180 280.251,185\"/><polygon fill=\"#F1F1F1\" points=\"312.428,185 312.428,180 393.333,160 393.333,0 580.0,0 580.0,160 580.0,180 580.0,185\"/></g><g class=\"trees\"><g class=\"treebox t0\" transform=\"translate(20 30)\"><g class=\"tree t0\"><g class=\"node n11 p0 root\" transform=\"translate(81.4286 30.0)\"><g class=\"a11 node n6 p0\" transform=\"translate(-35.7143 75.2696)\"><g class=\"a6 i0 leaf node n0 p0 sample\" transform=\"translate(-11.9048 4.73042)\"><path class=\"edge\" d=\"M 0 0 V -4.73042 H 11.9048\"/><circle class=\"sym\" cx=\"0\" cy=\"0\" r=\"3\"/><text class=\"lab\" transform=\"translate(0 12)\">0</text></g><g class=\"a6 i2 leaf node n4 p0 sample\" transform=\"translate(11.9048 4.73042)\"><path class=\"edge\" d=\"M 0 0 V -4.73042 H -11.9048\"/><circle class=\"sym\" cx=\"0\" cy=\"0\" r=\"3\"/><text class=\"lab\" transform=\"translate(0 12)\">4</text></g><path class=\"edge\" d=\"M 0 0 V -75.2696 H 35.7143\"/><circle class=\"sym\" cx=\"0\" cy=\"0\" r=\"3\"/><text class=\"lab lft\" transform=\"translate(-3 -6)\">6</text></g><g class=\"a11 node n10 p0\" transform=\"translate(35.7143 56.7333)\"><g class=\"a10 node n8 p0\" transform=\"translate(23.8095 13.7287)\"><g class=\"a8 i1 leaf node n2 p0 sample\" transform=\"translate(-11.9048 9.53806)\"><path class=\"edge\" d=\"M 0 0 V -9.53806 H 11.9048\"/><circle class=\"sym\" cx=\"0\" cy=\"0\" r=\"3\"/><text class=\"lab\" transform=\"translate(0 12)\">2</text></g><g class=\"a8 i1 leaf node n3 p0 sample\" transform=\"translate(11.9048 9.53806)\"><path class=\"edge\" d=\"M 0 0 V -9.53806 H -11.9048\"/><circle class=\"sym\" cx=\"0\" cy=\"0\" r=\"3\"/><text class=\"lab\" transform=\"translate(0 12)\">3</text></g><path class=\"edge\" d=\"M 0 0 V -13.7287 H -23.8095\"/><circle class=\"sym\" cx=\"0\" cy=\"0\" r=\"3\"/><text class=\"lab rgt\" transform=\"translate(3 -6)\">8</text></g><g class=\"a10 node n9 p0\" transform=\"translate(-23.8095 9.88652)\"><g class=\"a9 i0 leaf node n1 p0 sample\" transform=\"translate(-11.9048 13.3802)\"><path class=\"edge\" d=\"M 0 0 V -13.3802 H 11.9048\"/><circle class=\"sym\" cx=\"0\" cy=\"0\" r=\"3\"/><text class=\"lab\" transform=\"translate(0 12)\">1</text></g><g class=\"a9 i2 leaf node n5 p0 sample\" transform=\"translate(11.9048 13.3802)\"><path class=\"edge\" d=\"M 0 0 V -13.3802 H -11.9048\"/><circle class=\"sym\" cx=\"0\" cy=\"0\" r=\"3\"/><text class=\"lab\" transform=\"translate(0 12)\">5</text></g><path class=\"edge\" d=\"M 0 0 V -9.88652 H 23.8095\"/><circle class=\"sym\" cx=\"0\" cy=\"0\" r=\"3\"/><text class=\"lab lft\" transform=\"translate(-3 -6)\">9</text></g><path class=\"edge\" d=\"M 0 0 V -56.7333 H -35.7143\"/><circle class=\"sym\" cx=\"0\" cy=\"0\" r=\"3\"/><text class=\"lab rgt\" transform=\"translate(3 -6)\">10</text></g><circle class=\"sym\" cx=\"0\" cy=\"0\" r=\"3\"/><text class=\"lab\" transform=\"translate(0 -10)\">11</text></g></g></g><g class=\"treebox t1\" transform=\"translate(206.667 30)\"><g class=\"tree t1\"><g class=\"node n11 p0 root\" transform=\"translate(99.2857 30.0)\"><g class=\"a11 node n10 p0\" transform=\"translate(35.7143 56.7333)\"><g class=\"a10 node n8 p0\" transform=\"translate(-17.8571 13.7287)\"><g class=\"a8 i1 leaf node n2 p0 sample\" transform=\"translate(-11.9048 9.53806)\"><path class=\"edge\" d=\"M 0 0 V -9.53806 H 11.9048\"/><circle class=\"sym\" cx=\"0\" cy=\"0\" r=\"3\"/><text class=\"lab\" transform=\"translate(0 12)\">2</text></g><g class=\"a8 i1 leaf node n3 p0 sample\" transform=\"translate(11.9048 9.53806)\"><path class=\"edge\" d=\"M 0 0 V -9.53806 H -11.9048\"/><circle class=\"sym\" cx=\"0\" cy=\"0\" r=\"3\"/><text class=\"lab\" transform=\"translate(0 12)\">3</text></g><path class=\"edge\" d=\"M 0 0 V -13.7287 H 17.8571\"/><circle class=\"sym\" cx=\"0\" cy=\"0\" r=\"3\"/><text class=\"lab lft\" transform=\"translate(-3 -6)\">8</text></g><g class=\"a10 i2 leaf node n5 p0 sample\" transform=\"translate(17.8571 23.2667)\"><path class=\"edge\" d=\"M 0 0 V -23.2667 H -17.8571\"/><circle class=\"sym\" cx=\"0\" cy=\"0\" r=\"3\"/><text class=\"lab\" transform=\"translate(0 12)\">5</text></g><path class=\"edge\" d=\"M 0 0 V -56.7333 H -35.7143\"/><circle class=\"sym\" cx=\"0\" cy=\"0\" r=\"3\"/><text class=\"lab rgt\" transform=\"translate(3 -6)\">10</text></g><g class=\"a11 node n7 p0\" transform=\"translate(-35.7143 71.0279)\"><g class=\"a7 i0 leaf node n1 p0 sample\" transform=\"translate(17.8571 8.97214)\"><path class=\"edge\" d=\"M 0 0 V -8.97214 H -17.8571\"/><circle class=\"sym\" cx=\"0\" cy=\"0\" r=\"3\"/><text class=\"lab\" transform=\"translate(0 12)\">1</text></g><g class=\"a7 node n6 p0\" transform=\"translate(-17.8571 4.24172)\"><g class=\"a6 i0 leaf node n0 p0 sample\" transform=\"translate(-11.9048 4.73042)\"><path class=\"edge\" d=\"M 0 0 V -4.73042 H 11.9048\"/><circle class=\"sym\" cx=\"0\" cy=\"0\" r=\"3\"/><text class=\"lab\" transform=\"translate(0 12)\">0</text></g><g class=\"a6 i2 leaf node n4 p0 sample\" transform=\"translate(11.9048 4.73042)\"><path class=\"edge\" d=\"M 0 0 V -4.73042 H -11.9048\"/><circle class=\"sym\" cx=\"0\" cy=\"0\" r=\"3\"/><text class=\"lab\" transform=\"translate(0 12)\">4</text></g><path class=\"edge\" d=\"M 0 0 V -4.24172 H 17.8571\"/><circle class=\"sym\" cx=\"0\" cy=\"0\" r=\"3\"/><text class=\"lab lft\" transform=\"translate(-3 -6)\">6</text></g><path class=\"edge\" d=\"M 0 0 V -71.0279 H 35.7143\"/><circle class=\"sym\" cx=\"0\" cy=\"0\" r=\"3\"/><text class=\"lab lft\" transform=\"translate(-3 -6)\">7</text></g><circle class=\"sym\" cx=\"0\" cy=\"0\" r=\"3\"/><text class=\"lab\" transform=\"translate(0 -10)\">11</text></g></g></g><g class=\"treebox t2\" transform=\"translate(393.333 30)\"><g class=\"tree t2\"><g class=\"node n11 p0 root\" transform=\"translate(81.4286 30.0)\"><g class=\"a11 node n10 p0\" transform=\"translate(35.7143 56.7333)\"><g class=\"a10 node n8 p0\" transform=\"translate(23.8095 13.7287)\"><g class=\"a8 i1 leaf node n2 p0 sample\" transform=\"translate(-11.9048 9.53806)\"><path class=\"edge\" d=\"M 0 0 V -9.53806 H 11.9048\"/><circle class=\"sym\" cx=\"0\" cy=\"0\" r=\"3\"/><text class=\"lab\" transform=\"translate(0 12)\">2</text></g><g class=\"a8 i1 leaf node n3 p0 sample\" transform=\"translate(11.9048 9.53806)\"><path class=\"edge\" d=\"M 0 0 V -9.53806 H -11.9048\"/><circle class=\"sym\" cx=\"0\" cy=\"0\" r=\"3\"/><text class=\"lab\" transform=\"translate(0 12)\">3</text></g><path class=\"edge\" d=\"M 0 0 V -13.7287 H -23.8095\"/><circle class=\"sym\" cx=\"0\" cy=\"0\" r=\"3\"/><text class=\"lab rgt\" transform=\"translate(3 -6)\">8</text></g><g class=\"a10 node n9 p0\" transform=\"translate(-23.8095 9.88652)\"><g class=\"a9 i0 leaf node n1 p0 sample\" transform=\"translate(-11.9048 13.3802)\"><path class=\"edge\" d=\"M 0 0 V -13.3802 H 11.9048\"/><circle class=\"sym\" cx=\"0\" cy=\"0\" r=\"3\"/><text class=\"lab\" transform=\"translate(0 12)\">1</text></g><g class=\"a9 i2 leaf node n5 p0 sample\" transform=\"translate(11.9048 13.3802)\"><path class=\"edge\" d=\"M 0 0 V -13.3802 H -11.9048\"/><circle class=\"sym\" cx=\"0\" cy=\"0\" r=\"3\"/><text class=\"lab\" transform=\"translate(0 12)\">5</text></g><path class=\"edge\" d=\"M 0 0 V -9.88652 H 23.8095\"/><circle class=\"sym\" cx=\"0\" cy=\"0\" r=\"3\"/><text class=\"lab lft\" transform=\"translate(-3 -6)\">9</text></g><path class=\"edge\" d=\"M 0 0 V -56.7333 H -35.7143\"/><circle class=\"sym\" cx=\"0\" cy=\"0\" r=\"3\"/><text class=\"lab rgt\" transform=\"translate(3 -6)\">10</text></g><g class=\"a11 node n6 p0\" transform=\"translate(-35.7143 75.2696)\"><g class=\"a6 i0 leaf node n0 p0 sample\" transform=\"translate(-11.9048 4.73042)\"><path class=\"edge\" d=\"M 0 0 V -4.73042 H 11.9048\"/><circle class=\"sym\" cx=\"0\" cy=\"0\" r=\"3\"/><text class=\"lab\" transform=\"translate(0 12)\">0</text></g><g class=\"a6 i2 leaf node n4 p0 sample\" transform=\"translate(11.9048 4.73042)\"><path class=\"edge\" d=\"M 0 0 V -4.73042 H -11.9048\"/><circle class=\"sym\" cx=\"0\" cy=\"0\" r=\"3\"/><text class=\"lab\" transform=\"translate(0 12)\">4</text></g><path class=\"edge\" d=\"M 0 0 V -75.2696 H 35.7143\"/><circle class=\"sym\" cx=\"0\" cy=\"0\" r=\"3\"/><text class=\"lab lft\" transform=\"translate(-3 -6)\">6</text></g><circle class=\"sym\" cx=\"0\" cy=\"0\" r=\"3\"/><text class=\"lab\" transform=\"translate(0 -10)\">11</text></g></g></g></g><g class=\"axis\"><line stroke=\"black\" x1=\"20\" x2=\"580\" y1=\"180\" y2=\"180\"/><line stroke=\"black\" x1=\"20\" x2=\"20\" y1=\"180\" y2=\"185\"/><g transform=\"translate(20, 200)\"><text font-size=\"14\" font-weight=\"bold\" text-anchor=\"middle\">0.00</text></g><line stroke=\"black\" x1=\"280.251\" x2=\"280.251\" y1=\"180\" y2=\"185\"/><g transform=\"translate(280.251, 200)\"><text font-size=\"14\" font-weight=\"bold\" text-anchor=\"middle\">0.46</text></g><line stroke=\"black\" x1=\"312.428\" x2=\"312.428\" y1=\"180\" y2=\"185\"/><g transform=\"translate(312.428, 200)\"><text font-size=\"14\" font-weight=\"bold\" text-anchor=\"middle\">0.52</text></g><line stroke=\"black\" x1=\"580.0\" x2=\"580.0\" y1=\"180\" y2=\"185\"/><g transform=\"translate(580.0, 200)\"><text font-size=\"14\" font-weight=\"bold\" text-anchor=\"middle\">1.00</text></g></g></g></svg>"
      ],
      "text/plain": [
       "<IPython.core.display.SVG object>"
      ]
     },
     "execution_count": 29,
     "metadata": {
      "filenames": {
       "image/svg+xml": "/home/runner/work/tskit-site/tskit-site/docs/_build/jupyter_execute/ancestry_50_0.svg"
      }
     },
     "output_type": "execute_result"
    }
   ],
   "source": [
    "    ts = msprime.sim_ancestry(\n",
    "        3, gene_conversion_rate=0.2, gene_conversion_tract_length=0.1,\n",
    "        sequence_length=1, random_seed=3, discrete_genome=False)\n",
    "    ts.sequence_length\n",
    "    SVG(ts.draw_svg())"
   ]
  },
  {
   "cell_type": "code",
   "execution_count": 30,
   "id": "liked-louisville",
   "metadata": {},
   "outputs": [],
   "source": [
    "\n",
    "    assert 1 < ts.num_trees < 5"
   ]
  },
  {
   "cell_type": "markdown",
   "id": "surprised-sense",
   "metadata": {},
   "source": [
    "Recombination and gene conversion at constant rates can be simulated alongside.\n",
    "In the following example recombinations at site 60 and 97 have occured in addition\n",
    "to a gene conversion event covering the tract from site 76 to site 80."
   ]
  },
  {
   "cell_type": "code",
   "execution_count": 31,
   "id": "whole-bowling",
   "metadata": {},
   "outputs": [
    {
     "data": {
      "image/svg+xml": [
       "<svg xmlns=\"http://www.w3.org/2000/svg\" xmlns:ev=\"http://www.w3.org/2001/xml-events\" xmlns:xlink=\"http://www.w3.org/1999/xlink\" baseProfile=\"full\" height=\"200\" version=\"1.1\" width=\"1000\"><defs><style type=\"text/css\"><![CDATA[.axis {font-weight: bold}.tree, .axis {font-size: 14px; text-anchor:middle}.edge {stroke: black; fill: none}.node > .sym {fill: black; stroke: none}.tree text {dominant-baseline: middle}.tree .lab.lft {text-anchor: end}.tree .lab.rgt {text-anchor: start}.mut {fill: red; font-style: italic}]]></style></defs><g class=\"tree-sequence\"><g class=\"background\"><polygon fill=\"#F1F1F1\" points=\"20,185 20,180 20,160 20,0 212.0,0 212.0,160 596.0,180 596.0,185\"/><polygon fill=\"#F1F1F1\" points=\"749.6,185 749.6,180 404.0,160 404.0,0 596.0,0 596.0,160 797.6,180 797.6,185\"/><polygon fill=\"#F1F1F1\" points=\"951.2,185 951.2,180 788.0,160 788.0,0 980.0,0 980.0,160 980.0,180 980.0,185\"/></g><g class=\"trees\"><g class=\"treebox t0\" transform=\"translate(20 30)\"><g class=\"tree t0\"><g class=\"node n10 p0 root\" transform=\"translate(119.036 94.1039)\"><g class=\"a10 i1 leaf node n2 p0 sample\" transform=\"translate(38.3929 15.8961)\"><path class=\"edge\" d=\"M 0 0 V -15.8961 H -38.3929\"/><circle class=\"sym\" cx=\"0\" cy=\"0\" r=\"3\"/><text class=\"lab\" transform=\"translate(0 12)\">2</text></g><g class=\"a10 node n9 p0\" transform=\"translate(-38.3929 4.29528)\"><g class=\"a9 node n7 p0\" transform=\"translate(33.7857 8.76515)\"><g class=\"a7 i1 leaf node n3 p0 sample\" transform=\"translate(18.4286 2.83563)\"><path class=\"edge\" d=\"M 0 0 V -2.83563 H -18.4286\"/><circle class=\"sym\" cx=\"0\" cy=\"0\" r=\"3\"/><text class=\"lab\" transform=\"translate(0 12)\">3</text></g><g class=\"a7 node n6 p0\" transform=\"translate(-18.4286 2.56915)\"><g class=\"a6 i0 leaf node n1 p0 sample\" transform=\"translate(-12.2857 0.266481)\"><path class=\"edge\" d=\"M 0 0 V -0.266481 H 12.2857\"/><circle class=\"sym\" cx=\"0\" cy=\"0\" r=\"3\"/><text class=\"lab\" transform=\"translate(0 12)\">1</text></g><g class=\"a6 i2 leaf node n5 p0 sample\" transform=\"translate(12.2857 0.266481)\"><path class=\"edge\" d=\"M 0 0 V -0.266481 H -12.2857\"/><circle class=\"sym\" cx=\"0\" cy=\"0\" r=\"3\"/><text class=\"lab\" transform=\"translate(0 12)\">5</text></g><path class=\"edge\" d=\"M 0 0 V -2.56915 H 18.4286\"/><circle class=\"sym\" cx=\"0\" cy=\"0\" r=\"3\"/><text class=\"lab lft\" transform=\"translate(-3 -6)\">6</text></g><path class=\"edge\" d=\"M 0 0 V -8.76515 H -33.7857\"/><circle class=\"sym\" cx=\"0\" cy=\"0\" r=\"3\"/><text class=\"lab rgt\" transform=\"translate(3 -6)\">7</text></g><g class=\"a9 node n8 p0\" transform=\"translate(-33.7857 4.58766)\"><g class=\"a8 i0 leaf node n0 p0 sample\" transform=\"translate(-12.2857 7.01312)\"><path class=\"edge\" d=\"M 0 0 V -7.01312 H 12.2857\"/><circle class=\"sym\" cx=\"0\" cy=\"0\" r=\"3\"/><text class=\"lab\" transform=\"translate(0 12)\">0</text></g><g class=\"a8 i2 leaf node n4 p0 sample\" transform=\"translate(12.2857 7.01312)\"><path class=\"edge\" d=\"M 0 0 V -7.01312 H -12.2857\"/><circle class=\"sym\" cx=\"0\" cy=\"0\" r=\"3\"/><text class=\"lab\" transform=\"translate(0 12)\">4</text></g><path class=\"edge\" d=\"M 0 0 V -4.58766 H 33.7857\"/><circle class=\"sym\" cx=\"0\" cy=\"0\" r=\"3\"/><text class=\"lab lft\" transform=\"translate(-3 -6)\">8</text></g><path class=\"edge\" d=\"M 0 0 V -4.29528 H 38.3929\"/><circle class=\"sym\" cx=\"0\" cy=\"0\" r=\"3\"/><text class=\"lab lft\" transform=\"translate(-3 -6)\">9</text></g><circle class=\"sym\" cx=\"0\" cy=\"0\" r=\"3\"/><text class=\"lab\" transform=\"translate(0 -10)\">10</text></g></g></g><g class=\"treebox t1\" transform=\"translate(212.0 30)\"><g class=\"tree t1\"><g class=\"node n11 p0 root\" transform=\"translate(119.036 83.4342)\"><g class=\"a11 i1 leaf node n2 p0 sample\" transform=\"translate(38.3929 26.5658)\"><path class=\"edge\" d=\"M 0 0 V -26.5658 H -38.3929\"/><circle class=\"sym\" cx=\"0\" cy=\"0\" r=\"3\"/><text class=\"lab\" transform=\"translate(0 12)\">2</text></g><g class=\"a11 node n9 p0\" transform=\"translate(-38.3929 14.965)\"><g class=\"a9 node n7 p0\" transform=\"translate(33.7857 8.76515)\"><g class=\"a7 i1 leaf node n3 p0 sample\" transform=\"translate(18.4286 2.83563)\"><path class=\"edge\" d=\"M 0 0 V -2.83563 H -18.4286\"/><circle class=\"sym\" cx=\"0\" cy=\"0\" r=\"3\"/><text class=\"lab\" transform=\"translate(0 12)\">3</text></g><g class=\"a7 node n6 p0\" transform=\"translate(-18.4286 2.56915)\"><g class=\"a6 i0 leaf node n1 p0 sample\" transform=\"translate(-12.2857 0.266481)\"><path class=\"edge\" d=\"M 0 0 V -0.266481 H 12.2857\"/><circle class=\"sym\" cx=\"0\" cy=\"0\" r=\"3\"/><text class=\"lab\" transform=\"translate(0 12)\">1</text></g><g class=\"a6 i2 leaf node n5 p0 sample\" transform=\"translate(12.2857 0.266481)\"><path class=\"edge\" d=\"M 0 0 V -0.266481 H -12.2857\"/><circle class=\"sym\" cx=\"0\" cy=\"0\" r=\"3\"/><text class=\"lab\" transform=\"translate(0 12)\">5</text></g><path class=\"edge\" d=\"M 0 0 V -2.56915 H 18.4286\"/><circle class=\"sym\" cx=\"0\" cy=\"0\" r=\"3\"/><text class=\"lab lft\" transform=\"translate(-3 -6)\">6</text></g><path class=\"edge\" d=\"M 0 0 V -8.76515 H -33.7857\"/><circle class=\"sym\" cx=\"0\" cy=\"0\" r=\"3\"/><text class=\"lab rgt\" transform=\"translate(3 -6)\">7</text></g><g class=\"a9 node n8 p0\" transform=\"translate(-33.7857 4.58766)\"><g class=\"a8 i0 leaf node n0 p0 sample\" transform=\"translate(-12.2857 7.01312)\"><path class=\"edge\" d=\"M 0 0 V -7.01312 H 12.2857\"/><circle class=\"sym\" cx=\"0\" cy=\"0\" r=\"3\"/><text class=\"lab\" transform=\"translate(0 12)\">0</text></g><g class=\"a8 i2 leaf node n4 p0 sample\" transform=\"translate(12.2857 7.01312)\"><path class=\"edge\" d=\"M 0 0 V -7.01312 H -12.2857\"/><circle class=\"sym\" cx=\"0\" cy=\"0\" r=\"3\"/><text class=\"lab\" transform=\"translate(0 12)\">4</text></g><path class=\"edge\" d=\"M 0 0 V -4.58766 H 33.7857\"/><circle class=\"sym\" cx=\"0\" cy=\"0\" r=\"3\"/><text class=\"lab lft\" transform=\"translate(-3 -6)\">8</text></g><path class=\"edge\" d=\"M 0 0 V -14.965 H 38.3929\"/><circle class=\"sym\" cx=\"0\" cy=\"0\" r=\"3\"/><text class=\"lab lft\" transform=\"translate(-3 -6)\">9</text></g><circle class=\"sym\" cx=\"0\" cy=\"0\" r=\"3\"/><text class=\"lab\" transform=\"translate(0 -10)\">11</text></g></g></g><g class=\"treebox t2\" transform=\"translate(404.0 30)\"><g class=\"tree t2\"><g class=\"node n12 p0 root\" transform=\"translate(119.036 77.125)\"><g class=\"a12 i1 leaf node n2 p0 sample\" transform=\"translate(38.3929 32.875)\"><path class=\"edge\" d=\"M 0 0 V -32.875 H -38.3929\"/><circle class=\"sym\" cx=\"0\" cy=\"0\" r=\"3\"/><text class=\"lab\" transform=\"translate(0 12)\">2</text></g><g class=\"a12 node n9 p0\" transform=\"translate(-38.3929 21.2742)\"><g class=\"a9 node n7 p0\" transform=\"translate(33.7857 8.76515)\"><g class=\"a7 i1 leaf node n3 p0 sample\" transform=\"translate(18.4286 2.83563)\"><path class=\"edge\" d=\"M 0 0 V -2.83563 H -18.4286\"/><circle class=\"sym\" cx=\"0\" cy=\"0\" r=\"3\"/><text class=\"lab\" transform=\"translate(0 12)\">3</text></g><g class=\"a7 node n6 p0\" transform=\"translate(-18.4286 2.56915)\"><g class=\"a6 i0 leaf node n1 p0 sample\" transform=\"translate(-12.2857 0.266481)\"><path class=\"edge\" d=\"M 0 0 V -0.266481 H 12.2857\"/><circle class=\"sym\" cx=\"0\" cy=\"0\" r=\"3\"/><text class=\"lab\" transform=\"translate(0 12)\">1</text></g><g class=\"a6 i2 leaf node n5 p0 sample\" transform=\"translate(12.2857 0.266481)\"><path class=\"edge\" d=\"M 0 0 V -0.266481 H -12.2857\"/><circle class=\"sym\" cx=\"0\" cy=\"0\" r=\"3\"/><text class=\"lab\" transform=\"translate(0 12)\">5</text></g><path class=\"edge\" d=\"M 0 0 V -2.56915 H 18.4286\"/><circle class=\"sym\" cx=\"0\" cy=\"0\" r=\"3\"/><text class=\"lab lft\" transform=\"translate(-3 -6)\">6</text></g><path class=\"edge\" d=\"M 0 0 V -8.76515 H -33.7857\"/><circle class=\"sym\" cx=\"0\" cy=\"0\" r=\"3\"/><text class=\"lab rgt\" transform=\"translate(3 -6)\">7</text></g><g class=\"a9 node n8 p0\" transform=\"translate(-33.7857 4.58766)\"><g class=\"a8 i0 leaf node n0 p0 sample\" transform=\"translate(-12.2857 7.01312)\"><path class=\"edge\" d=\"M 0 0 V -7.01312 H 12.2857\"/><circle class=\"sym\" cx=\"0\" cy=\"0\" r=\"3\"/><text class=\"lab\" transform=\"translate(0 12)\">0</text></g><g class=\"a8 i2 leaf node n4 p0 sample\" transform=\"translate(12.2857 7.01312)\"><path class=\"edge\" d=\"M 0 0 V -7.01312 H -12.2857\"/><circle class=\"sym\" cx=\"0\" cy=\"0\" r=\"3\"/><text class=\"lab\" transform=\"translate(0 12)\">4</text></g><path class=\"edge\" d=\"M 0 0 V -4.58766 H 33.7857\"/><circle class=\"sym\" cx=\"0\" cy=\"0\" r=\"3\"/><text class=\"lab lft\" transform=\"translate(-3 -6)\">8</text></g><path class=\"edge\" d=\"M 0 0 V -21.2742 H 38.3929\"/><circle class=\"sym\" cx=\"0\" cy=\"0\" r=\"3\"/><text class=\"lab lft\" transform=\"translate(-3 -6)\">9</text></g><circle class=\"sym\" cx=\"0\" cy=\"0\" r=\"3\"/><text class=\"lab\" transform=\"translate(0 -10)\">12</text></g></g></g><g class=\"treebox t3\" transform=\"translate(596.0 30)\"><g class=\"tree t3\"><g class=\"node n11 p0 root\" transform=\"translate(119.036 83.4342)\"><g class=\"a11 i1 leaf node n2 p0 sample\" transform=\"translate(38.3929 26.5658)\"><path class=\"edge\" d=\"M 0 0 V -26.5658 H -38.3929\"/><circle class=\"sym\" cx=\"0\" cy=\"0\" r=\"3\"/><text class=\"lab\" transform=\"translate(0 12)\">2</text></g><g class=\"a11 node n9 p0\" transform=\"translate(-38.3929 14.965)\"><g class=\"a9 node n7 p0\" transform=\"translate(33.7857 8.76515)\"><g class=\"a7 i1 leaf node n3 p0 sample\" transform=\"translate(18.4286 2.83563)\"><path class=\"edge\" d=\"M 0 0 V -2.83563 H -18.4286\"/><circle class=\"sym\" cx=\"0\" cy=\"0\" r=\"3\"/><text class=\"lab\" transform=\"translate(0 12)\">3</text></g><g class=\"a7 node n6 p0\" transform=\"translate(-18.4286 2.56915)\"><g class=\"a6 i0 leaf node n1 p0 sample\" transform=\"translate(-12.2857 0.266481)\"><path class=\"edge\" d=\"M 0 0 V -0.266481 H 12.2857\"/><circle class=\"sym\" cx=\"0\" cy=\"0\" r=\"3\"/><text class=\"lab\" transform=\"translate(0 12)\">1</text></g><g class=\"a6 i2 leaf node n5 p0 sample\" transform=\"translate(12.2857 0.266481)\"><path class=\"edge\" d=\"M 0 0 V -0.266481 H -12.2857\"/><circle class=\"sym\" cx=\"0\" cy=\"0\" r=\"3\"/><text class=\"lab\" transform=\"translate(0 12)\">5</text></g><path class=\"edge\" d=\"M 0 0 V -2.56915 H 18.4286\"/><circle class=\"sym\" cx=\"0\" cy=\"0\" r=\"3\"/><text class=\"lab lft\" transform=\"translate(-3 -6)\">6</text></g><path class=\"edge\" d=\"M 0 0 V -8.76515 H -33.7857\"/><circle class=\"sym\" cx=\"0\" cy=\"0\" r=\"3\"/><text class=\"lab rgt\" transform=\"translate(3 -6)\">7</text></g><g class=\"a9 node n8 p0\" transform=\"translate(-33.7857 4.58766)\"><g class=\"a8 i0 leaf node n0 p0 sample\" transform=\"translate(-12.2857 7.01312)\"><path class=\"edge\" d=\"M 0 0 V -7.01312 H 12.2857\"/><circle class=\"sym\" cx=\"0\" cy=\"0\" r=\"3\"/><text class=\"lab\" transform=\"translate(0 12)\">0</text></g><g class=\"a8 i2 leaf node n4 p0 sample\" transform=\"translate(12.2857 7.01312)\"><path class=\"edge\" d=\"M 0 0 V -7.01312 H -12.2857\"/><circle class=\"sym\" cx=\"0\" cy=\"0\" r=\"3\"/><text class=\"lab\" transform=\"translate(0 12)\">4</text></g><path class=\"edge\" d=\"M 0 0 V -4.58766 H 33.7857\"/><circle class=\"sym\" cx=\"0\" cy=\"0\" r=\"3\"/><text class=\"lab lft\" transform=\"translate(-3 -6)\">8</text></g><path class=\"edge\" d=\"M 0 0 V -14.965 H 38.3929\"/><circle class=\"sym\" cx=\"0\" cy=\"0\" r=\"3\"/><text class=\"lab lft\" transform=\"translate(-3 -6)\">9</text></g><circle class=\"sym\" cx=\"0\" cy=\"0\" r=\"3\"/><text class=\"lab\" transform=\"translate(0 -10)\">11</text></g></g></g><g class=\"treebox t4\" transform=\"translate(788.0 30)\"><g class=\"tree t4\"><g class=\"node n13 p0 root\" transform=\"translate(129.786 30.0)\"><g class=\"a13 i1 leaf node n3 p0 sample\" transform=\"translate(27.6429 80.0)\"><path class=\"edge\" d=\"M 0 0 V -80.0 H -27.6429\"/><circle class=\"sym\" cx=\"0\" cy=\"0\" r=\"3\"/><text class=\"lab\" transform=\"translate(0 12)\">3</text></g><g class=\"a13 node n11 p0\" transform=\"translate(-27.6429 53.4342)\"><g class=\"a11 i1 leaf node n2 p0 sample\" transform=\"translate(30.7143 26.5658)\"><path class=\"edge\" d=\"M 0 0 V -26.5658 H -30.7143\"/><circle class=\"sym\" cx=\"0\" cy=\"0\" r=\"3\"/><text class=\"lab\" transform=\"translate(0 12)\">2</text></g><g class=\"a11 node n9 p0\" transform=\"translate(-30.7143 14.965)\"><g class=\"a9 node n8 p0\" transform=\"translate(-24.5714 4.58766)\"><g class=\"a8 i0 leaf node n0 p0 sample\" transform=\"translate(-12.2857 7.01312)\"><path class=\"edge\" d=\"M 0 0 V -7.01312 H 12.2857\"/><circle class=\"sym\" cx=\"0\" cy=\"0\" r=\"3\"/><text class=\"lab\" transform=\"translate(0 12)\">0</text></g><g class=\"a8 i2 leaf node n4 p0 sample\" transform=\"translate(12.2857 7.01312)\"><path class=\"edge\" d=\"M 0 0 V -7.01312 H -12.2857\"/><circle class=\"sym\" cx=\"0\" cy=\"0\" r=\"3\"/><text class=\"lab\" transform=\"translate(0 12)\">4</text></g><path class=\"edge\" d=\"M 0 0 V -4.58766 H 24.5714\"/><circle class=\"sym\" cx=\"0\" cy=\"0\" r=\"3\"/><text class=\"lab lft\" transform=\"translate(-3 -6)\">8</text></g><g class=\"a9 node n6 p0\" transform=\"translate(24.5714 11.3343)\"><g class=\"a6 i0 leaf node n1 p0 sample\" transform=\"translate(-12.2857 0.266481)\"><path class=\"edge\" d=\"M 0 0 V -0.266481 H 12.2857\"/><circle class=\"sym\" cx=\"0\" cy=\"0\" r=\"3\"/><text class=\"lab\" transform=\"translate(0 12)\">1</text></g><g class=\"a6 i2 leaf node n5 p0 sample\" transform=\"translate(12.2857 0.266481)\"><path class=\"edge\" d=\"M 0 0 V -0.266481 H -12.2857\"/><circle class=\"sym\" cx=\"0\" cy=\"0\" r=\"3\"/><text class=\"lab\" transform=\"translate(0 12)\">5</text></g><path class=\"edge\" d=\"M 0 0 V -11.3343 H -24.5714\"/><circle class=\"sym\" cx=\"0\" cy=\"0\" r=\"3\"/><text class=\"lab rgt\" transform=\"translate(3 -6)\">6</text></g><path class=\"edge\" d=\"M 0 0 V -14.965 H 30.7143\"/><circle class=\"sym\" cx=\"0\" cy=\"0\" r=\"3\"/><text class=\"lab lft\" transform=\"translate(-3 -6)\">9</text></g><path class=\"edge\" d=\"M 0 0 V -53.4342 H 27.6429\"/><circle class=\"sym\" cx=\"0\" cy=\"0\" r=\"3\"/><text class=\"lab lft\" transform=\"translate(-3 -6)\">11</text></g><circle class=\"sym\" cx=\"0\" cy=\"0\" r=\"3\"/><text class=\"lab\" transform=\"translate(0 -10)\">13</text></g></g></g></g><g class=\"axis\"><line stroke=\"black\" x1=\"20\" x2=\"980\" y1=\"180\" y2=\"180\"/><line stroke=\"black\" x1=\"20\" x2=\"20\" y1=\"180\" y2=\"185\"/><g transform=\"translate(20, 200)\"><text font-size=\"14\" font-weight=\"bold\" text-anchor=\"middle\">0</text></g><line stroke=\"black\" x1=\"596.0\" x2=\"596.0\" y1=\"180\" y2=\"185\"/><g transform=\"translate(596.0, 200)\"><text font-size=\"14\" font-weight=\"bold\" text-anchor=\"middle\">60</text></g><line stroke=\"black\" x1=\"749.6\" x2=\"749.6\" y1=\"180\" y2=\"185\"/><g transform=\"translate(749.6, 200)\"><text font-size=\"14\" font-weight=\"bold\" text-anchor=\"middle\">76</text></g><line stroke=\"black\" x1=\"797.6\" x2=\"797.6\" y1=\"180\" y2=\"185\"/><g transform=\"translate(797.6, 200)\"><text font-size=\"14\" font-weight=\"bold\" text-anchor=\"middle\">81</text></g><line stroke=\"black\" x1=\"951.2\" x2=\"951.2\" y1=\"180\" y2=\"185\"/><g transform=\"translate(951.2, 200)\"><text font-size=\"14\" font-weight=\"bold\" text-anchor=\"middle\">97</text></g><line stroke=\"black\" x1=\"980.0\" x2=\"980.0\" y1=\"180\" y2=\"185\"/><g transform=\"translate(980.0, 200)\"><text font-size=\"14\" font-weight=\"bold\" text-anchor=\"middle\">100</text></g></g></g></svg>"
      ],
      "text/plain": [
       "<IPython.core.display.SVG object>"
      ]
     },
     "execution_count": 31,
     "metadata": {
      "filenames": {
       "image/svg+xml": "/home/runner/work/tskit-site/tskit-site/docs/_build/jupyter_execute/ancestry_53_0.svg"
      }
     },
     "output_type": "execute_result"
    }
   ],
   "source": [
    "    ts = msprime.sim_ancestry(\n",
    "        3, sequence_length = 100, recombination_rate=0.003,\n",
    "        gene_conversion_rate=0.002, gene_conversion_tract_length=5,\n",
    "        random_seed=6)\n",
    "    ts.sequence_length\n",
    "    SVG(ts.draw_svg())"
   ]
  },
  {
   "cell_type": "code",
   "execution_count": 32,
   "id": "informative-medicaid",
   "metadata": {},
   "outputs": [],
   "source": [
    "\n",
    "    assert 1 < ts.num_trees < 6"
   ]
  },
  {
   "cell_type": "markdown",
   "id": "innocent-filing",
   "metadata": {},
   "source": [
    "Variable recombination rates and constant gene conversion rates can be combined.\n",
    "In the next example we define a recombination map with a high recombination rate between\n",
    "site 10 and site 11 and a constant gene conversion rate with a mean tract length of 3."
   ]
  },
  {
   "cell_type": "code",
   "execution_count": 33,
   "id": "diverse-country",
   "metadata": {},
   "outputs": [
    {
     "data": {
      "image/svg+xml": [
       "<svg xmlns=\"http://www.w3.org/2000/svg\" xmlns:ev=\"http://www.w3.org/2001/xml-events\" xmlns:xlink=\"http://www.w3.org/1999/xlink\" baseProfile=\"full\" height=\"200\" version=\"1.1\" width=\"800\"><defs><style type=\"text/css\"><![CDATA[.axis {font-weight: bold}.tree, .axis {font-size: 14px; text-anchor:middle}.edge {stroke: black; fill: none}.node > .sym {fill: black; stroke: none}.tree text {dominant-baseline: middle}.tree .lab.lft {text-anchor: end}.tree .lab.rgt {text-anchor: start}.mut {fill: red; font-style: italic}]]></style></defs><g class=\"tree-sequence\"><g class=\"background\"><polygon fill=\"#F1F1F1\" points=\"20,185 20,180 20,160 20,0 210.0,0 210.0,160 210.0,180 210.0,185\"/><polygon fill=\"#F1F1F1\" points=\"324.0,185 324.0,180 400.0,160 400.0,0 590.0,0 590.0,160 400.0,180 400.0,185\"/></g><g class=\"trees\"><g class=\"treebox t0\" transform=\"translate(20 30)\"><g class=\"tree t0\"><g class=\"node n14 p0 root\" transform=\"translate(128.393 30.0)\"><g class=\"a14 i0 leaf node n1 p0 sample\" transform=\"translate(27.3214 80.0)\"><path class=\"edge\" d=\"M 0 0 V -80.0 H -27.3214\"/><circle class=\"sym\" cx=\"0\" cy=\"0\" r=\"3\"/><text class=\"lab\" transform=\"translate(0 12)\">1</text></g><g class=\"a14 node n11 p0\" transform=\"translate(-27.3214 26.8184)\"><g class=\"a11 i1 leaf node n2 p0 sample\" transform=\"translate(30.3571 53.1816)\"><path class=\"edge\" d=\"M 0 0 V -53.1816 H -30.3571\"/><circle class=\"sym\" cx=\"0\" cy=\"0\" r=\"3\"/><text class=\"lab\" transform=\"translate(0 12)\">2</text></g><g class=\"a11 node n9 p0\" transform=\"translate(-30.3571 22.423)\"><g class=\"a9 node n7 p0\" transform=\"translate(-24.2857 25.0636)\"><g class=\"a7 i0 leaf node n0 p0 sample\" transform=\"translate(-12.1429 5.69502)\"><path class=\"edge\" d=\"M 0 0 V -5.69502 H 12.1429\"/><circle class=\"sym\" cx=\"0\" cy=\"0\" r=\"3\"/><text class=\"lab\" transform=\"translate(0 12)\">0</text></g><g class=\"a7 i1 leaf node n3 p0 sample\" transform=\"translate(12.1429 5.69502)\"><path class=\"edge\" d=\"M 0 0 V -5.69502 H -12.1429\"/><circle class=\"sym\" cx=\"0\" cy=\"0\" r=\"3\"/><text class=\"lab\" transform=\"translate(0 12)\">3</text></g><path class=\"edge\" d=\"M 0 0 V -25.0636 H 24.2857\"/><circle class=\"sym\" cx=\"0\" cy=\"0\" r=\"3\"/><text class=\"lab lft\" transform=\"translate(-3 -6)\">7</text></g><g class=\"a9 node n8 p0\" transform=\"translate(24.2857 23.6819)\"><g class=\"a8 i2 leaf node n4 p0 sample\" transform=\"translate(-12.1429 7.07673)\"><path class=\"edge\" d=\"M 0 0 V -7.07673 H 12.1429\"/><circle class=\"sym\" cx=\"0\" cy=\"0\" r=\"3\"/><text class=\"lab\" transform=\"translate(0 12)\">4</text></g><g class=\"a8 i2 leaf node n5 p0 sample\" transform=\"translate(12.1429 7.07673)\"><path class=\"edge\" d=\"M 0 0 V -7.07673 H -12.1429\"/><circle class=\"sym\" cx=\"0\" cy=\"0\" r=\"3\"/><text class=\"lab\" transform=\"translate(0 12)\">5</text></g><path class=\"edge\" d=\"M 0 0 V -23.6819 H -24.2857\"/><circle class=\"sym\" cx=\"0\" cy=\"0\" r=\"3\"/><text class=\"lab rgt\" transform=\"translate(3 -6)\">8</text></g><path class=\"edge\" d=\"M 0 0 V -22.423 H 30.3571\"/><circle class=\"sym\" cx=\"0\" cy=\"0\" r=\"3\"/><text class=\"lab lft\" transform=\"translate(-3 -6)\">9</text></g><path class=\"edge\" d=\"M 0 0 V -26.8184 H 27.3214\"/><circle class=\"sym\" cx=\"0\" cy=\"0\" r=\"3\"/><text class=\"lab lft\" transform=\"translate(-3 -6)\">11</text></g><circle class=\"sym\" cx=\"0\" cy=\"0\" r=\"3\"/><text class=\"lab\" transform=\"translate(0 -10)\">14</text></g></g></g><g class=\"treebox t1\" transform=\"translate(210.0 30)\"><g class=\"tree t1\"><g class=\"node n14 p0 root\" transform=\"translate(114.732 30.0)\"><g class=\"a14 i0 leaf node n1 p0 sample\" transform=\"translate(40.9821 80.0)\"><path class=\"edge\" d=\"M 0 0 V -80.0 H -40.9821\"/><circle class=\"sym\" cx=\"0\" cy=\"0\" r=\"3\"/><text class=\"lab\" transform=\"translate(0 12)\">1</text></g><g class=\"a14 node n11 p0\" transform=\"translate(-40.9821 26.8184)\"><g class=\"a11 node n9 p0\" transform=\"translate(27.3214 22.423)\"><g class=\"a9 node n8 p0\" transform=\"translate(18.2143 23.6819)\"><g class=\"a8 i2 leaf node n4 p0 sample\" transform=\"translate(-12.1429 7.07673)\"><path class=\"edge\" d=\"M 0 0 V -7.07673 H 12.1429\"/><circle class=\"sym\" cx=\"0\" cy=\"0\" r=\"3\"/><text class=\"lab\" transform=\"translate(0 12)\">4</text></g><g class=\"a8 i2 leaf node n5 p0 sample\" transform=\"translate(12.1429 7.07673)\"><path class=\"edge\" d=\"M 0 0 V -7.07673 H -12.1429\"/><circle class=\"sym\" cx=\"0\" cy=\"0\" r=\"3\"/><text class=\"lab\" transform=\"translate(0 12)\">5</text></g><path class=\"edge\" d=\"M 0 0 V -23.6819 H -18.2143\"/><circle class=\"sym\" cx=\"0\" cy=\"0\" r=\"3\"/><text class=\"lab rgt\" transform=\"translate(3 -6)\">8</text></g><g class=\"a9 i1 leaf node n3 p0 sample\" transform=\"translate(-18.2143 30.7586)\"><path class=\"edge\" d=\"M 0 0 V -30.7586 H 18.2143\"/><circle class=\"sym\" cx=\"0\" cy=\"0\" r=\"3\"/><text class=\"lab\" transform=\"translate(0 12)\">3</text></g><path class=\"edge\" d=\"M 0 0 V -22.423 H -27.3214\"/><circle class=\"sym\" cx=\"0\" cy=\"0\" r=\"3\"/><text class=\"lab rgt\" transform=\"translate(3 -6)\">9</text></g><g class=\"a11 node n6 p0\" transform=\"translate(-27.3214 50.4751)\"><g class=\"a6 i0 leaf node n0 p0 sample\" transform=\"translate(-12.1429 2.70648)\"><path class=\"edge\" d=\"M 0 0 V -2.70648 H 12.1429\"/><circle class=\"sym\" cx=\"0\" cy=\"0\" r=\"3\"/><text class=\"lab\" transform=\"translate(0 12)\">0</text></g><g class=\"a6 i1 leaf node n2 p0 sample\" transform=\"translate(12.1429 2.70648)\"><path class=\"edge\" d=\"M 0 0 V -2.70648 H -12.1429\"/><circle class=\"sym\" cx=\"0\" cy=\"0\" r=\"3\"/><text class=\"lab\" transform=\"translate(0 12)\">2</text></g><path class=\"edge\" d=\"M 0 0 V -50.4751 H 27.3214\"/><circle class=\"sym\" cx=\"0\" cy=\"0\" r=\"3\"/><text class=\"lab lft\" transform=\"translate(-3 -6)\">6</text></g><path class=\"edge\" d=\"M 0 0 V -26.8184 H 40.9821\"/><circle class=\"sym\" cx=\"0\" cy=\"0\" r=\"3\"/><text class=\"lab lft\" transform=\"translate(-3 -6)\">11</text></g><circle class=\"sym\" cx=\"0\" cy=\"0\" r=\"3\"/><text class=\"lab\" transform=\"translate(0 -10)\">14</text></g></g></g><g class=\"treebox t2\" transform=\"translate(400.0 30)\"><g class=\"tree t2\"><g class=\"node n14 p0 root\" transform=\"translate(128.393 30.0)\"><g class=\"a14 i0 leaf node n1 p0 sample\" transform=\"translate(27.3214 80.0)\"><path class=\"edge\" d=\"M 0 0 V -80.0 H -27.3214\"/><circle class=\"sym\" cx=\"0\" cy=\"0\" r=\"3\"/><text class=\"lab\" transform=\"translate(0 12)\">1</text></g><g class=\"a14 node n11 p0\" transform=\"translate(-27.3214 26.8184)\"><g class=\"a11 node n9 p0\" transform=\"translate(-30.3571 22.423)\"><g class=\"a9 node n8 p0\" transform=\"translate(24.2857 23.6819)\"><g class=\"a8 i2 leaf node n4 p0 sample\" transform=\"translate(-12.1429 7.07673)\"><path class=\"edge\" d=\"M 0 0 V -7.07673 H 12.1429\"/><circle class=\"sym\" cx=\"0\" cy=\"0\" r=\"3\"/><text class=\"lab\" transform=\"translate(0 12)\">4</text></g><g class=\"a8 i2 leaf node n5 p0 sample\" transform=\"translate(12.1429 7.07673)\"><path class=\"edge\" d=\"M 0 0 V -7.07673 H -12.1429\"/><circle class=\"sym\" cx=\"0\" cy=\"0\" r=\"3\"/><text class=\"lab\" transform=\"translate(0 12)\">5</text></g><path class=\"edge\" d=\"M 0 0 V -23.6819 H -24.2857\"/><circle class=\"sym\" cx=\"0\" cy=\"0\" r=\"3\"/><text class=\"lab rgt\" transform=\"translate(3 -6)\">8</text></g><g class=\"a9 node n7 p0\" transform=\"translate(-24.2857 25.0636)\"><g class=\"a7 i0 leaf node n0 p0 sample\" transform=\"translate(-12.1429 5.69502)\"><path class=\"edge\" d=\"M 0 0 V -5.69502 H 12.1429\"/><circle class=\"sym\" cx=\"0\" cy=\"0\" r=\"3\"/><text class=\"lab\" transform=\"translate(0 12)\">0</text></g><g class=\"a7 i1 leaf node n3 p0 sample\" transform=\"translate(12.1429 5.69502)\"><path class=\"edge\" d=\"M 0 0 V -5.69502 H -12.1429\"/><circle class=\"sym\" cx=\"0\" cy=\"0\" r=\"3\"/><text class=\"lab\" transform=\"translate(0 12)\">3</text></g><path class=\"edge\" d=\"M 0 0 V -25.0636 H 24.2857\"/><circle class=\"sym\" cx=\"0\" cy=\"0\" r=\"3\"/><text class=\"lab lft\" transform=\"translate(-3 -6)\">7</text></g><path class=\"edge\" d=\"M 0 0 V -22.423 H 30.3571\"/><circle class=\"sym\" cx=\"0\" cy=\"0\" r=\"3\"/><text class=\"lab lft\" transform=\"translate(-3 -6)\">9</text></g><g class=\"a11 i1 leaf node n2 p0 sample\" transform=\"translate(30.3571 53.1816)\"><path class=\"edge\" d=\"M 0 0 V -53.1816 H -30.3571\"/><circle class=\"sym\" cx=\"0\" cy=\"0\" r=\"3\"/><text class=\"lab\" transform=\"translate(0 12)\">2</text></g><path class=\"edge\" d=\"M 0 0 V -26.8184 H 27.3214\"/><circle class=\"sym\" cx=\"0\" cy=\"0\" r=\"3\"/><text class=\"lab lft\" transform=\"translate(-3 -6)\">11</text></g><circle class=\"sym\" cx=\"0\" cy=\"0\" r=\"3\"/><text class=\"lab\" transform=\"translate(0 -10)\">14</text></g></g></g><g class=\"treebox t3\" transform=\"translate(590.0 30)\"><g class=\"tree t3\"><g class=\"node n13 p0 root\" transform=\"translate(95.0 42.9515)\"><g class=\"a13 node n10 p0\" transform=\"translate(30.3571 14.2906)\"><g class=\"a10 i1 leaf node n2 p0 sample\" transform=\"translate(-18.2143 52.7579)\"><path class=\"edge\" d=\"M 0 0 V -52.7579 H 18.2143\"/><circle class=\"sym\" cx=\"0\" cy=\"0\" r=\"3\"/><text class=\"lab\" transform=\"translate(0 12)\">2</text></g><g class=\"a10 node n8 p0\" transform=\"translate(18.2143 45.6812)\"><g class=\"a8 i2 leaf node n4 p0 sample\" transform=\"translate(-12.1429 7.07673)\"><path class=\"edge\" d=\"M 0 0 V -7.07673 H 12.1429\"/><circle class=\"sym\" cx=\"0\" cy=\"0\" r=\"3\"/><text class=\"lab\" transform=\"translate(0 12)\">4</text></g><g class=\"a8 i2 leaf node n5 p0 sample\" transform=\"translate(12.1429 7.07673)\"><path class=\"edge\" d=\"M 0 0 V -7.07673 H -12.1429\"/><circle class=\"sym\" cx=\"0\" cy=\"0\" r=\"3\"/><text class=\"lab\" transform=\"translate(0 12)\">5</text></g><path class=\"edge\" d=\"M 0 0 V -45.6812 H -18.2143\"/><circle class=\"sym\" cx=\"0\" cy=\"0\" r=\"3\"/><text class=\"lab rgt\" transform=\"translate(3 -6)\">8</text></g><path class=\"edge\" d=\"M 0 0 V -14.2906 H -30.3571\"/><circle class=\"sym\" cx=\"0\" cy=\"0\" r=\"3\"/><text class=\"lab rgt\" transform=\"translate(3 -6)\">10</text></g><g class=\"a13 node n12 p0\" transform=\"translate(-30.3571 1.91502)\"><g class=\"a12 i0 leaf node n1 p0 sample\" transform=\"translate(18.2143 65.1334)\"><path class=\"edge\" d=\"M 0 0 V -65.1334 H -18.2143\"/><circle class=\"sym\" cx=\"0\" cy=\"0\" r=\"3\"/><text class=\"lab\" transform=\"translate(0 12)\">1</text></g><g class=\"a12 node n7 p0\" transform=\"translate(-18.2143 59.4384)\"><g class=\"a7 i0 leaf node n0 p0 sample\" transform=\"translate(-12.1429 5.69502)\"><path class=\"edge\" d=\"M 0 0 V -5.69502 H 12.1429\"/><circle class=\"sym\" cx=\"0\" cy=\"0\" r=\"3\"/><text class=\"lab\" transform=\"translate(0 12)\">0</text></g><g class=\"a7 i1 leaf node n3 p0 sample\" transform=\"translate(12.1429 5.69502)\"><path class=\"edge\" d=\"M 0 0 V -5.69502 H -12.1429\"/><circle class=\"sym\" cx=\"0\" cy=\"0\" r=\"3\"/><text class=\"lab\" transform=\"translate(0 12)\">3</text></g><path class=\"edge\" d=\"M 0 0 V -59.4384 H 18.2143\"/><circle class=\"sym\" cx=\"0\" cy=\"0\" r=\"3\"/><text class=\"lab lft\" transform=\"translate(-3 -6)\">7</text></g><path class=\"edge\" d=\"M 0 0 V -1.91502 H 30.3571\"/><circle class=\"sym\" cx=\"0\" cy=\"0\" r=\"3\"/><text class=\"lab lft\" transform=\"translate(-3 -6)\">12</text></g><circle class=\"sym\" cx=\"0\" cy=\"0\" r=\"3\"/><text class=\"lab\" transform=\"translate(0 -10)\">13</text></g></g></g></g><g class=\"axis\"><line stroke=\"black\" x1=\"20\" x2=\"780\" y1=\"180\" y2=\"180\"/><line stroke=\"black\" x1=\"20\" x2=\"20\" y1=\"180\" y2=\"185\"/><g transform=\"translate(20, 200)\"><text font-size=\"14\" font-weight=\"bold\" text-anchor=\"middle\">0</text></g><line stroke=\"black\" x1=\"210.0\" x2=\"210.0\" y1=\"180\" y2=\"185\"/><g transform=\"translate(210.0, 200)\"><text font-size=\"14\" font-weight=\"bold\" text-anchor=\"middle\">5</text></g><line stroke=\"black\" x1=\"324.0\" x2=\"324.0\" y1=\"180\" y2=\"185\"/><g transform=\"translate(324.0, 200)\"><text font-size=\"14\" font-weight=\"bold\" text-anchor=\"middle\">8</text></g><line stroke=\"black\" x1=\"400.0\" x2=\"400.0\" y1=\"180\" y2=\"185\"/><g transform=\"translate(400.0, 200)\"><text font-size=\"14\" font-weight=\"bold\" text-anchor=\"middle\">10</text></g><line stroke=\"black\" x1=\"780.0\" x2=\"780.0\" y1=\"180\" y2=\"185\"/><g transform=\"translate(780.0, 200)\"><text font-size=\"14\" font-weight=\"bold\" text-anchor=\"middle\">20</text></g></g></g></svg>"
      ],
      "text/plain": [
       "<IPython.core.display.SVG object>"
      ]
     },
     "execution_count": 33,
     "metadata": {
      "filenames": {
       "image/svg+xml": "/home/runner/work/tskit-site/tskit-site/docs/_build/jupyter_execute/ancestry_56_0.svg"
      }
     },
     "output_type": "execute_result"
    }
   ],
   "source": [
    "    rate_map = msprime.RateMap(\n",
    "        position=[0, 10, 11, 20],\n",
    "        rate=[0.01, 0.5, 0.01])\n",
    "    ts = msprime.sim_ancestry(\n",
    "        3, recombination_rate=rate_map,\n",
    "        gene_conversion_rate=0.01, gene_conversion_tract_length=3,\n",
    "        random_seed=8)\n",
    "    ts.sequence_length\n",
    "    SVG(ts.draw_svg())"
   ]
  },
  {
   "cell_type": "code",
   "execution_count": 34,
   "id": "destroyed-distribution",
   "metadata": {},
   "outputs": [],
   "source": [
    "\n",
    "    assert 1 < ts.num_trees < 5\n"
   ]
  },
  {
   "cell_type": "markdown",
   "id": "significant-nigeria",
   "metadata": {},
   "source": [
    "(sec_ancestry_multiple_chromosomes)=\n",
    "\n",
    "### Multiple chromosomes\n",
    "\n",
    "Multiple chromosomes can be simulated by specifying a recombination map with\n",
    "single-bp segments with recombination probability 1/2 separating adjacent\n",
    "chromosomes. By simulating using `sim_ancestry` and `discrete_genome=True`\n",
    "(the default setting), we set the recombination rate so that chromosomes\n",
    "separated by such \"hotspots\" have a 50% chance of being inherited from the\n",
    "same parent.\n",
    "\n",
    "The probability that a recombination breakpoint occurs at a given base pair\n",
    "that has recombination rate {math}`r` is {math}`1-e^{-r}`. Thus, we set the\n",
    "recombination rate in the base pair segments separating chromosomes to\n",
    "{math}`\\log(2)`. This ensures that the recombination probility each generation\n",
    "is 1/2.\n",
    "\n",
    "For example, the following defines a recombination map for three chromosomes\n",
    "each 1 cM in length:"
   ]
  },
  {
   "cell_type": "code",
   "execution_count": 35,
   "id": "speaking-motivation",
   "metadata": {},
   "outputs": [],
   "source": [
    "    import msprime\n",
    "    import numpy as np\n",
    "\n",
    "    r_chrom = 1e-8\n",
    "    r_break = np.log(2)\n",
    "    positions = [0, 1e6, 1e6 + 1, 2e6, 2e6 + 1, 3e6]\n",
    "    rates = [r_chrom, r_break, r_chrom, r_break, r_chrom]\n",
    "    rate_map = msprime.RateMap(positions, rates)"
   ]
  },
  {
   "cell_type": "markdown",
   "id": "continent-cisco",
   "metadata": {},
   "source": [
    "The main purpose of simulating multiple chromosomes together (instead of\n",
    "running independent simulations for each chromosome) is to capture the correct\n",
    "correlation between trees on distinct chromosomes. (Note that for many purposes,\n",
    "this may not be necessary, and simulating chromosomes independently may be\n",
    "preferred for efficiency.)\n",
    "To get the correct correlation between chromosomes, we must use the\n",
    "{ref}`discrete-time Wright-Fisher <sec_ancestry_models_dtwf>` model in the\n",
    "recent past. Because correlations between chromosomes break down very rapidly,\n",
    "we only need to simulate using `dtwf` for roughly 10-20 generations, after which\n",
    "we can switch to the `hudson` model to finish the simulation more efficiently.\n",
    "\n",
    "For example, simulating 10 sampled diploid individuals using the recombination\n",
    "map defined above for three chromosomes and switching from the `dtwf` to\n",
    "`hudson` model 20 generations ago, we run"
   ]
  },
  {
   "cell_type": "code",
   "execution_count": 36,
   "id": "norwegian-tension",
   "metadata": {},
   "outputs": [],
   "source": [
    "    tree_sequence = msprime.sim_ancestry(\n",
    "        10,\n",
    "        population_size=1000,\n",
    "        recombination_rate=rate_map,\n",
    "        model=[\"dtwf\", (20, \"hudson\")]\n",
    "    )"
   ]
  },
  {
   "cell_type": "markdown",
   "id": "corresponding-watch",
   "metadata": {},
   "source": [
    "To isolate tree sequences for each chromosome, we can trim the full tree sequence\n",
    "for each chromosome by defining the end points of each chromosome and using\n",
    "the `keep_intervals` fuction. It is important to specify `simplify=False` so\n",
    "that node indices remain consistent across chromosomes. The function `trim()`\n",
    "is then used to trim the tree sequences to the focal chromosome, so that position\n",
    "indices begin at 0 within each chromosome tree sequence."
   ]
  },
  {
   "cell_type": "code",
   "execution_count": 37,
   "id": "supposed-airplane",
   "metadata": {},
   "outputs": [],
   "source": [
    "    chrom_positions = [0, 1e6, 2e6, 3e6]\n",
    "    ts_chroms = []\n",
    "    for j in range(len(chrom_positions) - 1):\n",
    "        start, end = chrom_positions[j: j + 2]\n",
    "        chrom_ts = tree_sequence.keep_intervals([[start, end]], simplify=False)\n",
    "        ts_chroms.append(chrom_ts.trim())"
   ]
  },
  {
   "cell_type": "markdown",
   "id": "reported-assurance",
   "metadata": {},
   "source": [
    "This gives us a list of tree sequences, one for each chromosome, in the order that\n",
    "they were stitched together in the initial recombination map.\n",
    "\n",
    "```{eval-rst}\n",
    ".. todo:: Add a section to the Tutorial showing how to access tree sequences across\n",
    "    chromosomes and showing the correlation of trees on different chromosomes\n",
    "    using the ``dtwf`` model.\n",
    "```\n",
    "\n",
    "(sec_ancestry_controlling_randomness)=\n",
    "\n",
    "## Controlling randomness\n",
    "\n",
    "(sec_ancestry_random_seed)=\n",
    "\n",
    "### Random seeds"
   ]
  },
  {
   "cell_type": "code",
   "execution_count": 38,
   "id": "round-variable",
   "metadata": {
    "tags": [
     "remove-cell"
    ]
   },
   "outputs": [],
   "source": [
    "    msprime.core.set_seed_rng_seed(42)"
   ]
  },
  {
   "cell_type": "markdown",
   "id": "brutal-armor",
   "metadata": {},
   "source": [
    "Stochastic simulations depend on a source of randomness, provided\n",
    "by a [psuedorandom number generator](<https://en.wikipedia.org/wiki/Pseudorandom_number_generator>).\n",
    "Msprime uses the [GNU Scientific Library](<https://www.gnu.org/software/gsl/doc/html/rng.html>) to generate high-quality\n",
    "random numbers. The particular trajectory produced by a pseudorandom number\n",
    "generator is controlled by the \"seed\" it is provided.\n",
    "\n",
    "By default, msprime generates random seeds using a private instance of\n",
    "{class}`random.Random`, which should guarantee unique seeds are produced\n",
    "even if (e.g.) many simulations are started at the same time in different\n",
    "processes. In particular, simulations run concurrently in subprocesses using\n",
    "{mod}`concurrent.futures` or {mod}`multiprocessing` will be assigned unique\n",
    "seeds by default.\n",
    "\n",
    "Thus, if we run two simulations with the same parameters, we will get different\n",
    "results, as we can see from the different times of the last node:"
   ]
  },
  {
   "cell_type": "code",
   "execution_count": 39,
   "id": "significant-polyester",
   "metadata": {},
   "outputs": [
    {
     "data": {
      "text/plain": [
       "0.13313422084255794"
      ]
     },
     "execution_count": 39,
     "metadata": {},
     "output_type": "execute_result"
    }
   ],
   "source": [
    "ts = msprime.sim_ancestry(1)\n",
    "ts.tables.nodes[-1].time\n",
    "\n",
    "0.13313422084255794\n"
   ]
  },
  {
   "cell_type": "code",
   "execution_count": 40,
   "id": "chemical-graphic",
   "metadata": {},
   "outputs": [
    {
     "data": {
      "text/plain": [
       "3.2090602418210956"
      ]
     },
     "execution_count": 40,
     "metadata": {},
     "output_type": "execute_result"
    }
   ],
   "source": [
    "ts = msprime.sim_ancestry(1)\n",
    "ts.tables.nodes\n",
    "\n",
    "3.2090602418210956\n"
   ]
  },
  {
   "cell_type": "markdown",
   "id": "egyptian-wrapping",
   "metadata": {},
   "source": [
    "The `random_seed` argument to {func}`.sim_ancestry` allows us specify\n",
    "seeds explicitly, making the output of the simulation fully deterministic:"
   ]
  },
  {
   "cell_type": "code",
   "execution_count": 41,
   "id": "polar-leader",
   "metadata": {},
   "outputs": [
    {
     "data": {
      "text/html": [
       "\n",
       "            <div>\n",
       "                <style scoped=\"\">\n",
       "                    .tskit-table tbody tr th:only-of-type {vertical-align: middle;}\n",
       "                    .tskit-table tbody tr th {vertical-align: top;}\n",
       "                    .tskit-table tbody td {text-align: right;}\n",
       "                </style>\n",
       "                <table border=\"1\" class=\"tskit-table\">\n",
       "                    <thead>\n",
       "                        <tr>\n",
       "                            <th>id</th><th>flags</th><th>population</th><th>individual</th><th>time</th><th>metadata</th>\n",
       "                        </tr>\n",
       "                    </thead>\n",
       "                    <tbody>\n",
       "                        <tr><td>0</td><td>1</td><td>0</td><td>0</td><td>0.00000000000000</td><td></td></tr>\n",
       "<tr><td>1</td><td>1</td><td>0</td><td>0</td><td>0.00000000000000</td><td></td></tr>\n",
       "<tr><td>2</td><td>0</td><td>0</td><td>-1</td><td>0.93853616544368</td><td></td></tr>\n",
       "\n",
       "                    </tbody>\n",
       "                </table>\n",
       "            </div>\n"
      ],
      "text/plain": [
       "<tskit.tables.NodeTable at 0x7fb0226912e0>"
      ]
     },
     "execution_count": 41,
     "metadata": {},
     "output_type": "execute_result"
    }
   ],
   "source": [
    "    ts = msprime.sim_ancestry(1, random_seed=42)\n",
    "    ts.tables.nodes"
   ]
  },
  {
   "cell_type": "code",
   "execution_count": 42,
   "id": "entertaining-brand",
   "metadata": {},
   "outputs": [
    {
     "data": {
      "text/html": [
       "\n",
       "            <div>\n",
       "                <style scoped=\"\">\n",
       "                    .tskit-table tbody tr th:only-of-type {vertical-align: middle;}\n",
       "                    .tskit-table tbody tr th {vertical-align: top;}\n",
       "                    .tskit-table tbody td {text-align: right;}\n",
       "                </style>\n",
       "                <table border=\"1\" class=\"tskit-table\">\n",
       "                    <thead>\n",
       "                        <tr>\n",
       "                            <th>id</th><th>flags</th><th>population</th><th>individual</th><th>time</th><th>metadata</th>\n",
       "                        </tr>\n",
       "                    </thead>\n",
       "                    <tbody>\n",
       "                        <tr><td>0</td><td>1</td><td>0</td><td>0</td><td>0.00000000000000</td><td></td></tr>\n",
       "<tr><td>1</td><td>1</td><td>0</td><td>0</td><td>0.00000000000000</td><td></td></tr>\n",
       "<tr><td>2</td><td>0</td><td>0</td><td>-1</td><td>0.93853616544368</td><td></td></tr>\n",
       "\n",
       "                    </tbody>\n",
       "                </table>\n",
       "            </div>\n"
      ],
      "text/plain": [
       "<tskit.tables.NodeTable at 0x7fb02350cfa0>"
      ]
     },
     "execution_count": 42,
     "metadata": {},
     "output_type": "execute_result"
    }
   ],
   "source": [
    "    ts = msprime.sim_ancestry(1, random_seed=42)\n",
    "    ts.tables.nodes\n"
   ]
  },
  {
   "cell_type": "markdown",
   "id": "faced-biodiversity",
   "metadata": {},
   "source": [
    "(sec_ancestry_replication)=\n",
    "\n",
    "### Running replicate simulations"
   ]
  },
  {
   "cell_type": "code",
   "execution_count": 43,
   "id": "appreciated-franchise",
   "metadata": {
    "tags": [
     "remove-cell"
    ]
   },
   "outputs": [],
   "source": [
    "    msprime.core.set_seed_rng_seed(42)"
   ]
  },
  {
   "cell_type": "markdown",
   "id": "cardiovascular-tulsa",
   "metadata": {},
   "source": [
    "Simulations are random, and we will therefore usually want to have\n",
    "many independant replicates for a particular set of parameters.\n",
    "The `num_replicates` parameter provides a convenient and efficient\n",
    "way to iterate over a number of replicate simulations. For example,\n",
    "this is a good way to compute the mean and variance of the time to the most\n",
    "recent common ancestor in a set of simulations:"
   ]
  },
  {
   "cell_type": "code",
   "execution_count": 44,
   "id": "accomplished-enough",
   "metadata": {},
   "outputs": [
    {
     "data": {
      "text/plain": [
       "(3.799291711240622, 3.920289255957004)"
      ]
     },
     "execution_count": 44,
     "metadata": {},
     "output_type": "execute_result"
    }
   ],
   "source": [
    "    import numpy as np\n",
    "\n",
    "    num_replicates = 100\n",
    "    tmrca = np.zeros(num_replicates)\n",
    "    replicates = msprime.sim_ancestry(10, num_replicates=num_replicates, random_seed=42)\n",
    "    for replicate_index, ts in enumerate(replicates):\n",
    "        tree = ts.first()\n",
    "        tmrca[replicate_index] = tree.time(tree.root)\n",
    "    np.mean(tmrca), np.var(tmrca)\n"
   ]
  },
  {
   "cell_type": "markdown",
   "id": "empty-generator",
   "metadata": {},
   "source": [
    "It's important to note that the replicate simulations are generated\n",
    "lazily here on demand - the `replicates` variable is a Python iterator.\n",
    "This means we use much less memory that we would if we stored each\n",
    "of the replicate simulations in a list.\n",
    "\n",
    ":::{note}\n",
    "\n",
    "The return type of `sim_ancestry` changes when we use the\n",
    "`num_replicates` argument. If `num_replicates` is not specified\n",
    "or `None`, we return an instance of {class}`tskit.TreeSequence`.\n",
    "If it is specified, we return an *iterator* over\n",
    "a set of {class}`tskit.TreeSequence` instances.\n",
    "\n",
    ":::\n",
    "\n",
    "## Recording more information\n",
    "\n",
    "By default `msprime` stores the minimum amount of information required\n",
    "to represent the simulated genealogical history of the samples. Sometimes\n",
    "we are interested in more detailed information; this section gives details\n",
    "of options that allow us to do this.\n",
    "\n",
    "(sec_ancestry_full_arg)=\n",
    "\n",
    "### Ancestral recombination graph"
   ]
  },
  {
   "cell_type": "code",
   "execution_count": 45,
   "id": "palestinian-ballot",
   "metadata": {
    "tags": [
     "remove-cell"
    ]
   },
   "outputs": [],
   "source": [
    "    msprime.core.set_seed_rng_seed(42)"
   ]
  },
  {
   "cell_type": "markdown",
   "id": "missing-adventure",
   "metadata": {},
   "source": [
    "In `msprime` we usually want to simulate the coalescent with recombination\n",
    "and represent the output as efficiently as possible. As a result, we don't\n",
    "store individual recombination events, but rather their effects on the output\n",
    "tree sequence. We also do not explicitly store common ancestor events that\n",
    "do not result in marginal coalescences. For some purposes, however, we want\n",
    "to get information on the full history of the simulation, not just the minimal\n",
    "representation of its outcome. The `record_full_arg` option to\n",
    "{func}`.sim_ancestry` provides this functionality, as illustrated in the\n",
    "following example:"
   ]
  },
  {
   "cell_type": "code",
   "execution_count": 46,
   "id": "collect-russell",
   "metadata": {},
   "outputs": [
    {
     "name": "stdout",
     "output_type": "stream",
     "text": [
      "id\tflags\tpopulation\tindividual\ttime\tmetadata\n",
      "0\t1\t0\t0\t0.00000000000000\t\n",
      "1\t1\t0\t0\t0.00000000000000\t\n",
      "2\t1\t0\t1\t0.00000000000000\t\n",
      "3\t1\t0\t1\t0.00000000000000\t\n",
      "4\t1\t0\t2\t0.00000000000000\t\n",
      "5\t1\t0\t2\t0.00000000000000\t\n",
      "6\t0\t0\t-1\t0.21230673613116\t\n",
      "7\t0\t0\t-1\t0.51485156833449\t\n",
      "8\t0\t0\t-1\t0.71161448701612\t\n",
      "9\t131072\t0\t-1\t0.91107704517576\t\n",
      "10\t131072\t0\t-1\t0.91107704517576\t\n",
      "11\t262144\t0\t-1\t1.21743776274571\t\n",
      "12\t0\t0\t-1\t1.23130397112052\t\n",
      "13\t0\t0\t-1\t4.80416300493305\t\n"
     ]
    },
    {
     "data": {
      "image/svg+xml": [
       "<svg xmlns=\"http://www.w3.org/2000/svg\" xmlns:ev=\"http://www.w3.org/2001/xml-events\" xmlns:xlink=\"http://www.w3.org/1999/xlink\" baseProfile=\"full\" height=\"200\" version=\"1.1\" width=\"400\"><defs><style type=\"text/css\"><![CDATA[.axis {font-weight: bold}.tree, .axis {font-size: 14px; text-anchor:middle}.edge {stroke: black; fill: none}.node > .sym {fill: black; stroke: none}.tree text {dominant-baseline: middle}.tree .lab.lft {text-anchor: end}.tree .lab.rgt {text-anchor: start}.mut {fill: red; font-style: italic}]]></style></defs><g class=\"tree-sequence\"><g class=\"background\"><polygon fill=\"#F1F1F1\" points=\"20,185 20,180 20,160 20,0 200.0,0 200.0,160 200.0,180 200.0,185\"/></g><g class=\"trees\"><g class=\"treebox t0\" transform=\"translate(20 30)\"><g class=\"tree t0\"><g class=\"node n13 p0 root\" transform=\"translate(101.429 30.0)\"><g class=\"a13 node n8 p0\" transform=\"translate(-34.2857 68.15)\"><g class=\"a8 node n6 p0\" transform=\"translate(-22.8571 8.31458)\"><g class=\"a6 i0 leaf node n0 p0 sample\" transform=\"translate(-11.4286 3.53538)\"><path class=\"edge\" d=\"M 0 0 V -3.53538 H 11.4286\"/><circle class=\"sym\" cx=\"0\" cy=\"0\" r=\"3\"/><text class=\"lab\" transform=\"translate(0 12)\">0</text></g><g class=\"a6 i2 leaf node n5 p0 sample\" transform=\"translate(11.4286 3.53538)\"><path class=\"edge\" d=\"M 0 0 V -3.53538 H -11.4286\"/><circle class=\"sym\" cx=\"0\" cy=\"0\" r=\"3\"/><text class=\"lab\" transform=\"translate(0 12)\">5</text></g><path class=\"edge\" d=\"M 0 0 V -8.31458 H 22.8571\"/><circle class=\"sym\" cx=\"0\" cy=\"0\" r=\"3\"/><text class=\"lab lft\" transform=\"translate(-3 -6)\">6</text></g><g class=\"a8 node n7 p0\" transform=\"translate(22.8571 3.27654)\"><g class=\"a7 i1 leaf node n2 p0 sample\" transform=\"translate(-11.4286 8.57342)\"><path class=\"edge\" d=\"M 0 0 V -8.57342 H 11.4286\"/><circle class=\"sym\" cx=\"0\" cy=\"0\" r=\"3\"/><text class=\"lab\" transform=\"translate(0 12)\">2</text></g><g class=\"a7 i1 leaf node n3 p0 sample\" transform=\"translate(11.4286 8.57342)\"><path class=\"edge\" d=\"M 0 0 V -8.57342 H -11.4286\"/><circle class=\"sym\" cx=\"0\" cy=\"0\" r=\"3\"/><text class=\"lab\" transform=\"translate(0 12)\">3</text></g><path class=\"edge\" d=\"M 0 0 V -3.27654 H -22.8571\"/><circle class=\"sym\" cx=\"0\" cy=\"0\" r=\"3\"/><text class=\"lab rgt\" transform=\"translate(3 -6)\">7</text></g><path class=\"edge\" d=\"M 0 0 V -68.15 H 34.2857\"/><circle class=\"sym\" cx=\"0\" cy=\"0\" r=\"3\"/><text class=\"lab lft\" transform=\"translate(-3 -6)\">8</text></g><g class=\"a13 node n12 p0\" transform=\"translate(34.2857 59.4961)\"><g class=\"a12 i2 leaf node n4 p0 sample\" transform=\"translate(11.4286 20.5039)\"><path class=\"edge\" d=\"M 0 0 V -20.5039 H -11.4286\"/><circle class=\"sym\" cx=\"0\" cy=\"0\" r=\"3\"/><text class=\"lab\" transform=\"translate(0 12)\">4</text></g><g class=\"a12 node n11 p0\" transform=\"translate(-11.4286 0.230903)\"><g class=\"a11 node n9 p0\" transform=\"translate(0.0 5.10159)\"><g class=\"a9 i0 leaf node n1 p0 sample\" transform=\"translate(0.0 15.1715)\"><path class=\"edge\" d=\"M 0 0 V -15.1715 H 0.0\"/><circle class=\"sym\" cx=\"0\" cy=\"0\" r=\"3\"/><text class=\"lab\" transform=\"translate(0 12)\">1</text></g><path class=\"edge\" d=\"M 0 0 V -5.10159 H 0.0\"/><circle class=\"sym\" cx=\"0\" cy=\"0\" r=\"3\"/><text class=\"lab lft\" transform=\"translate(-3 -6)\">9</text></g><path class=\"edge\" d=\"M 0 0 V -0.230903 H 11.4286\"/><circle class=\"sym\" cx=\"0\" cy=\"0\" r=\"3\"/><text class=\"lab lft\" transform=\"translate(-3 -6)\">11</text></g><path class=\"edge\" d=\"M 0 0 V -59.4961 H -34.2857\"/><circle class=\"sym\" cx=\"0\" cy=\"0\" r=\"3\"/><text class=\"lab rgt\" transform=\"translate(3 -6)\">12</text></g><circle class=\"sym\" cx=\"0\" cy=\"0\" r=\"3\"/><text class=\"lab\" transform=\"translate(0 -10)\">13</text></g></g></g><g class=\"treebox t1\" transform=\"translate(200.0 30)\"><g class=\"tree t1\"><g class=\"node n13 p0 root\" transform=\"translate(101.429 30.0)\"><g class=\"a13 node n8 p0\" transform=\"translate(-34.2857 68.15)\"><g class=\"a8 node n6 p0\" transform=\"translate(-22.8571 8.31458)\"><g class=\"a6 i0 leaf node n0 p0 sample\" transform=\"translate(-11.4286 3.53538)\"><path class=\"edge\" d=\"M 0 0 V -3.53538 H 11.4286\"/><circle class=\"sym\" cx=\"0\" cy=\"0\" r=\"3\"/><text class=\"lab\" transform=\"translate(0 12)\">0</text></g><g class=\"a6 i2 leaf node n5 p0 sample\" transform=\"translate(11.4286 3.53538)\"><path class=\"edge\" d=\"M 0 0 V -3.53538 H -11.4286\"/><circle class=\"sym\" cx=\"0\" cy=\"0\" r=\"3\"/><text class=\"lab\" transform=\"translate(0 12)\">5</text></g><path class=\"edge\" d=\"M 0 0 V -8.31458 H 22.8571\"/><circle class=\"sym\" cx=\"0\" cy=\"0\" r=\"3\"/><text class=\"lab lft\" transform=\"translate(-3 -6)\">6</text></g><g class=\"a8 node n7 p0\" transform=\"translate(22.8571 3.27654)\"><g class=\"a7 i1 leaf node n2 p0 sample\" transform=\"translate(-11.4286 8.57342)\"><path class=\"edge\" d=\"M 0 0 V -8.57342 H 11.4286\"/><circle class=\"sym\" cx=\"0\" cy=\"0\" r=\"3\"/><text class=\"lab\" transform=\"translate(0 12)\">2</text></g><g class=\"a7 i1 leaf node n3 p0 sample\" transform=\"translate(11.4286 8.57342)\"><path class=\"edge\" d=\"M 0 0 V -8.57342 H -11.4286\"/><circle class=\"sym\" cx=\"0\" cy=\"0\" r=\"3\"/><text class=\"lab\" transform=\"translate(0 12)\">3</text></g><path class=\"edge\" d=\"M 0 0 V -3.27654 H -22.8571\"/><circle class=\"sym\" cx=\"0\" cy=\"0\" r=\"3\"/><text class=\"lab rgt\" transform=\"translate(3 -6)\">7</text></g><path class=\"edge\" d=\"M 0 0 V -68.15 H 34.2857\"/><circle class=\"sym\" cx=\"0\" cy=\"0\" r=\"3\"/><text class=\"lab lft\" transform=\"translate(-3 -6)\">8</text></g><g class=\"a13 node n12 p0\" transform=\"translate(34.2857 59.4961)\"><g class=\"a12 i2 leaf node n4 p0 sample\" transform=\"translate(11.4286 20.5039)\"><path class=\"edge\" d=\"M 0 0 V -20.5039 H -11.4286\"/><circle class=\"sym\" cx=\"0\" cy=\"0\" r=\"3\"/><text class=\"lab\" transform=\"translate(0 12)\">4</text></g><g class=\"a12 node n11 p0\" transform=\"translate(-11.4286 0.230903)\"><g class=\"a11 node n10 p0\" transform=\"translate(0.0 5.10159)\"><g class=\"a10 i0 leaf node n1 p0 sample\" transform=\"translate(0.0 15.1715)\"><path class=\"edge\" d=\"M 0 0 V -15.1715 H 0.0\"/><circle class=\"sym\" cx=\"0\" cy=\"0\" r=\"3\"/><text class=\"lab\" transform=\"translate(0 12)\">1</text></g><path class=\"edge\" d=\"M 0 0 V -5.10159 H 0.0\"/><circle class=\"sym\" cx=\"0\" cy=\"0\" r=\"3\"/><text class=\"lab lft\" transform=\"translate(-3 -6)\">10</text></g><path class=\"edge\" d=\"M 0 0 V -0.230903 H 11.4286\"/><circle class=\"sym\" cx=\"0\" cy=\"0\" r=\"3\"/><text class=\"lab lft\" transform=\"translate(-3 -6)\">11</text></g><path class=\"edge\" d=\"M 0 0 V -59.4961 H -34.2857\"/><circle class=\"sym\" cx=\"0\" cy=\"0\" r=\"3\"/><text class=\"lab rgt\" transform=\"translate(3 -6)\">12</text></g><circle class=\"sym\" cx=\"0\" cy=\"0\" r=\"3\"/><text class=\"lab\" transform=\"translate(0 -10)\">13</text></g></g></g></g><g class=\"axis\"><line stroke=\"black\" x1=\"20\" x2=\"380\" y1=\"180\" y2=\"180\"/><line stroke=\"black\" x1=\"20\" x2=\"20\" y1=\"180\" y2=\"185\"/><g transform=\"translate(20, 200)\"><text font-size=\"14\" font-weight=\"bold\" text-anchor=\"middle\">0</text></g><line stroke=\"black\" x1=\"200.0\" x2=\"200.0\" y1=\"180\" y2=\"185\"/><g transform=\"translate(200.0, 200)\"><text font-size=\"14\" font-weight=\"bold\" text-anchor=\"middle\">1</text></g><line stroke=\"black\" x1=\"380.0\" x2=\"380.0\" y1=\"180\" y2=\"185\"/><g transform=\"translate(380.0, 200)\"><text font-size=\"14\" font-weight=\"bold\" text-anchor=\"middle\">2</text></g></g></g></svg>"
      ],
      "text/plain": [
       "<IPython.core.display.SVG object>"
      ]
     },
     "execution_count": 46,
     "metadata": {
      "filenames": {
       "image/svg+xml": "/home/runner/work/tskit-site/tskit-site/docs/_build/jupyter_execute/ancestry_79_1.svg"
      }
     },
     "output_type": "execute_result"
    }
   ],
   "source": [
    "    ts = msprime.sim_ancestry(\n",
    "        3, recombination_rate=0.1, sequence_length=2,\n",
    "        record_full_arg=True, random_seed=42)\n",
    "    print(ts.tables.nodes)\n",
    "    SVG(ts.draw_svg())\n"
   ]
  },
  {
   "cell_type": "markdown",
   "id": "portuguese-tactics",
   "metadata": {},
   "source": [
    "After running the simulation we first print out the [node table](<https://tskit.readthedocs.io/en/stable/data-model.html#node-table>), which\n",
    "contains information on all the nodes in the tree sequence. Note that `flags`\n",
    "column contains several different values: all of the sample nodes (at time 0)\n",
    "have a flag value of `1` ({data}`tskit.NODE_IS_SAMPLE`). Most other\n",
    "nodes have a flag value of `0`, which is the standard for internal nodes\n",
    "in a coalescent simulations.\n",
    "\n",
    "Nodes 9 and 10 have flags equal to 131072 ({data}`.NODE_IS_RE_EVENT`), which\n",
    "tells us that they correspond to a recombination event in the ARG. A\n",
    "recombination event results in two extra nodes being recorded, one identifying\n",
    "the individual providing the genetic material to the left of the breakpoint and\n",
    "the other identifying the individuals providing the genetic material to the\n",
    "right. The effect of this extra node can be seen in the trees: node 9 is\n",
    "present as a 'unary' node in the left hand tree and node 10 in the right.\n",
    "\n",
    "Node 11 has a flags value of 262144 ({data}`.NODE_IS_CA_EVENT`), which\n",
    "tells us that it is an ARG common ancestor event that *did not* result\n",
    "in marginal coalescence. This class of event also results in unary nodes\n",
    "in the trees, which we can see in the example.\n",
    "\n",
    "If we wish to reduce these trees down to the minimal representation, we can\n",
    "use {meth}`tskit.TreeSequence.simplify`. The resulting tree sequence will have\n",
    "all of these unary nodes removed and will be equivalent to (but not identical, due to\n",
    "stochastic effects) calling {func}`.sim_ancestry` without the `record_full_arg`\n",
    "argument.\n",
    "\n",
    "Migrations nodes are also recording in the ARG using the\n",
    "{data}`.NODE_IS_MIG_EVENT` flag. See the {ref}`sec_api_node_flags`\n",
    "section for more details.\n",
    "\n",
    "(sec_ancestry_record_migrations)=\n",
    "\n",
    "### Migration events"
   ]
  },
  {
   "cell_type": "code",
   "execution_count": 47,
   "id": "documented-spring",
   "metadata": {
    "tags": [
     "remove-cell"
    ]
   },
   "outputs": [],
   "source": [
    "    msprime.core.set_seed_rng_seed(42)"
   ]
  },
  {
   "cell_type": "markdown",
   "id": "threaded-calibration",
   "metadata": {},
   "source": [
    "```{eval-rst}\n",
    ".. todo:: examples of using the record_migrations\n",
    "\n",
    "```\n",
    "\n",
    "(sec_ancestry_census_events)=\n",
    "\n",
    "### Census events\n",
    "\n",
    "Census events allow you to add a node to each branch of the tree sequence at a given time\n",
    "during the simulation. This can be useful when you wish to study haplotypes that are\n",
    "ancestral to your simulated sample, or when you wish to know which lineages were present in\n",
    "which populations at specified times.\n",
    "\n",
    "For instance, the following code specifies a simulation with two samples drawn from each of\n",
    "two populations. There are two demographic events: a migration rate change and a census\n",
    "event. At generation 100 and earlier, the two populations exchange migrants at a rate of\n",
    "0.05. At generation 5000, a census is performed:"
   ]
  },
  {
   "cell_type": "code",
   "execution_count": 48,
   "id": "hollow-mother",
   "metadata": {},
   "outputs": [
    {
     "data": {
      "image/svg+xml": [
       "<svg xmlns=\"http://www.w3.org/2000/svg\" xmlns:ev=\"http://www.w3.org/2001/xml-events\" xmlns:xlink=\"http://www.w3.org/1999/xlink\" baseProfile=\"full\" height=\"200\" version=\"1.1\" width=\"800\"><defs><style type=\"text/css\"><![CDATA[.axis {font-weight: bold}.tree, .axis {font-size: 14px; text-anchor:middle}.edge {stroke: black; fill: none}.node > .sym {fill: black; stroke: none}.tree text {dominant-baseline: middle}.tree .lab.lft {text-anchor: end}.tree .lab.rgt {text-anchor: start}.mut {fill: red; font-style: italic}]]></style></defs><g class=\"tree-sequence\"><g class=\"background\"><polygon fill=\"#F1F1F1\" points=\"20,185 20,180 20,160 20,0 210.0,0 210.0,160 220.044,180 220.044,185\"/><polygon fill=\"#F1F1F1\" points=\"535.133,185 535.133,180 400.0,160 400.0,0 590.0,0 590.0,160 733.381,180 733.381,185\"/></g><g class=\"trees\"><g class=\"treebox t0\" transform=\"translate(20 30)\"><g class=\"tree t0\"><g class=\"node n14 p1 root\" transform=\"translate(95.0 58.8527)\"><g class=\"a14 node n9 p0\" transform=\"translate(34.0 2.40683)\"><g class=\"a9 node n5 p1\" transform=\"translate(0.0 12.0954)\"><g class=\"a5 leaf node n1 p0 sample\" transform=\"translate(-17.0 36.6451)\"><path class=\"edge\" d=\"M 0 0 V -36.6451 H 17.0\"/><circle class=\"sym\" cx=\"0\" cy=\"0\" r=\"3\"/><text class=\"lab\" transform=\"translate(0 12)\">1</text></g><g class=\"a5 leaf node n3 p1 sample\" transform=\"translate(17.0 36.6451)\"><path class=\"edge\" d=\"M 0 0 V -36.6451 H -17.0\"/><circle class=\"sym\" cx=\"0\" cy=\"0\" r=\"3\"/><text class=\"lab\" transform=\"translate(0 12)\">3</text></g><path class=\"edge\" d=\"M 0 0 V -12.0954 H 0.0\"/><circle class=\"sym\" cx=\"0\" cy=\"0\" r=\"3\"/><text class=\"lab lft\" transform=\"translate(-3 -6)\">5</text></g><path class=\"edge\" d=\"M 0 0 V -2.40683 H -34.0\"/><circle class=\"sym\" cx=\"0\" cy=\"0\" r=\"3\"/><text class=\"lab rgt\" transform=\"translate(3 -6)\">9</text></g><g class=\"a14 node n12 p1\" transform=\"translate(-34.0 2.40683)\"><g class=\"a12 node n4 p1\" transform=\"translate(0.0 25.8316)\"><g class=\"a4 leaf node n0 p0 sample\" transform=\"translate(-17.0 22.9089)\"><path class=\"edge\" d=\"M 0 0 V -22.9089 H 17.0\"/><circle class=\"sym\" cx=\"0\" cy=\"0\" r=\"3\"/><text class=\"lab\" transform=\"translate(0 12)\">0</text></g><g class=\"a4 leaf node n2 p1 sample\" transform=\"translate(17.0 22.9089)\"><path class=\"edge\" d=\"M 0 0 V -22.9089 H -17.0\"/><circle class=\"sym\" cx=\"0\" cy=\"0\" r=\"3\"/><text class=\"lab\" transform=\"translate(0 12)\">2</text></g><path class=\"edge\" d=\"M 0 0 V -25.8316 H 0.0\"/><circle class=\"sym\" cx=\"0\" cy=\"0\" r=\"3\"/><text class=\"lab lft\" transform=\"translate(-3 -6)\">4</text></g><path class=\"edge\" d=\"M 0 0 V -2.40683 H 34.0\"/><circle class=\"sym\" cx=\"0\" cy=\"0\" r=\"3\"/><text class=\"lab lft\" transform=\"translate(-3 -6)\">12</text></g><circle class=\"sym\" cx=\"0\" cy=\"0\" r=\"3\"/><text class=\"lab\" transform=\"translate(0 -10)\">14</text></g></g></g><g class=\"treebox t1\" transform=\"translate(210.0 30)\"><g class=\"tree t1\"><g class=\"node n14 p1 root\" transform=\"translate(116.25 58.8527)\"><g class=\"a14 node n10 p0\" transform=\"translate(29.75 2.40683)\"><g class=\"a10 leaf node n3 p1 sample\" transform=\"translate(0.0 48.7405)\"><path class=\"edge\" d=\"M 0 0 V -48.7405 H 0.0\"/><circle class=\"sym\" cx=\"0\" cy=\"0\" r=\"3\"/><text class=\"lab\" transform=\"translate(0 12)\">3</text></g><path class=\"edge\" d=\"M 0 0 V -2.40683 H -29.75\"/><circle class=\"sym\" cx=\"0\" cy=\"0\" r=\"3\"/><text class=\"lab rgt\" transform=\"translate(3 -6)\">10</text></g><g class=\"a14 node n13 p1\" transform=\"translate(-29.75 2.40683)\"><g class=\"a13 node n6 p0\" transform=\"translate(0.0 7.45749)\"><g class=\"a6 leaf node n1 p0 sample\" transform=\"translate(25.5 41.283)\"><path class=\"edge\" d=\"M 0 0 V -41.283 H -25.5\"/><circle class=\"sym\" cx=\"0\" cy=\"0\" r=\"3\"/><text class=\"lab\" transform=\"translate(0 12)\">1</text></g><g class=\"a6 node n4 p1\" transform=\"translate(-25.5 18.3741)\"><g class=\"a4 leaf node n0 p0 sample\" transform=\"translate(-17.0 22.9089)\"><path class=\"edge\" d=\"M 0 0 V -22.9089 H 17.0\"/><circle class=\"sym\" cx=\"0\" cy=\"0\" r=\"3\"/><text class=\"lab\" transform=\"translate(0 12)\">0</text></g><g class=\"a4 leaf node n2 p1 sample\" transform=\"translate(17.0 22.9089)\"><path class=\"edge\" d=\"M 0 0 V -22.9089 H -17.0\"/><circle class=\"sym\" cx=\"0\" cy=\"0\" r=\"3\"/><text class=\"lab\" transform=\"translate(0 12)\">2</text></g><path class=\"edge\" d=\"M 0 0 V -18.3741 H 25.5\"/><circle class=\"sym\" cx=\"0\" cy=\"0\" r=\"3\"/><text class=\"lab lft\" transform=\"translate(-3 -6)\">4</text></g><path class=\"edge\" d=\"M 0 0 V -7.45749 H 0.0\"/><circle class=\"sym\" cx=\"0\" cy=\"0\" r=\"3\"/><text class=\"lab lft\" transform=\"translate(-3 -6)\">6</text></g><path class=\"edge\" d=\"M 0 0 V -2.40683 H 29.75\"/><circle class=\"sym\" cx=\"0\" cy=\"0\" r=\"3\"/><text class=\"lab lft\" transform=\"translate(-3 -6)\">13</text></g><circle class=\"sym\" cx=\"0\" cy=\"0\" r=\"3\"/><text class=\"lab\" transform=\"translate(0 -10)\">14</text></g></g></g><g class=\"treebox t2\" transform=\"translate(400.0 30)\"><g class=\"tree t2\"><g class=\"node n14 p1 root\" transform=\"translate(95.0 58.8527)\"><g class=\"a14 node n13 p1\" transform=\"translate(-34.0 2.40683)\"><g class=\"a13 node n6 p0\" transform=\"translate(0.0 7.45749)\"><g class=\"a6 leaf node n1 p0 sample\" transform=\"translate(17.0 41.283)\"><path class=\"edge\" d=\"M 0 0 V -41.283 H -17.0\"/><circle class=\"sym\" cx=\"0\" cy=\"0\" r=\"3\"/><text class=\"lab\" transform=\"translate(0 12)\">1</text></g><g class=\"a6 leaf node n0 p0 sample\" transform=\"translate(-17.0 41.283)\"><path class=\"edge\" d=\"M 0 0 V -41.283 H 17.0\"/><circle class=\"sym\" cx=\"0\" cy=\"0\" r=\"3\"/><text class=\"lab\" transform=\"translate(0 12)\">0</text></g><path class=\"edge\" d=\"M 0 0 V -7.45749 H 0.0\"/><circle class=\"sym\" cx=\"0\" cy=\"0\" r=\"3\"/><text class=\"lab lft\" transform=\"translate(-3 -6)\">6</text></g><path class=\"edge\" d=\"M 0 0 V -2.40683 H 34.0\"/><circle class=\"sym\" cx=\"0\" cy=\"0\" r=\"3\"/><text class=\"lab lft\" transform=\"translate(-3 -6)\">13</text></g><g class=\"a14 node n11 p0\" transform=\"translate(34.0 2.40683)\"><g class=\"a11 node n7 p1\" transform=\"translate(0.0 3.91056)\"><g class=\"a7 leaf node n2 p1 sample\" transform=\"translate(-17.0 44.8299)\"><path class=\"edge\" d=\"M 0 0 V -44.8299 H 17.0\"/><circle class=\"sym\" cx=\"0\" cy=\"0\" r=\"3\"/><text class=\"lab\" transform=\"translate(0 12)\">2</text></g><g class=\"a7 leaf node n3 p1 sample\" transform=\"translate(17.0 44.8299)\"><path class=\"edge\" d=\"M 0 0 V -44.8299 H -17.0\"/><circle class=\"sym\" cx=\"0\" cy=\"0\" r=\"3\"/><text class=\"lab\" transform=\"translate(0 12)\">3</text></g><path class=\"edge\" d=\"M 0 0 V -3.91056 H 0.0\"/><circle class=\"sym\" cx=\"0\" cy=\"0\" r=\"3\"/><text class=\"lab lft\" transform=\"translate(-3 -6)\">7</text></g><path class=\"edge\" d=\"M 0 0 V -2.40683 H -34.0\"/><circle class=\"sym\" cx=\"0\" cy=\"0\" r=\"3\"/><text class=\"lab rgt\" transform=\"translate(3 -6)\">11</text></g><circle class=\"sym\" cx=\"0\" cy=\"0\" r=\"3\"/><text class=\"lab\" transform=\"translate(0 -10)\">14</text></g></g></g><g class=\"treebox t3\" transform=\"translate(590.0 30)\"><g class=\"tree t3\"><g class=\"node n15 p0 root\" transform=\"translate(95.0 30.0)\"><g class=\"a15 node n8 p0\" transform=\"translate(-34.0 31.2595)\"><g class=\"a8 node n6 p0\" transform=\"translate(0.0 7.45749)\"><g class=\"a6 leaf node n1 p0 sample\" transform=\"translate(17.0 41.283)\"><path class=\"edge\" d=\"M 0 0 V -41.283 H -17.0\"/><circle class=\"sym\" cx=\"0\" cy=\"0\" r=\"3\"/><text class=\"lab\" transform=\"translate(0 12)\">1</text></g><g class=\"a6 leaf node n0 p0 sample\" transform=\"translate(-17.0 41.283)\"><path class=\"edge\" d=\"M 0 0 V -41.283 H 17.0\"/><circle class=\"sym\" cx=\"0\" cy=\"0\" r=\"3\"/><text class=\"lab\" transform=\"translate(0 12)\">0</text></g><path class=\"edge\" d=\"M 0 0 V -7.45749 H 0.0\"/><circle class=\"sym\" cx=\"0\" cy=\"0\" r=\"3\"/><text class=\"lab lft\" transform=\"translate(-3 -6)\">6</text></g><path class=\"edge\" d=\"M 0 0 V -31.2595 H 34.0\"/><circle class=\"sym\" cx=\"0\" cy=\"0\" r=\"3\"/><text class=\"lab lft\" transform=\"translate(-3 -6)\">8</text></g><g class=\"a15 node n11 p0\" transform=\"translate(34.0 31.2595)\"><g class=\"a11 node n7 p1\" transform=\"translate(0.0 3.91056)\"><g class=\"a7 leaf node n2 p1 sample\" transform=\"translate(-17.0 44.8299)\"><path class=\"edge\" d=\"M 0 0 V -44.8299 H 17.0\"/><circle class=\"sym\" cx=\"0\" cy=\"0\" r=\"3\"/><text class=\"lab\" transform=\"translate(0 12)\">2</text></g><g class=\"a7 leaf node n3 p1 sample\" transform=\"translate(17.0 44.8299)\"><path class=\"edge\" d=\"M 0 0 V -44.8299 H -17.0\"/><circle class=\"sym\" cx=\"0\" cy=\"0\" r=\"3\"/><text class=\"lab\" transform=\"translate(0 12)\">3</text></g><path class=\"edge\" d=\"M 0 0 V -3.91056 H 0.0\"/><circle class=\"sym\" cx=\"0\" cy=\"0\" r=\"3\"/><text class=\"lab lft\" transform=\"translate(-3 -6)\">7</text></g><path class=\"edge\" d=\"M 0 0 V -31.2595 H -34.0\"/><circle class=\"sym\" cx=\"0\" cy=\"0\" r=\"3\"/><text class=\"lab rgt\" transform=\"translate(3 -6)\">11</text></g><circle class=\"sym\" cx=\"0\" cy=\"0\" r=\"3\"/><text class=\"lab\" transform=\"translate(0 -10)\">15</text></g></g></g></g><g class=\"axis\"><line stroke=\"black\" x1=\"20\" x2=\"780\" y1=\"180\" y2=\"180\"/><line stroke=\"black\" x1=\"20\" x2=\"20\" y1=\"180\" y2=\"185\"/><g transform=\"translate(20, 200)\"><text font-size=\"14\" font-weight=\"bold\" text-anchor=\"middle\">0.00</text></g><line stroke=\"black\" x1=\"220.044\" x2=\"220.044\" y1=\"180\" y2=\"185\"/><g transform=\"translate(220.044, 200)\"><text font-size=\"14\" font-weight=\"bold\" text-anchor=\"middle\">263.22</text></g><line stroke=\"black\" x1=\"535.133\" x2=\"535.133\" y1=\"180\" y2=\"185\"/><g transform=\"translate(535.133, 200)\"><text font-size=\"14\" font-weight=\"bold\" text-anchor=\"middle\">677.81</text></g><line stroke=\"black\" x1=\"733.381\" x2=\"733.381\" y1=\"180\" y2=\"185\"/><g transform=\"translate(733.381, 200)\"><text font-size=\"14\" font-weight=\"bold\" text-anchor=\"middle\">938.66</text></g><line stroke=\"black\" x1=\"780.0\" x2=\"780.0\" y1=\"180\" y2=\"185\"/><g transform=\"translate(780.0, 200)\"><text font-size=\"14\" font-weight=\"bold\" text-anchor=\"middle\">1000.00</text></g></g></g></svg>"
      ],
      "text/plain": [
       "<IPython.core.display.SVG object>"
      ]
     },
     "execution_count": 48,
     "metadata": {
      "filenames": {
       "image/svg+xml": "/home/runner/work/tskit-site/tskit-site/docs/_build/jupyter_execute/ancestry_83_0.svg"
      }
     },
     "output_type": "execute_result"
    }
   ],
   "source": [
    "    pop_config = msprime.PopulationConfiguration(sample_size=2, initial_size=1000)\n",
    "    mig_rate_change = msprime.MigrationRateChange(time=100, rate=0.05)\n",
    "    ts = msprime.simulate(\n",
    "                population_configurations=[pop_config, pop_config],\n",
    "                length=1000,\n",
    "                demographic_events=[mig_rate_change, msprime.CensusEvent(time=5000)],\n",
    "                recombination_rate=1e-7,\n",
    "                random_seed=141)\n",
    "    SVG(ts.draw_svg())"
   ]
  },
  {
   "cell_type": "markdown",
   "id": "plastic-begin",
   "metadata": {},
   "source": [
    "The resulting tree sequence has nodes on each tree at the specified census time.\n",
    "These are the nodes with IDs 8, 9, 10, 11, 12 and 13.\n",
    "\n",
    "This tells us that the genetic material ancestral to the present day sample was\n",
    "held within 5 haplotypes at time 5000. The node table shows us that four of\n",
    "these haplotypes (nodes 8, 9, 10 and 11) were in population 0 at this time, and\n",
    "two of these haplotypes (nodes 12 and 13) were in population 1 at this time."
   ]
  },
  {
   "cell_type": "code",
   "execution_count": 49,
   "id": "structural-catering",
   "metadata": {},
   "outputs": [
    {
     "name": "stdout",
     "output_type": "stream",
     "text": [
      "id\tflags\tpopulation\tindividual\ttime\tmetadata\n",
      "0\t1\t0\t-1\t0.00000000000000\t\n",
      "1\t1\t0\t-1\t0.00000000000000\t\n",
      "2\t1\t1\t-1\t0.00000000000000\t\n",
      "3\t1\t1\t-1\t0.00000000000000\t\n",
      "4\t0\t1\t-1\t2350.08685278955454\t\n",
      "5\t0\t1\t-1\t3759.20387382751323\t\n",
      "6\t0\t0\t-1\t4234.97992185138355\t\n",
      "7\t0\t1\t-1\t4598.83898042142937\t\n",
      "8\t1048576\t0\t-1\t5000.00000000000000\t\n",
      "9\t1048576\t0\t-1\t5000.00000000000000\t\n",
      "10\t1048576\t0\t-1\t5000.00000000000000\t\n",
      "11\t1048576\t0\t-1\t5000.00000000000000\t\n",
      "12\t1048576\t1\t-1\t5000.00000000000000\t\n",
      "13\t1048576\t1\t-1\t5000.00000000000000\t\n",
      "14\t0\t1\t-1\t5246.90282987397495\t\n",
      "15\t0\t0\t-1\t8206.73121309170347\t\n"
     ]
    }
   ],
   "source": [
    "    print(ts.tables.nodes)"
   ]
  },
  {
   "cell_type": "markdown",
   "id": "spatial-father",
   "metadata": {},
   "source": [
    "If we wish to study these ancestral haplotypes further, we can simplify the tree sequence\n",
    "with respect to the census nodes and perform subsequent analyses on this simplified tree\n",
    "sequence.\n",
    "In this example, `ts_anc` is a tree sequence obtained from the original tree sequence\n",
    "`ts` by labelling the census nodes as samples and removing all nodes and edges that are\n",
    "not ancestral to these census nodes."
   ]
  },
  {
   "cell_type": "code",
   "execution_count": 50,
   "id": "missing-excuse",
   "metadata": {},
   "outputs": [],
   "source": [
    "    nodes = [i.id for i in ts.nodes() if i.flags==msprime.NODE_IS_CEN_EVENT]\n",
    "    ts_anc = ts.simplify(samples=nodes)\n"
   ]
  },
  {
   "cell_type": "markdown",
   "id": "prostate-headline",
   "metadata": {},
   "source": [
    "## Manipulating simulation time\n",
    "\n",
    "(sec_ancestry_end_time)=\n",
    "\n",
    "### Stopping simulations early"
   ]
  },
  {
   "cell_type": "code",
   "execution_count": 51,
   "id": "cathedral-chest",
   "metadata": {
    "tags": [
     "remove-cell"
    ]
   },
   "outputs": [],
   "source": [
    "    msprime.core.set_seed_rng_seed(42)"
   ]
  },
  {
   "cell_type": "markdown",
   "id": "compound-minister",
   "metadata": {},
   "source": [
    "```{eval-rst}\n",
    ".. todo:: Go through an example of using the end time.\n",
    "\n",
    "```\n",
    "\n",
    "(sec_ancestry_start_time)=\n",
    "\n",
    "### Setting the start time"
   ]
  },
  {
   "cell_type": "code",
   "execution_count": 52,
   "id": "clear-chick",
   "metadata": {
    "tags": [
     "remove-cell"
    ]
   },
   "outputs": [],
   "source": [
    "    msprime.core.set_seed_rng_seed(42)"
   ]
  },
  {
   "cell_type": "markdown",
   "id": "alone-withdrawal",
   "metadata": {},
   "source": [
    "```{eval-rst}\n",
    ".. todo:: Go through an example of using the start time.\n",
    "\n",
    "```\n",
    "\n",
    "(sec_ancestry_initial_state)=\n",
    "\n",
    "## Specifying the initial state"
   ]
  },
  {
   "cell_type": "code",
   "execution_count": 53,
   "id": "material-theorem",
   "metadata": {
    "tags": [
     "remove-cell"
    ]
   },
   "outputs": [],
   "source": [
    "    msprime.core.set_seed_rng_seed(42)"
   ]
  },
  {
   "cell_type": "markdown",
   "id": "operational-lightweight",
   "metadata": {},
   "source": [
    "```{eval-rst}\n",
    ".. todo:: Go through an example where we specify the initial state\n",
    "    and explain that specifying the samples is actually the same thing.\n",
    "\n",
    "```\n",
    "\n",
    "```{eval-rst}\n",
    ".. todo:: Port this old documentation to the new format. The sectioning\n",
    "    is definitely not right here also, as we've just pasted in the old\n",
    "    tutorial content directly in here.\n",
    "```\n",
    "\n",
    "By default `msprime` simulations are initialised by specifying a set of samples,\n",
    "using the `sample_size` or  `samples` parameters to {func}`.simulate`. This\n",
    "initialises the simulation with segments of ancestral material covering the\n",
    "whole sequence. Simulation then proceeds backwards in time until a most recent\n",
    "common ancestor has been found at all points along this sequence. We can\n",
    "also start simulations from different initial conditions by using the\n",
    "`from_ts` argument to {func}`.simulate`. Informally, we take an 'unfinished'\n",
    "tree sequence as a parameter to simulate, initialise the simulation\n",
    "from the state of this tree sequence and then run the simulation until\n",
    "coalescence. The returned tree sequence is then the result of taking the\n",
    "input tree sequence and completing the trees using the coalescent.\n",
    "\n",
    "This is useful for forwards-time simulators such as\n",
    "[SLiM](<https://messerlab.org/slim/>) that can output tree sequences. By running\n",
    "forward-time simulation for a certain number of generations we obtain a\n",
    "tree sequence, but these trees may not have had sufficient time to\n",
    "reach a most recent common ancestor. By using the `from_ts` argument\n",
    "to {func}`.simulate` we can combine the best of both forwards- and\n",
    "backwards-time simulators. The recent past can be simulated forwards\n",
    "in time and the ancient past by the coalescent. The coalescent\n",
    "simulation is initialised by the root segments of the\n",
    "input tree sequence, ensuring that the minimal amount of ancestral\n",
    "material possible is simulated.\n",
    "\n",
    "<!---\n",
    "Please see the :ref:`tutorial <sec_tutorial_simulate_from>` for an example of\n",
    "-->\n",
    "\n",
    "<!---\n",
    "how to use this feature with a simple forwards-time Wright-Fisher simulator\n",
    "-->\n",
    "\n",
    "### Input requirements\n",
    "\n",
    "Any tree sequence can be provided as input to this process, but there is a\n",
    "specific topological requirement that must be met for the simulations to be\n",
    "statistically correct. To ensure that ancestral segments are correctly\n",
    "associated within chromosomes when constructing the initial conditions for the\n",
    "coalescent simulation, forward-time simulators **must** retain the nodes\n",
    "corresponding to the initial generation. Furthermore, for every sample in the\n",
    "final generation (i.e. the extant population at the present time) there must be\n",
    "a path to one of the founder population nodes.\n",
    "\n",
    "<!---\n",
    "(Please see the :ref:`tutorial\n",
    "-->\n",
    "\n",
    "<!---\n",
    "<sec_tutorial_simulate_from>` for further explanation of this point and an\n",
    "-->\n",
    "\n",
    "<!---\n",
    "example.)\n",
    "-->\n",
    "\n",
    "(sec_ancestry_models)=\n",
    "\n",
    "## Models"
   ]
  },
  {
   "cell_type": "code",
   "execution_count": 54,
   "id": "severe-starter",
   "metadata": {
    "tags": [
     "remove-cell"
    ]
   },
   "outputs": [],
   "source": [
    "    msprime.core.set_seed_rng_seed(42)"
   ]
  },
  {
   "cell_type": "markdown",
   "id": "ethical-webster",
   "metadata": {},
   "source": [
    "```{eval-rst}\n",
    ".. todo:: quick overview of what a model *is* and also an example of \n",
    "  how to use it.\n",
    "\n",
    "```\n",
    "\n",
    "(sec_ancestry_models_hudson)=\n",
    "\n",
    "### Hudson coalescent\n",
    "\n",
    "The default simulation model in `msprime` is the coalescent\n",
    "with recombination, based on the classical `ms` program. \n",
    "Please see the {class}`API documentation<.StandardCoalescent>`\n",
    "for a formal description of the model.\n",
    "\n",
    "The standard coalescent is the default model of ancestry used\n",
    "in msprime if we don't specify any value for the `model` parameter."
   ]
  },
  {
   "cell_type": "code",
   "execution_count": 55,
   "id": "innocent-illustration",
   "metadata": {},
   "outputs": [],
   "source": [
    "    ts1 = msprime.sim_ancestry(5, random_seed=2)\n",
    "    ts2 = msprime.sim_ancestry(5, model=\"hudson\", random_seed=2)\n",
    "    # This is the same simulation so we should get the same\n",
    "    # node and edge tables.\n",
    "    assert ts1.tables.nodes == ts2.tables.nodes\n",
    "    assert ts1.tables.edges == ts2.tables.edges\n"
   ]
  },
  {
   "cell_type": "markdown",
   "id": "hindu-copper",
   "metadata": {},
   "source": [
    "(sec_ancestry_models_smc)=\n",
    "\n",
    "### SMC approximations\n",
    "\n",
    "\n",
    "```{eval-rst}\n",
    ".. todo:: Write this section, including a simple example ideally showing \n",
    "    a property of an SMC simulation\n",
    "\n",
    "```\n",
    "\n",
    "(sec_ancestry_models_dtwf)=\n",
    "\n",
    "### Discrete Time Wright-Fisher\n",
    "\n",
    "Msprime provides the option to perform discrete-time Wright-Fisher simulations\n",
    "for scenarios when the coalescent model is not appropriate, including large\n",
    "sample sizes, multiple chromosomes, or recent migration.\n",
    "Please see the {class}`API documentation<.DiscreteTimeWrightFisher>`\n",
    "for a formal description of the model.\n",
    "\n",
    "All other parameters can be set as usual. Note that for discrete-time\n",
    "Wright-Fisher simulations with population structure, each row of the migration\n",
    "matrix must sum to one or less.\n",
    "\n",
    "```{eval-rst}\n",
    ".. todo:: An example of the DTWF. Show the discrete with an example of a\n",
    "    non-binary tree.\n",
    "```\n",
    "\n",
    "(sec_ancestry_models_multiple_mergers)=\n",
    "\n",
    "### Multiple merger coalescents\n",
    "\n",
    "Some evolutionary scenarios, such as a skewed offspring distribution\n",
    "combined with a type III survivorship curve, range expansion, and\n",
    "rapid adaptation, can predict genealogies with up to four simultaneous\n",
    "multiple mergers. Msprime provides the option to simulate from two classes\n",
    "of such genealogical processes: the {class}`.BetaCoalescent` and\n",
    "the {class}`.DiracCoalescent`. Please see the API documentation for formal\n",
    "details of the models.\n",
    "\n",
    "For haploid organisms, both models result in genealogies in which\n",
    "any number of lineages can merge into a common ancestor,\n",
    "but only one merger event can take place at a given time. For {math}`p`-ploids,\n",
    "up to {math}`2p` simultaneous mergers can take place, corresponding to the\n",
    "{math}`2p` available parental chromosome copies."
   ]
  },
  {
   "cell_type": "code",
   "execution_count": 56,
   "id": "right-clinic",
   "metadata": {
    "tags": [
     "remove-cell"
    ]
   },
   "outputs": [],
   "source": [
    "msprime.core.set_seed_rng_seed(42)"
   ]
  },
  {
   "cell_type": "markdown",
   "id": "amended-diagram",
   "metadata": {},
   "source": [
    "The diploid Beta-Xi-coalescent can be simulated as follows:"
   ]
  },
  {
   "cell_type": "code",
   "execution_count": 57,
   "id": "approximate-memorial",
   "metadata": {},
   "outputs": [
    {
     "data": {
      "image/svg+xml": [
       "<svg xmlns=\"http://www.w3.org/2000/svg\" xmlns:ev=\"http://www.w3.org/2001/xml-events\" xmlns:xlink=\"http://www.w3.org/1999/xlink\" baseProfile=\"full\" height=\"200\" version=\"1.1\" width=\"200\"><defs><style type=\"text/css\"><![CDATA[.axis {font-weight: bold}.tree, .axis {font-size: 14px; text-anchor:middle}.edge {stroke: black; fill: none}.node > .sym {fill: black; stroke: none}.tree text {dominant-baseline: middle}.tree .lab.lft {text-anchor: end}.tree .lab.rgt {text-anchor: start}.mut {fill: red; font-style: italic}]]></style></defs><g class=\"tree-sequence\"><g class=\"background\"><polygon fill=\"#F1F1F1\" points=\"20,185 20,180 20,160 20,0 180.0,0 180.0,160 180.0,180 180.0,185\"/></g><g class=\"trees\"><g class=\"treebox t0\" transform=\"translate(20 30)\"><g class=\"tree t0\"><g class=\"node n16 p0 root\" transform=\"translate(99.0909 30.0)\"><g class=\"a16 node n12 p0\" transform=\"translate(31.8182 60.1289)\"><g class=\"a12 i4 leaf node n8 p0 sample\" transform=\"translate(-6.36364 19.8711)\"><path class=\"edge\" d=\"M 0 0 V -19.8711 H 6.36364\"/><circle class=\"sym\" cx=\"0\" cy=\"0\" r=\"3\"/><text class=\"lab\" transform=\"translate(0 12)\">8</text></g><g class=\"a12 i4 leaf node n9 p0 sample\" transform=\"translate(6.36364 19.8711)\"><path class=\"edge\" d=\"M 0 0 V -19.8711 H -6.36364\"/><circle class=\"sym\" cx=\"0\" cy=\"0\" r=\"3\"/><text class=\"lab\" transform=\"translate(0 12)\">9</text></g><path class=\"edge\" d=\"M 0 0 V -60.1289 H -31.8182\"/><circle class=\"sym\" cx=\"0\" cy=\"0\" r=\"3\"/><text class=\"lab rgt\" transform=\"translate(3 -6)\">12</text></g><g class=\"a16 node n15 p0\" transform=\"translate(-31.8182 42.7624)\"><g class=\"a15 node n11 p0\" transform=\"translate(-19.0909 26.9193)\"><g class=\"a11 i1 leaf node n2 p0 sample\" transform=\"translate(12.7273 10.3183)\"><path class=\"edge\" d=\"M 0 0 V -10.3183 H -12.7273\"/><circle class=\"sym\" cx=\"0\" cy=\"0\" r=\"3\"/><text class=\"lab\" transform=\"translate(0 12)\">2</text></g><g class=\"a11 node n10 p0\" transform=\"translate(-12.7273 1.38934)\"><g class=\"a10 i0 leaf node n0 p0 sample\" transform=\"translate(-12.7273 8.92897)\"><path class=\"edge\" d=\"M 0 0 V -8.92897 H 12.7273\"/><circle class=\"sym\" cx=\"0\" cy=\"0\" r=\"3\"/><text class=\"lab\" transform=\"translate(0 12)\">0</text></g><g class=\"a10 i2 leaf node n4 p0 sample\" transform=\"translate(0.0 8.92897)\"><path class=\"edge\" d=\"M 0 0 V -8.92897 H 0.0\"/><circle class=\"sym\" cx=\"0\" cy=\"0\" r=\"3\"/><text class=\"lab\" transform=\"translate(0 12)\">4</text></g><g class=\"a10 i3 leaf node n6 p0 sample\" transform=\"translate(12.7273 8.92897)\"><path class=\"edge\" d=\"M 0 0 V -8.92897 H -12.7273\"/><circle class=\"sym\" cx=\"0\" cy=\"0\" r=\"3\"/><text class=\"lab\" transform=\"translate(0 12)\">6</text></g><path class=\"edge\" d=\"M 0 0 V -1.38934 H 12.7273\"/><circle class=\"sym\" cx=\"0\" cy=\"0\" r=\"3\"/><text class=\"lab lft\" transform=\"translate(-3 -6)\">10</text></g><path class=\"edge\" d=\"M 0 0 V -26.9193 H 19.0909\"/><circle class=\"sym\" cx=\"0\" cy=\"0\" r=\"3\"/><text class=\"lab lft\" transform=\"translate(-3 -6)\">11</text></g><g class=\"a15 node n14 p0\" transform=\"translate(19.0909 7.71107)\"><g class=\"a14 i0 leaf node n1 p0 sample\" transform=\"translate(-12.7273 29.5265)\"><path class=\"edge\" d=\"M 0 0 V -29.5265 H 12.7273\"/><circle class=\"sym\" cx=\"0\" cy=\"0\" r=\"3\"/><text class=\"lab\" transform=\"translate(0 12)\">1</text></g><g class=\"a14 node n13 p0\" transform=\"translate(12.7273 9.6554)\"><g class=\"a13 i1 leaf node n3 p0 sample\" transform=\"translate(-12.7273 19.8711)\"><path class=\"edge\" d=\"M 0 0 V -19.8711 H 12.7273\"/><circle class=\"sym\" cx=\"0\" cy=\"0\" r=\"3\"/><text class=\"lab\" transform=\"translate(0 12)\">3</text></g><g class=\"a13 i2 leaf node n5 p0 sample\" transform=\"translate(0.0 19.8711)\"><path class=\"edge\" d=\"M 0 0 V -19.8711 H 0.0\"/><circle class=\"sym\" cx=\"0\" cy=\"0\" r=\"3\"/><text class=\"lab\" transform=\"translate(0 12)\">5</text></g><g class=\"a13 i3 leaf node n7 p0 sample\" transform=\"translate(12.7273 19.8711)\"><path class=\"edge\" d=\"M 0 0 V -19.8711 H -12.7273\"/><circle class=\"sym\" cx=\"0\" cy=\"0\" r=\"3\"/><text class=\"lab\" transform=\"translate(0 12)\">7</text></g><path class=\"edge\" d=\"M 0 0 V -9.6554 H -12.7273\"/><circle class=\"sym\" cx=\"0\" cy=\"0\" r=\"3\"/><text class=\"lab rgt\" transform=\"translate(3 -6)\">13</text></g><path class=\"edge\" d=\"M 0 0 V -7.71107 H -19.0909\"/><circle class=\"sym\" cx=\"0\" cy=\"0\" r=\"3\"/><text class=\"lab rgt\" transform=\"translate(3 -6)\">14</text></g><path class=\"edge\" d=\"M 0 0 V -42.7624 H 31.8182\"/><circle class=\"sym\" cx=\"0\" cy=\"0\" r=\"3\"/><text class=\"lab lft\" transform=\"translate(-3 -6)\">15</text></g><circle class=\"sym\" cx=\"0\" cy=\"0\" r=\"3\"/><text class=\"lab\" transform=\"translate(0 -10)\">16</text></g></g></g></g><g class=\"axis\"><line stroke=\"black\" x1=\"20\" x2=\"180\" y1=\"180\" y2=\"180\"/><line stroke=\"black\" x1=\"20\" x2=\"20\" y1=\"180\" y2=\"185\"/><g transform=\"translate(20, 200)\"><text font-size=\"14\" font-weight=\"bold\" text-anchor=\"middle\">0</text></g><line stroke=\"black\" x1=\"180.0\" x2=\"180.0\" y1=\"180\" y2=\"185\"/><g transform=\"translate(180.0, 200)\"><text font-size=\"14\" font-weight=\"bold\" text-anchor=\"middle\">1</text></g></g></g></svg>"
      ],
      "text/plain": [
       "<IPython.core.display.SVG object>"
      ]
     },
     "execution_count": 57,
     "metadata": {
      "filenames": {
       "image/svg+xml": "/home/runner/work/tskit-site/tskit-site/docs/_build/jupyter_execute/ancestry_101_0.svg"
      }
     },
     "output_type": "execute_result"
    }
   ],
   "source": [
    "ts = msprime.sim_ancestry(\n",
    "    samples=5, ploidy=2, random_seed=1,\n",
    "    model=msprime.BetaCoalescent(alpha=1.001))\n",
    "SVG(ts.draw_svg())\n"
   ]
  },
  {
   "cell_type": "markdown",
   "id": "burning-hampton",
   "metadata": {},
   "source": [
    "The specified value of {math}`\\alpha = 1.001` corresponds to a heavily skewed\n",
    "offspring distribution. Values closer to {math}`\\alpha = 2` result in trees\n",
    "whose distribution is closer to that of the standard coalescent, often featuring\n",
    "no multiple mergers for small sample sizes:"
   ]
  },
  {
   "cell_type": "code",
   "execution_count": 58,
   "id": "prospective-immigration",
   "metadata": {},
   "outputs": [
    {
     "data": {
      "image/svg+xml": [
       "<svg xmlns=\"http://www.w3.org/2000/svg\" xmlns:ev=\"http://www.w3.org/2001/xml-events\" xmlns:xlink=\"http://www.w3.org/1999/xlink\" baseProfile=\"full\" height=\"200\" version=\"1.1\" width=\"200\"><defs><style type=\"text/css\"><![CDATA[.axis {font-weight: bold}.tree, .axis {font-size: 14px; text-anchor:middle}.edge {stroke: black; fill: none}.node > .sym {fill: black; stroke: none}.tree text {dominant-baseline: middle}.tree .lab.lft {text-anchor: end}.tree .lab.rgt {text-anchor: start}.mut {fill: red; font-style: italic}]]></style></defs><g class=\"tree-sequence\"><g class=\"background\"><polygon fill=\"#F1F1F1\" points=\"20,185 20,180 20,160 20,0 180.0,0 180.0,160 180.0,180 180.0,185\"/></g><g class=\"trees\"><g class=\"treebox t0\" transform=\"translate(20 30)\"><g class=\"tree t0\"><g class=\"node n14 p0 root\" transform=\"translate(102.847 30.0)\"><g class=\"a14 i3 leaf node n6 p0 sample\" transform=\"translate(31.5972 80.0)\"><path class=\"edge\" d=\"M 0 0 V -80.0 H -31.5972\"/><circle class=\"sym\" cx=\"0\" cy=\"0\" r=\"3\"/><text class=\"lab\" transform=\"translate(0 12)\">6</text></g><g class=\"a14 node n13 p0\" transform=\"translate(-31.5972 9.0053)\"><g class=\"a13 node n10 p0\" transform=\"translate(34.0278 46.6238)\"><g class=\"a10 i2 leaf node n5 p0 sample\" transform=\"translate(13.6111 24.3709)\"><path class=\"edge\" d=\"M 0 0 V -24.3709 H -13.6111\"/><circle class=\"sym\" cx=\"0\" cy=\"0\" r=\"3\"/><text class=\"lab\" transform=\"translate(0 12)\">5</text></g><g class=\"a10 node n9 p0\" transform=\"translate(-13.6111 9.84918)\"><g class=\"a9 i3 leaf node n7 p0 sample\" transform=\"translate(11.6667 14.5217)\"><path class=\"edge\" d=\"M 0 0 V -14.5217 H -11.6667\"/><circle class=\"sym\" cx=\"0\" cy=\"0\" r=\"3\"/><text class=\"lab\" transform=\"translate(0 12)\">7</text></g><g class=\"a9 node n8 p0\" transform=\"translate(-11.6667 5.10644)\"><g class=\"a8 i0 leaf node n1 p0 sample\" transform=\"translate(-7.77778 9.41529)\"><path class=\"edge\" d=\"M 0 0 V -9.41529 H 7.77778\"/><circle class=\"sym\" cx=\"0\" cy=\"0\" r=\"3\"/><text class=\"lab\" transform=\"translate(0 12)\">1</text></g><g class=\"a8 i1 leaf node n3 p0 sample\" transform=\"translate(7.77778 9.41529)\"><path class=\"edge\" d=\"M 0 0 V -9.41529 H -7.77778\"/><circle class=\"sym\" cx=\"0\" cy=\"0\" r=\"3\"/><text class=\"lab\" transform=\"translate(0 12)\">3</text></g><path class=\"edge\" d=\"M 0 0 V -5.10644 H 11.6667\"/><circle class=\"sym\" cx=\"0\" cy=\"0\" r=\"3\"/><text class=\"lab lft\" transform=\"translate(-3 -6)\">8</text></g><path class=\"edge\" d=\"M 0 0 V -9.84918 H 13.6111\"/><circle class=\"sym\" cx=\"0\" cy=\"0\" r=\"3\"/><text class=\"lab lft\" transform=\"translate(-3 -6)\">9</text></g><path class=\"edge\" d=\"M 0 0 V -46.6238 H -34.0278\"/><circle class=\"sym\" cx=\"0\" cy=\"0\" r=\"3\"/><text class=\"lab rgt\" transform=\"translate(3 -6)\">10</text></g><g class=\"a13 node n12 p0\" transform=\"translate(-34.0278 6.55121)\"><g class=\"a12 i0 leaf node n0 p0 sample\" transform=\"translate(-11.6667 64.4435)\"><path class=\"edge\" d=\"M 0 0 V -64.4435 H 11.6667\"/><circle class=\"sym\" cx=\"0\" cy=\"0\" r=\"3\"/><text class=\"lab\" transform=\"translate(0 12)\">0</text></g><g class=\"a12 node n11 p0\" transform=\"translate(11.6667 2.69081)\"><g class=\"a11 i1 leaf node n2 p0 sample\" transform=\"translate(-7.77778 61.7527)\"><path class=\"edge\" d=\"M 0 0 V -61.7527 H 7.77778\"/><circle class=\"sym\" cx=\"0\" cy=\"0\" r=\"3\"/><text class=\"lab\" transform=\"translate(0 12)\">2</text></g><g class=\"a11 i2 leaf node n4 p0 sample\" transform=\"translate(7.77778 61.7527)\"><path class=\"edge\" d=\"M 0 0 V -61.7527 H -7.77778\"/><circle class=\"sym\" cx=\"0\" cy=\"0\" r=\"3\"/><text class=\"lab\" transform=\"translate(0 12)\">4</text></g><path class=\"edge\" d=\"M 0 0 V -2.69081 H -11.6667\"/><circle class=\"sym\" cx=\"0\" cy=\"0\" r=\"3\"/><text class=\"lab rgt\" transform=\"translate(3 -6)\">11</text></g><path class=\"edge\" d=\"M 0 0 V -6.55121 H 34.0278\"/><circle class=\"sym\" cx=\"0\" cy=\"0\" r=\"3\"/><text class=\"lab lft\" transform=\"translate(-3 -6)\">12</text></g><path class=\"edge\" d=\"M 0 0 V -9.0053 H 31.5972\"/><circle class=\"sym\" cx=\"0\" cy=\"0\" r=\"3\"/><text class=\"lab lft\" transform=\"translate(-3 -6)\">13</text></g><circle class=\"sym\" cx=\"0\" cy=\"0\" r=\"3\"/><text class=\"lab\" transform=\"translate(0 -10)\">14</text></g></g></g></g><g class=\"axis\"><line stroke=\"black\" x1=\"20\" x2=\"180\" y1=\"180\" y2=\"180\"/><line stroke=\"black\" x1=\"20\" x2=\"20\" y1=\"180\" y2=\"185\"/><g transform=\"translate(20, 200)\"><text font-size=\"14\" font-weight=\"bold\" text-anchor=\"middle\">0</text></g><line stroke=\"black\" x1=\"180.0\" x2=\"180.0\" y1=\"180\" y2=\"185\"/><g transform=\"translate(180.0, 200)\"><text font-size=\"14\" font-weight=\"bold\" text-anchor=\"middle\">1</text></g></g></g></svg>"
      ],
      "text/plain": [
       "<IPython.core.display.SVG object>"
      ]
     },
     "execution_count": 58,
     "metadata": {
      "filenames": {
       "image/svg+xml": "/home/runner/work/tskit-site/tskit-site/docs/_build/jupyter_execute/ancestry_103_0.svg"
      }
     },
     "output_type": "execute_result"
    }
   ],
   "source": [
    "ts = msprime.sim_ancestry(\n",
    "    samples=4, ploidy=2, random_seed=1,\n",
    "    model=msprime.BetaCoalescent(alpha=1.8))\n",
    "SVG(ts.draw_svg())\n"
   ]
  },
  {
   "cell_type": "markdown",
   "id": "communist-division",
   "metadata": {},
   "source": [
    "Multiple mergers still take place in a haploid simulaton, but only one merger\n",
    "can take place at a given time:"
   ]
  },
  {
   "cell_type": "code",
   "execution_count": 59,
   "id": "dominican-accommodation",
   "metadata": {},
   "outputs": [
    {
     "data": {
      "image/svg+xml": [
       "<svg xmlns=\"http://www.w3.org/2000/svg\" xmlns:ev=\"http://www.w3.org/2001/xml-events\" xmlns:xlink=\"http://www.w3.org/1999/xlink\" baseProfile=\"full\" height=\"200\" version=\"1.1\" width=\"200\"><defs><style type=\"text/css\"><![CDATA[.axis {font-weight: bold}.tree, .axis {font-size: 14px; text-anchor:middle}.edge {stroke: black; fill: none}.node > .sym {fill: black; stroke: none}.tree text {dominant-baseline: middle}.tree .lab.lft {text-anchor: end}.tree .lab.rgt {text-anchor: start}.mut {fill: red; font-style: italic}]]></style></defs><g class=\"tree-sequence\"><g class=\"background\"><polygon fill=\"#F1F1F1\" points=\"20,185 20,180 20,160 20,0 180.0,0 180.0,160 180.0,180 180.0,185\"/></g><g class=\"trees\"><g class=\"treebox t0\" transform=\"translate(20 30)\"><g class=\"tree t0\"><g class=\"node n14 p0 root\" transform=\"translate(94.3182 30.0)\"><g class=\"a14 i1 leaf node n1 p0 sample\" transform=\"translate(30.2273 80.0)\"><path class=\"edge\" d=\"M 0 0 V -80.0 H -30.2273\"/><circle class=\"sym\" cx=\"0\" cy=\"0\" r=\"3\"/><text class=\"lab\" transform=\"translate(0 12)\">1</text></g><g class=\"a14 i2 leaf node n2 p0 sample\" transform=\"translate(42.9545 80.0)\"><path class=\"edge\" d=\"M 0 0 V -80.0 H -42.9545\"/><circle class=\"sym\" cx=\"0\" cy=\"0\" r=\"3\"/><text class=\"lab\" transform=\"translate(0 12)\">2</text></g><g class=\"a14 node n13 p0\" transform=\"translate(-42.9545 14.3468)\"><g class=\"a13 i0 leaf node n0 p0 sample\" transform=\"translate(-28.6364 65.6532)\"><path class=\"edge\" d=\"M 0 0 V -65.6532 H 28.6364\"/><circle class=\"sym\" cx=\"0\" cy=\"0\" r=\"3\"/><text class=\"lab\" transform=\"translate(0 12)\">0</text></g><g class=\"a13 node n12 p0\" transform=\"translate(28.6364 0.305728)\"><g class=\"a12 i5 leaf node n5 p0 sample\" transform=\"translate(-6.36364 65.3475)\"><path class=\"edge\" d=\"M 0 0 V -65.3475 H 6.36364\"/><circle class=\"sym\" cx=\"0\" cy=\"0\" r=\"3\"/><text class=\"lab\" transform=\"translate(0 12)\">5</text></g><g class=\"a12 i7 leaf node n7 p0 sample\" transform=\"translate(31.8182 65.3475)\"><path class=\"edge\" d=\"M 0 0 V -65.3475 H -31.8182\"/><circle class=\"sym\" cx=\"0\" cy=\"0\" r=\"3\"/><text class=\"lab\" transform=\"translate(0 12)\">7</text></g><g class=\"a12 node n10 p0\" transform=\"translate(-31.8182 38.5939)\"><g class=\"a10 i3 leaf node n3 p0 sample\" transform=\"translate(-12.7273 26.7536)\"><path class=\"edge\" d=\"M 0 0 V -26.7536 H 12.7273\"/><circle class=\"sym\" cx=\"0\" cy=\"0\" r=\"3\"/><text class=\"lab\" transform=\"translate(0 12)\">3</text></g><g class=\"a10 i4 leaf node n4 p0 sample\" transform=\"translate(0.0 26.7536)\"><path class=\"edge\" d=\"M 0 0 V -26.7536 H 0.0\"/><circle class=\"sym\" cx=\"0\" cy=\"0\" r=\"3\"/><text class=\"lab\" transform=\"translate(0 12)\">4</text></g><g class=\"a10 i9 leaf node n9 p0 sample\" transform=\"translate(12.7273 26.7536)\"><path class=\"edge\" d=\"M 0 0 V -26.7536 H -12.7273\"/><circle class=\"sym\" cx=\"0\" cy=\"0\" r=\"3\"/><text class=\"lab\" transform=\"translate(0 12)\">9</text></g><path class=\"edge\" d=\"M 0 0 V -38.5939 H 31.8182\"/><circle class=\"sym\" cx=\"0\" cy=\"0\" r=\"3\"/><text class=\"lab lft\" transform=\"translate(-3 -6)\">10</text></g><g class=\"a12 node n11 p0\" transform=\"translate(12.7273 15.7744)\"><g class=\"a11 i6 leaf node n6 p0 sample\" transform=\"translate(-6.36364 49.5731)\"><path class=\"edge\" d=\"M 0 0 V -49.5731 H 6.36364\"/><circle class=\"sym\" cx=\"0\" cy=\"0\" r=\"3\"/><text class=\"lab\" transform=\"translate(0 12)\">6</text></g><g class=\"a11 i8 leaf node n8 p0 sample\" transform=\"translate(6.36364 49.5731)\"><path class=\"edge\" d=\"M 0 0 V -49.5731 H -6.36364\"/><circle class=\"sym\" cx=\"0\" cy=\"0\" r=\"3\"/><text class=\"lab\" transform=\"translate(0 12)\">8</text></g><path class=\"edge\" d=\"M 0 0 V -15.7744 H -12.7273\"/><circle class=\"sym\" cx=\"0\" cy=\"0\" r=\"3\"/><text class=\"lab rgt\" transform=\"translate(3 -6)\">11</text></g><path class=\"edge\" d=\"M 0 0 V -0.305728 H -28.6364\"/><circle class=\"sym\" cx=\"0\" cy=\"0\" r=\"3\"/><text class=\"lab rgt\" transform=\"translate(3 -6)\">12</text></g><path class=\"edge\" d=\"M 0 0 V -14.3468 H 42.9545\"/><circle class=\"sym\" cx=\"0\" cy=\"0\" r=\"3\"/><text class=\"lab lft\" transform=\"translate(-3 -6)\">13</text></g><circle class=\"sym\" cx=\"0\" cy=\"0\" r=\"3\"/><text class=\"lab\" transform=\"translate(0 -10)\">14</text></g></g></g></g><g class=\"axis\"><line stroke=\"black\" x1=\"20\" x2=\"180\" y1=\"180\" y2=\"180\"/><line stroke=\"black\" x1=\"20\" x2=\"20\" y1=\"180\" y2=\"185\"/><g transform=\"translate(20, 200)\"><text font-size=\"14\" font-weight=\"bold\" text-anchor=\"middle\">0</text></g><line stroke=\"black\" x1=\"180.0\" x2=\"180.0\" y1=\"180\" y2=\"185\"/><g transform=\"translate(180.0, 200)\"><text font-size=\"14\" font-weight=\"bold\" text-anchor=\"middle\">1</text></g></g></g></svg>"
      ],
      "text/plain": [
       "<IPython.core.display.SVG object>"
      ]
     },
     "execution_count": 59,
     "metadata": {
      "filenames": {
       "image/svg+xml": "/home/runner/work/tskit-site/tskit-site/docs/_build/jupyter_execute/ancestry_105_0.svg"
      }
     },
     "output_type": "execute_result"
    }
   ],
   "source": [
    "ts = msprime.sim_ancestry(\n",
    "    samples=10, ploidy=1, random_seed=1,\n",
    "    model=msprime.BetaCoalescent(alpha=1.001))\n",
    "SVG(ts.draw_svg())\n"
   ]
  },
  {
   "cell_type": "markdown",
   "id": "floral-appointment",
   "metadata": {},
   "source": [
    "A haploid simulation results in larger individual mergers than a polyploid simulation\n",
    "because large mergers typically get broken up into multiple simultaneous mergers\n",
    "in the polyploid model.\n",
    "\n",
    "The number of generations between merger events in the Beta-coalescent depends\n",
    "nonlinearly on both {math}`\\alpha` and the population size {math}`N`\n",
    "as detailed above.\n",
    "For a fixed {math}`\\alpha`, the number of generations between common ancestor events\n",
    "is proportional to {math}`N^{\\alpha - 1}`, albeit with a complicated constant of\n",
    "proportionality that depends on {math}`\\alpha`. The dependence on {math}`\\alpha`\n",
    "for fixed {math}`N` is not monotone. Thus, branch lengths and the number of\n",
    "generations until a most recent common ancestor depend on both of these parameters.\n",
    "\n",
    "To illustrate, for {math}`\\alpha` close to 2 the relationship between effective\n",
    "population size and number of generations is almost linear:"
   ]
  },
  {
   "cell_type": "code",
   "execution_count": 60,
   "id": "immediate-jason",
   "metadata": {},
   "outputs": [
    {
     "name": "stdout",
     "output_type": "stream",
     "text": [
      "0.14959691919068155\n",
      "14.286394871874865\n"
     ]
    }
   ],
   "source": [
    "ts = msprime.sim_ancestry(\n",
    "    samples=1, ploidy=2, random_seed=1, population_size=10,\n",
    "    model=msprime.BetaCoalescent(alpha=1.99))\n",
    "tree = ts.first()\n",
    "print(tree.tmrca(0,1))\n",
    "ts = msprime.sim_ancestry(\n",
    "    samples=1, ploidy=2, random_seed=1, population_size=1000,\n",
    "    model=msprime.BetaCoalescent(alpha=1.99))\n",
    "tree = ts.first()\n",
    "print(tree.tmrca(0,1))\n"
   ]
  },
  {
   "cell_type": "markdown",
   "id": "southwest-humidity",
   "metadata": {},
   "source": [
    "For {math}`\\alpha` close to 1 the effective population size has little effect:"
   ]
  },
  {
   "cell_type": "code",
   "execution_count": 61,
   "id": "exterior-malaysia",
   "metadata": {},
   "outputs": [
    {
     "name": "stdout",
     "output_type": "stream",
     "text": [
      "16.311807036386615\n",
      "25.85247192870844\n"
     ]
    }
   ],
   "source": [
    "ts = msprime.sim_ancestry(\n",
    "    samples=1, ploidy=2, random_seed=1, population_size=10,\n",
    "    model=msprime.BetaCoalescent(alpha=1.1))\n",
    "tree = ts.first()\n",
    "print(tree.tmrca(0,1))\n",
    "ts = msprime.sim_ancestry(\n",
    "    samples=1, ploidy=2, random_seed=1, population_size=1000,\n",
    "    model=msprime.BetaCoalescent(alpha=1.1))\n",
    "tree = ts.first()\n",
    "print(tree.tmrca(0,1))\n"
   ]
  },
  {
   "cell_type": "markdown",
   "id": "artistic-substitute",
   "metadata": {},
   "source": [
    "The Dirac-coalescent is simulated similarly in both the diploid case:"
   ]
  },
  {
   "cell_type": "code",
   "execution_count": 62,
   "id": "changed-tiffany",
   "metadata": {},
   "outputs": [
    {
     "data": {
      "image/svg+xml": [
       "<svg xmlns=\"http://www.w3.org/2000/svg\" xmlns:ev=\"http://www.w3.org/2001/xml-events\" xmlns:xlink=\"http://www.w3.org/1999/xlink\" baseProfile=\"full\" height=\"200\" version=\"1.1\" width=\"200\"><defs><style type=\"text/css\"><![CDATA[.axis {font-weight: bold}.tree, .axis {font-size: 14px; text-anchor:middle}.edge {stroke: black; fill: none}.node > .sym {fill: black; stroke: none}.tree text {dominant-baseline: middle}.tree .lab.lft {text-anchor: end}.tree .lab.rgt {text-anchor: start}.mut {fill: red; font-style: italic}]]></style></defs><g class=\"tree-sequence\"><g class=\"background\"><polygon fill=\"#F1F1F1\" points=\"20,185 20,180 20,160 20,0 180.0,0 180.0,160 180.0,180 180.0,185\"/></g><g class=\"trees\"><g class=\"treebox t0\" transform=\"translate(20 30)\"><g class=\"tree t0\"><g class=\"node n15 p0 root\" transform=\"translate(109.432 30.0)\"><g class=\"a15 node n12 p0\" transform=\"translate(21.4773 57.6642)\"><g class=\"a12 i0 leaf node n1 p0 sample\" transform=\"translate(-6.36364 22.3358)\"><path class=\"edge\" d=\"M 0 0 V -22.3358 H 6.36364\"/><circle class=\"sym\" cx=\"0\" cy=\"0\" r=\"3\"/><text class=\"lab\" transform=\"translate(0 12)\">1</text></g><g class=\"a12 i1 leaf node n2 p0 sample\" transform=\"translate(6.36364 22.3358)\"><path class=\"edge\" d=\"M 0 0 V -22.3358 H -6.36364\"/><circle class=\"sym\" cx=\"0\" cy=\"0\" r=\"3\"/><text class=\"lab\" transform=\"translate(0 12)\">2</text></g><path class=\"edge\" d=\"M 0 0 V -57.6642 H -21.4773\"/><circle class=\"sym\" cx=\"0\" cy=\"0\" r=\"3\"/><text class=\"lab rgt\" transform=\"translate(3 -6)\">12</text></g><g class=\"a15 node n14 p0\" transform=\"translate(-21.4773 30.2083)\"><g class=\"a14 i3 leaf node n6 p0 sample\" transform=\"translate(23.8636 49.7917)\"><path class=\"edge\" d=\"M 0 0 V -49.7917 H -23.8636\"/><circle class=\"sym\" cx=\"0\" cy=\"0\" r=\"3\"/><text class=\"lab\" transform=\"translate(0 12)\">6</text></g><g class=\"a14 node n13 p0\" transform=\"translate(-23.8636 11.418)\"><g class=\"a13 node n10 p0\" transform=\"translate(-22.2727 37.9002)\"><g class=\"a10 i0 leaf node n0 p0 sample\" transform=\"translate(-19.0909 0.473447)\"><path class=\"edge\" d=\"M 0 0 V -0.473447 H 19.0909\"/><circle class=\"sym\" cx=\"0\" cy=\"0\" r=\"3\"/><text class=\"lab\" transform=\"translate(0 12)\">0</text></g><g class=\"a10 i2 leaf node n5 p0 sample\" transform=\"translate(-6.36364 0.473447)\"><path class=\"edge\" d=\"M 0 0 V -0.473447 H 6.36364\"/><circle class=\"sym\" cx=\"0\" cy=\"0\" r=\"3\"/><text class=\"lab\" transform=\"translate(0 12)\">5</text></g><g class=\"a10 i3 leaf node n7 p0 sample\" transform=\"translate(6.36364 0.473447)\"><path class=\"edge\" d=\"M 0 0 V -0.473447 H -6.36364\"/><circle class=\"sym\" cx=\"0\" cy=\"0\" r=\"3\"/><text class=\"lab\" transform=\"translate(0 12)\">7</text></g><g class=\"a10 i4 leaf node n9 p0 sample\" transform=\"translate(19.0909 0.473447)\"><path class=\"edge\" d=\"M 0 0 V -0.473447 H -19.0909\"/><circle class=\"sym\" cx=\"0\" cy=\"0\" r=\"3\"/><text class=\"lab\" transform=\"translate(0 12)\">9</text></g><path class=\"edge\" d=\"M 0 0 V -37.9002 H 22.2727\"/><circle class=\"sym\" cx=\"0\" cy=\"0\" r=\"3\"/><text class=\"lab lft\" transform=\"translate(-3 -6)\">10</text></g><g class=\"a13 node n11 p0\" transform=\"translate(22.2727 37.9002)\"><g class=\"a11 i1 leaf node n3 p0 sample\" transform=\"translate(-12.7273 0.473447)\"><path class=\"edge\" d=\"M 0 0 V -0.473447 H 12.7273\"/><circle class=\"sym\" cx=\"0\" cy=\"0\" r=\"3\"/><text class=\"lab\" transform=\"translate(0 12)\">3</text></g><g class=\"a11 i2 leaf node n4 p0 sample\" transform=\"translate(0.0 0.473447)\"><path class=\"edge\" d=\"M 0 0 V -0.473447 H 0.0\"/><circle class=\"sym\" cx=\"0\" cy=\"0\" r=\"3\"/><text class=\"lab\" transform=\"translate(0 12)\">4</text></g><g class=\"a11 i4 leaf node n8 p0 sample\" transform=\"translate(12.7273 0.473447)\"><path class=\"edge\" d=\"M 0 0 V -0.473447 H -12.7273\"/><circle class=\"sym\" cx=\"0\" cy=\"0\" r=\"3\"/><text class=\"lab\" transform=\"translate(0 12)\">8</text></g><path class=\"edge\" d=\"M 0 0 V -37.9002 H -22.2727\"/><circle class=\"sym\" cx=\"0\" cy=\"0\" r=\"3\"/><text class=\"lab rgt\" transform=\"translate(3 -6)\">11</text></g><path class=\"edge\" d=\"M 0 0 V -11.418 H 23.8636\"/><circle class=\"sym\" cx=\"0\" cy=\"0\" r=\"3\"/><text class=\"lab lft\" transform=\"translate(-3 -6)\">13</text></g><path class=\"edge\" d=\"M 0 0 V -30.2083 H 21.4773\"/><circle class=\"sym\" cx=\"0\" cy=\"0\" r=\"3\"/><text class=\"lab lft\" transform=\"translate(-3 -6)\">14</text></g><circle class=\"sym\" cx=\"0\" cy=\"0\" r=\"3\"/><text class=\"lab\" transform=\"translate(0 -10)\">15</text></g></g></g></g><g class=\"axis\"><line stroke=\"black\" x1=\"20\" x2=\"180\" y1=\"180\" y2=\"180\"/><line stroke=\"black\" x1=\"20\" x2=\"20\" y1=\"180\" y2=\"185\"/><g transform=\"translate(20, 200)\"><text font-size=\"14\" font-weight=\"bold\" text-anchor=\"middle\">0</text></g><line stroke=\"black\" x1=\"180.0\" x2=\"180.0\" y1=\"180\" y2=\"185\"/><g transform=\"translate(180.0, 200)\"><text font-size=\"14\" font-weight=\"bold\" text-anchor=\"middle\">1</text></g></g></g></svg>"
      ],
      "text/plain": [
       "<IPython.core.display.SVG object>"
      ]
     },
     "execution_count": 62,
     "metadata": {
      "filenames": {
       "image/svg+xml": "/home/runner/work/tskit-site/tskit-site/docs/_build/jupyter_execute/ancestry_111_0.svg"
      }
     },
     "output_type": "execute_result"
    }
   ],
   "source": [
    "ts = msprime.sim_ancestry(\n",
    "    samples=5, ploidy=2, random_seed=1,\n",
    "    model=msprime.DiracCoalescent(psi=0.9, c=10))\n",
    "SVG(ts.draw_svg())\n"
   ]
  },
  {
   "cell_type": "markdown",
   "id": "concrete-cement",
   "metadata": {},
   "source": [
    "and in the haploid case:"
   ]
  },
  {
   "cell_type": "code",
   "execution_count": 63,
   "id": "lucky-diamond",
   "metadata": {},
   "outputs": [
    {
     "data": {
      "image/svg+xml": [
       "<svg xmlns=\"http://www.w3.org/2000/svg\" xmlns:ev=\"http://www.w3.org/2001/xml-events\" xmlns:xlink=\"http://www.w3.org/1999/xlink\" baseProfile=\"full\" height=\"200\" version=\"1.1\" width=\"200\"><defs><style type=\"text/css\"><![CDATA[.axis {font-weight: bold}.tree, .axis {font-size: 14px; text-anchor:middle}.edge {stroke: black; fill: none}.node > .sym {fill: black; stroke: none}.tree text {dominant-baseline: middle}.tree .lab.lft {text-anchor: end}.tree .lab.rgt {text-anchor: start}.mut {fill: red; font-style: italic}]]></style></defs><g class=\"tree-sequence\"><g class=\"background\"><polygon fill=\"#F1F1F1\" points=\"20,185 20,180 20,160 20,0 180.0,0 180.0,160 180.0,180 180.0,185\"/></g><g class=\"trees\"><g class=\"treebox t0\" transform=\"translate(20 30)\"><g class=\"tree t0\"><g class=\"node n11 p0 root\" transform=\"translate(105.455 30.0)\"><g class=\"a11 i1 leaf node n1 p0 sample\" transform=\"translate(31.8182 80.0)\"><path class=\"edge\" d=\"M 0 0 V -80.0 H -31.8182\"/><circle class=\"sym\" cx=\"0\" cy=\"0\" r=\"3\"/><text class=\"lab\" transform=\"translate(0 12)\">1</text></g><g class=\"a11 node n10 p0\" transform=\"translate(-31.8182 65.5816)\"><g class=\"a10 i0 leaf node n0 p0 sample\" transform=\"translate(-50.9091 14.4184)\"><path class=\"edge\" d=\"M 0 0 V -14.4184 H 50.9091\"/><circle class=\"sym\" cx=\"0\" cy=\"0\" r=\"3\"/><text class=\"lab\" transform=\"translate(0 12)\">0</text></g><g class=\"a10 i2 leaf node n2 p0 sample\" transform=\"translate(-38.1818 14.4184)\"><path class=\"edge\" d=\"M 0 0 V -14.4184 H 38.1818\"/><circle class=\"sym\" cx=\"0\" cy=\"0\" r=\"3\"/><text class=\"lab\" transform=\"translate(0 12)\">2</text></g><g class=\"a10 i3 leaf node n3 p0 sample\" transform=\"translate(-25.4545 14.4184)\"><path class=\"edge\" d=\"M 0 0 V -14.4184 H 25.4545\"/><circle class=\"sym\" cx=\"0\" cy=\"0\" r=\"3\"/><text class=\"lab\" transform=\"translate(0 12)\">3</text></g><g class=\"a10 i4 leaf node n4 p0 sample\" transform=\"translate(-12.7273 14.4184)\"><path class=\"edge\" d=\"M 0 0 V -14.4184 H 12.7273\"/><circle class=\"sym\" cx=\"0\" cy=\"0\" r=\"3\"/><text class=\"lab\" transform=\"translate(0 12)\">4</text></g><g class=\"a10 i5 leaf node n5 p0 sample\" transform=\"translate(0.0 14.4184)\"><path class=\"edge\" d=\"M 0 0 V -14.4184 H 0.0\"/><circle class=\"sym\" cx=\"0\" cy=\"0\" r=\"3\"/><text class=\"lab\" transform=\"translate(0 12)\">5</text></g><g class=\"a10 i6 leaf node n6 p0 sample\" transform=\"translate(12.7273 14.4184)\"><path class=\"edge\" d=\"M 0 0 V -14.4184 H -12.7273\"/><circle class=\"sym\" cx=\"0\" cy=\"0\" r=\"3\"/><text class=\"lab\" transform=\"translate(0 12)\">6</text></g><g class=\"a10 i7 leaf node n7 p0 sample\" transform=\"translate(25.4545 14.4184)\"><path class=\"edge\" d=\"M 0 0 V -14.4184 H -25.4545\"/><circle class=\"sym\" cx=\"0\" cy=\"0\" r=\"3\"/><text class=\"lab\" transform=\"translate(0 12)\">7</text></g><g class=\"a10 i8 leaf node n8 p0 sample\" transform=\"translate(38.1818 14.4184)\"><path class=\"edge\" d=\"M 0 0 V -14.4184 H -38.1818\"/><circle class=\"sym\" cx=\"0\" cy=\"0\" r=\"3\"/><text class=\"lab\" transform=\"translate(0 12)\">8</text></g><g class=\"a10 i9 leaf node n9 p0 sample\" transform=\"translate(50.9091 14.4184)\"><path class=\"edge\" d=\"M 0 0 V -14.4184 H -50.9091\"/><circle class=\"sym\" cx=\"0\" cy=\"0\" r=\"3\"/><text class=\"lab\" transform=\"translate(0 12)\">9</text></g><path class=\"edge\" d=\"M 0 0 V -65.5816 H 31.8182\"/><circle class=\"sym\" cx=\"0\" cy=\"0\" r=\"3\"/><text class=\"lab lft\" transform=\"translate(-3 -6)\">10</text></g><circle class=\"sym\" cx=\"0\" cy=\"0\" r=\"3\"/><text class=\"lab\" transform=\"translate(0 -10)\">11</text></g></g></g></g><g class=\"axis\"><line stroke=\"black\" x1=\"20\" x2=\"180\" y1=\"180\" y2=\"180\"/><line stroke=\"black\" x1=\"20\" x2=\"20\" y1=\"180\" y2=\"185\"/><g transform=\"translate(20, 200)\"><text font-size=\"14\" font-weight=\"bold\" text-anchor=\"middle\">0</text></g><line stroke=\"black\" x1=\"180.0\" x2=\"180.0\" y1=\"180\" y2=\"185\"/><g transform=\"translate(180.0, 200)\"><text font-size=\"14\" font-weight=\"bold\" text-anchor=\"middle\">1</text></g></g></g></svg>"
      ],
      "text/plain": [
       "<IPython.core.display.SVG object>"
      ]
     },
     "execution_count": 63,
     "metadata": {
      "filenames": {
       "image/svg+xml": "/home/runner/work/tskit-site/tskit-site/docs/_build/jupyter_execute/ancestry_113_0.svg"
      }
     },
     "output_type": "execute_result"
    }
   ],
   "source": [
    "ts = msprime.sim_ancestry(\n",
    "    samples=10, ploidy=1, random_seed=1,\n",
    "    model=msprime.DiracCoalescent(psi=0.9, c=10))\n",
    "SVG(ts.draw_svg())\n"
   ]
  },
  {
   "cell_type": "markdown",
   "id": "vocational-novelty",
   "metadata": {},
   "source": [
    "As with the Beta-coalescent, a haploid simulation results in larger individual\n",
    "mergers than a polyploid simulation because large mergers typically get broken\n",
    "up into multiple simultaneous mergers in the polyploid model. Larger values\n",
    "of the parameter {math}`c > 0` result in more frequent multiple mergers,\n",
    "while larger values of {math}`0 < \\psi \\leq 1` result in multiple mergers\n",
    "with more participating lineages. Setting either parameter to 0 would correspond\n",
    "to the standard coalescent.\n",
    "\n",
    "The Dirac-coalescent is obtained as the infinite population scaling limit of\n",
    "Moran models, and therefore branch lengths are proportional to {math}`N^2`\n",
    "generations, as opposed to {math}`N` generations under the standard coalescent."
   ]
  },
  {
   "cell_type": "code",
   "execution_count": 64,
   "id": "moral-muslim",
   "metadata": {},
   "outputs": [
    {
     "name": "stdout",
     "output_type": "stream",
     "text": [
      "64.7216732891741\n",
      "6472.167328917411\n"
     ]
    }
   ],
   "source": [
    "ts = msprime.sim_ancestry(\n",
    "    samples=1, ploidy=2, random_seed=1, population_size=10,\n",
    "    model=msprime.DiracCoalescent(psi=0.1, c=1))\n",
    "tree = ts.first()\n",
    "print(tree.tmrca(0,1))\n",
    "ts = msprime.sim_ancestry(\n",
    "    samples=1, ploidy=2, random_seed=1, population_size=100,\n",
    "    model=msprime.DiracCoalescent(psi=0.1, c=1))\n",
    "tree = ts.first()\n",
    "print(tree.tmrca(0,1))\n"
   ]
  },
  {
   "cell_type": "markdown",
   "id": "occupational-rings",
   "metadata": {},
   "source": [
    "(sec_ancestry_models_selective_sweeps)=\n",
    "\n",
    "### Selective sweeps\n",
    "\n",
    "```{eval-rst}\n",
    ".. todo:: Document the selective sweep models.\n",
    "```\n",
    "\n",
    "```{eval-rst}\n",
    ".. todo:: examples of the selective sweeps models. We want to have\n",
    "    a single sweep reverting to Hudson, and also lots of sweeps.\n",
    "```\n",
    "\n",
    "(sec_ancestry_models_multiple_models)=\n",
    "\n",
    "### Multiple models\n",
    "\n",
    "```{eval-rst}\n",
    ".. todo:: This is copied from the old tutorial and is out of date now.\n",
    "    Update the to use the new model=[(time, model)]`` syntax.\n",
    "    It's also too focused on the DTWF model.\n",
    "```\n",
    "\n",
    "In some situations Wright-Fisher simulations are desireable but less\n",
    "computationally efficient than coalescent simulations, for example simulating a\n",
    "small sample in a recently admixed population. In these cases, a hybrid model\n",
    "offers an excellent tradeoff between simulation accuracy and performance.\n",
    "\n",
    "This is done through a {class}`.SimulationModelChange` event, which is a special type of\n",
    "demographic event.\n",
    "\n",
    "For example, here we switch from the discrete-time Wright-Fisher model to the\n",
    "standard Hudson coalescent 500 generations in the past:"
   ]
  },
  {
   "cell_type": "code",
   "execution_count": 65,
   "id": "emotional-yesterday",
   "metadata": {},
   "outputs": [
    {
     "name": "stdout",
     "output_type": "stream",
     "text": [
      "id\tflags\tpopulation\tindividual\ttime\tmetadata\n",
      "0\t1\t0\t-1\t0.00000000000000\t\n",
      "1\t1\t0\t-1\t0.00000000000000\t\n",
      "2\t1\t0\t-1\t0.00000000000000\t\n",
      "3\t1\t0\t-1\t0.00000000000000\t\n",
      "4\t1\t0\t-1\t0.00000000000000\t\n",
      "5\t1\t0\t-1\t0.00000000000000\t\n",
      "6\t0\t0\t-1\t78.00000000000000\t\n",
      "7\t0\t0\t-1\t227.00000000000000\t\n",
      "8\t0\t0\t-1\t261.00000000000000\t\n",
      "9\t0\t0\t-1\t272.00000000000000\t\n",
      "10\t0\t0\t-1\t1629.06982528980075\t\n"
     ]
    }
   ],
   "source": [
    "ts = msprime.simulate(\n",
    "    sample_size=6, Ne=1000, model=\"dtwf\", random_seed=2,\n",
    "    demographic_events=[\n",
    "        msprime.SimulationModelChange(time=500, model=\"hudson\")])\n",
    "print(ts.tables.nodes)\n",
    "# id      flags   population      individual      time    metadata\n",
    "# 0       1       0       -1      0.00000000000000\n",
    "# 1       1       0       -1      0.00000000000000\n",
    "# 2       1       0       -1      0.00000000000000\n",
    "# 3       1       0       -1      0.00000000000000\n",
    "# 4       1       0       -1      0.00000000000000\n",
    "# 5       1       0       -1      0.00000000000000\n",
    "# 6       0       0       -1      78.00000000000000\n",
    "# 7       0       0       -1      227.00000000000000\n",
    "# 8       0       0       -1      261.00000000000000\n",
    "# 9       0       0       -1      272.00000000000000\n",
    "#10      0       0       -1      1629.06982528980075\n"
   ]
  },
  {
   "cell_type": "markdown",
   "id": "steady-disney",
   "metadata": {},
   "source": [
    "Because of the integer node times, we can see here that most of the coalescent\n",
    "happened during the Wright-Fisher phase of the simulation, and as-of 500\n",
    "generations in the past, there were only two lineages left. The continuous\n",
    "time standard coalescent model was then used to simulate the ancient past of\n",
    "these two lineages.\n",
    "\n",
    "## Notes for ms users\n",
    "\n",
    "```{eval-rst}\n",
    ".. todo:: This is copied from the old api.rst page and needs some updating.\n",
    "```\n",
    "\n",
    "The simulation model in `msprime` closely follows the classical `ms`\n",
    "program. Unlike `ms`, however, time is measured in generations rather than\n",
    "in units of {math}`4 N_e` generations, i.e., \"coalescent units\".\n",
    "This means that when simulating a population with diploid effective size {math}`N_e`,\n",
    "the mean time to coalescence between two samples\n",
    "in an `msprime` simulation will be around {math}`2 N_e`,\n",
    "while in an `ms` simulation, the mean time will be around {math}`0.5`.\n",
    "Internally, `msprime` uses the same algorithm as `ms`,\n",
    "and so the `Ne` parameter to the {func}`.simulate` function\n",
    "still acts as a time scaling, and can be set to `0.5` to match many theoretical results,\n",
    "or to `0.25` to match `ms`. Population sizes for each\n",
    "subpopulation and for past demographic events are also defined as absolute values, **not**\n",
    "scaled by `Ne`. All migration rates and growth rates are also per generation.\n",
    "\n",
    ":::{warning}\n",
    "\n",
    "This parameterisation of recombination, mutation and\n",
    "migration rates is different to {program}`ms`, which states these\n",
    "rates over the entire region and in coalescent time units. The\n",
    "motivation for this is to allow the user change the size of the simulated\n",
    "region without having to rescale the recombination, gene conversion, and mutation rates,\n",
    "and to also allow users directly state times and rates in units of\n",
    "generations. However, the `mspms` command line application is\n",
    "fully {program}`ms` compatible.\n",
    "If recombination and gene conversion are combined the gene conversion\n",
    "rate in {program}`ms` is determined by the ratio {math}`f`, which corresponds to\n",
    "setting {math}`g = f r`. In `msprime` the gene conversion rate {math}`g` is\n",
    "set independently and does not depend on the recombination rate. However,\n",
    "`mspms` mimics the {program}`ms` behaviour.\n",
    "\n",
    ":::"
   ]
  }
 ],
 "metadata": {
  "jupytext": {
   "text_representation": {
    "extension": ".md",
    "format_name": "myst",
    "format_version": 0.12,
    "jupytext_version": "1.9.1"
   }
  },
  "kernelspec": {
   "display_name": "Python 3",
   "language": "python",
   "name": "python3"
  },
  "language_info": {
   "codemirror_mode": {
    "name": "ipython",
    "version": 3
   },
   "file_extension": ".py",
   "mimetype": "text/x-python",
   "name": "python",
   "nbconvert_exporter": "python",
   "pygments_lexer": "ipython3",
   "version": "3.8.7"
  },
  "source_map": [
   15,
   23,
   41,
   44,
   95,
   99,
   116,
   119,
   140,
   148,
   155,
   163,
   177,
   186,
   200,
   210,
   231,
   240,
   290,
   295,
   304,
   308,
   345,
   349,
   355,
   360,
   365,
   372,
   376,
   382,
   389,
   401,
   405,
   410,
   417,
   424,
   427,
   432,
   440,
   444,
   472,
   476,
   486,
   493,
   497,
   504,
   508,
   518,
   527,
   531,
   539,
   548,
   552,
   558,
   568,
   572,
   578,
   591,
   596,
   618,
   628,
   645,
   653,
   662,
   670,
   690,
   694,
   712,
   721,
   728,
   733,
   739,
   744,
   751,
   755,
   764,
   776,
   805,
   809,
   821,
   829,
   866,
   870,
   891,
   902,
   912,
   915,
   924,
   929,
   937,
   941,
   953,
   957,
   969,
   973,
   1049,
   1053,
   1073,
   1081,
   1131,
   1135,
   1139,
   1146,
   1153,
   1160,
   1165,
   1172,
   1190,
   1203,
   1207,
   1220,
   1224,
   1231,
   1235,
   1242,
   1256,
   1269,
   1305,
   1325
  ]
 },
 "nbformat": 4,
 "nbformat_minor": 5
}